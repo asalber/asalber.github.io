{
 "cells": [
  {
   "cell_type": "markdown",
   "metadata": {},
   "source": [
    "## Ejercicio \n",
    "\n",
    "Escribir un programa que pida al usuario dos números enteros y muestre por pantalla la `<n> entre <m> da un cociente <c> y un resto <r>` donde `<n>` y `<m>` son los números introducidos por el usuario, y `<c>` y `<r>` son el cociente y el resto de la división entera respectivamente."
   ]
  },
  {
   "cell_type": "markdown",
   "metadata": {},
   "source": [
    "## Solución"
   ]
  },
  {
   "cell_type": "code",
   "execution_count": 4,
   "metadata": {},
   "outputs": [
    {
     "name": "stdin",
     "output_type": "stream",
     "text": [
      "Introduce el dividendo (entero):  27\n",
      "Introduce el divisor (entero):  4\n"
     ]
    },
    {
     "name": "stdout",
     "output_type": "stream",
     "text": [
      "27 entre 4 da un cociente 6 y un resto 3\n"
     ]
    }
   ],
   "source": [
    "n = input(\"Introduce el dividendo (entero): \")\n",
    "m = input(\"Introduce el divisor (entero): \")\n",
    "print(n + \" entre \" +  m + \" da un cociente \" + str(int(n) // int(m)) + \" y un resto \" + str(int(n) % int(m)))"
   ]
  },
  {
   "cell_type": "code",
   "execution_count": null,
   "metadata": {},
   "outputs": [],
   "source": []
  }
 ],
 "metadata": {
  "kernelspec": {
   "display_name": "Python 3",
   "language": "python",
   "name": "python3"
  },
  "language_info": {
   "codemirror_mode": {
    "name": "ipython",
    "version": 3
   },
   "file_extension": ".py",
   "mimetype": "text/x-python",
   "name": "python",
   "nbconvert_exporter": "python",
   "pygments_lexer": "ipython3",
   "version": "3.7.1"
  }
 },
 "nbformat": 4,
 "nbformat_minor": 2
}
