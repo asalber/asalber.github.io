{
 "cells": [
  {
   "cell_type": "markdown",
   "metadata": {},
   "source": [
    "# Ejercicio \n",
    "\n",
    "El objetivo de este trabajo es comprobar si se está utilizando la plataforma Airbnb por parte de empresas, en lugar de particulares, para alquiler turístico en el centro de Madrid.\n",
    "\n",
    "### Conjunto de datos\n",
    "\n",
    "Datos abiertos de Inside Airbnb: <a href=\"../datos/madrid-airbnb-listings.csv\">Fichero alojamientos Madrid detallado</a>."
   ]
  },
  {
   "cell_type": "markdown",
   "metadata": {},
   "source": [
    "# Solución"
   ]
  },
  {
   "cell_type": "markdown",
   "metadata": {},
   "source": [
    "## Sin usar Pandas"
   ]
  },
  {
   "cell_type": "markdown",
   "metadata": {},
   "source": [
    "1. Extraer del fichero de alojamientos una lista con todos los alojamientos, donde cada alojamiento sea un diccionario que contenga el identificador del alojamiento, el identificador del anfitrión, el distrito, el precio y las plazas."
   ]
  },
  {
   "cell_type": "code",
   "execution_count": 14,
   "metadata": {},
   "outputs": [
    {
     "output_type": "stream",
     "name": "stdout",
     "text": "{'id': '40718', 'id_anfitrion': '175752', 'distrito': 'Centro', 'plazas': '4', 'precio': '$55.00'}\n"
    }
   ],
   "source": [
    "f = open('../datos/madrid-airbnb-listings2.csv')\n",
    "lineas = f.readlines()\n",
    "f.close()\n",
    "# Columnas a extraer: identificador alojamiento (0), identificador anfitrión (19), distrito (40), precio (60) y plazas (53)\n",
    "alojamientos = []\n",
    "for linea in lineas:\n",
    "    x = linea.split('\\t')\n",
    "    alojamiento = {'id':x[0], 'id_anfitrion':x[19], 'distrito':x[40], 'plazas':x[53], 'precio':x[60]}\n",
    "    alojamientos.append(alojamiento)\n",
    "print(alojamientos[10])\n",
    "\n",
    ""
   ]
  },
  {
   "cell_type": "code",
   "execution_count": null,
   "metadata": {},
   "outputs": [],
   "source": []
  },
  {
   "cell_type": "code",
   "execution_count": null,
   "metadata": {},
   "outputs": [],
   "source": []
  }
 ],
 "metadata": {
  "kernelspec": {
   "display_name": "Python 3",
   "language": "python",
   "name": "python3"
  },
  "language_info": {
   "codemirror_mode": {
    "name": "ipython",
    "version": 3
   },
   "file_extension": ".py",
   "mimetype": "text/x-python",
   "name": "python",
   "nbconvert_exporter": "python",
   "pygments_lexer": "ipython3",
   "version": "3.7.6-final"
  }
 },
 "nbformat": 4,
 "nbformat_minor": 2
}