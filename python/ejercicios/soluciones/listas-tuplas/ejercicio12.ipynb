{
 "cells": [
  {
   "cell_type": "markdown",
   "metadata": {},
   "source": [
    "## Ejercicio\n",
    "\n",
    "Escribir un programa que almacene las matrices\n",
    "\n",
    "$$\n",
    "A = \\left(\n",
    "  \\begin{array}{rrr}\n",
    "  1 & 2 & 3\\\\\n",
    "  4 & 5 & 6\n",
    "  \\end{array}\n",
    "  \\right)\n",
    "  \\quad  y\n",
    "  \\quad\n",
    "  B = \\left(\n",
    "  \\begin{array}{rr}\n",
    "  -1 & 0\\\\\n",
    "  0 & 1\\\\\n",
    "  1 & 1\n",
    "  \\end{array}\n",
    "  \\right)\n",
    "$$\n",
    "\n",
    "en una tupla y muestre por pantalla su producto.  \n",
    "Nota: Para representar matrices mediante tuplas usar tuplas anidadas, representando cada vector fila en una tupla."
   ]
  },
  {
   "cell_type": "markdown",
   "metadata": {},
   "source": [
    "## Solución"
   ]
  },
  {
   "cell_type": "code",
   "execution_count": 7,
   "metadata": {},
   "outputs": [
    {
     "name": "stdout",
     "output_type": "stream",
     "text": [
      "(2, 5)\n",
      "(2, 11)\n"
     ]
    }
   ],
   "source": [
    "a = ((1, 2, 3),\n",
    "     (4, 5, 6))\n",
    "b = ((-1, 0),\n",
    "     (0, 1),\n",
    "     (1,1))\n",
    "result = [[0,0],\n",
    "          [0,0]]\n",
    "for i in range(len(a)):\n",
    "    for j in range(len(b[0])):\n",
    "        for k in range(len(b)):\n",
    "            result[i][j] += a[i][k] * b[k][j]\n",
    "for i in range(len(result)):\n",
    "    result[i] = tuple(result[i])\n",
    "result = tuple(result)\n",
    "for i in range(len(result)):\n",
    "    print(result[i])"
   ]
  }
 ],
 "metadata": {
  "kernelspec": {
   "display_name": "Python 3",
   "language": "python",
   "name": "python3"
  },
  "language_info": {
   "codemirror_mode": {
    "name": "ipython",
    "version": 3
   },
   "file_extension": ".py",
   "mimetype": "text/x-python",
   "name": "python",
   "nbconvert_exporter": "python",
   "pygments_lexer": "ipython3",
   "version": "3.7.1"
  }
 },
 "nbformat": 4,
 "nbformat_minor": 2
}
