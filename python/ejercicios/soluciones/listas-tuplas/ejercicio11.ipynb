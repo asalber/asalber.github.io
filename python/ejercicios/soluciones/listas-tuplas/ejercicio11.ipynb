{
 "cells": [
  {
   "cell_type": "markdown",
   "metadata": {},
   "source": [
    "## Ejercicio\n",
    "\n",
    "Escribir un programa que almacene los vectores (1,2,3) y (-1,0,2) en dos tuplas y muestre por pantalla su producto escalar."
   ]
  },
  {
   "cell_type": "markdown",
   "metadata": {},
   "source": [
    "## Solución"
   ]
  },
  {
   "cell_type": "code",
   "execution_count": 1,
   "metadata": {},
   "outputs": [
    {
     "name": "stdout",
     "output_type": "stream",
     "text": [
      "El producto de los vectores(1, 2, 3) y (-1, 0, 2) es 5\n"
     ]
    }
   ],
   "source": [
    "a = (1, 2, 3)\n",
    "b = (-1, 0, 2)\n",
    "product = 0\n",
    "for i in range(len(a)):\n",
    "    product += a[i]*b[i]\n",
    "print(\"El producto de los vectores\" + str(a) + \" y \" + str(b) + \" es \" + str(product)) "
   ]
  }
 ],
 "metadata": {
  "kernelspec": {
   "display_name": "Python 3",
   "language": "python",
   "name": "python3"
  },
  "language_info": {
   "codemirror_mode": {
    "name": "ipython",
    "version": 3
   },
   "file_extension": ".py",
   "mimetype": "text/x-python",
   "name": "python",
   "nbconvert_exporter": "python",
   "pygments_lexer": "ipython3",
   "version": "3.7.1"
  }
 },
 "nbformat": 4,
 "nbformat_minor": 2
}
