{
 "cells": [
  {
   "cell_type": "markdown",
   "metadata": {},
   "source": [
    "## Ejercicio \n",
    "\n",
    "Escribir un programa que pregunte por una muestra de números, separados por comas, los guarde en una tupla y muestre por pantalla su media y desviación típica."
   ]
  },
  {
   "cell_type": "markdown",
   "metadata": {},
   "source": [
    "## Solución"
   ]
  },
  {
   "cell_type": "code",
   "execution_count": 9,
   "metadata": {},
   "outputs": [
    {
     "name": "stdin",
     "output_type": "stream",
     "text": [
      "Introduce una muestra de números separados por comas:  1, 2, 3, 4, 5\n"
     ]
    },
    {
     "name": "stdout",
     "output_type": "stream",
     "text": [
      "La media es 3.0 , y la desviación típica es 1.4142135623730951\n"
     ]
    }
   ],
   "source": [
    "sample = input(\"Introduce una muestra de números separados por comas: \")\n",
    "sample = sample.split(',')\n",
    "n = len(sample)\n",
    "for i in range(n):\n",
    "    sample[i] = int(sample[i])\n",
    "sample = tuple(sample)\n",
    "sum = 0\n",
    "sumsq = 0\n",
    "for i in sample:\n",
    "    sum += i\n",
    "    sumsq += i**2\n",
    "mean = sum/n\n",
    "stdev = (sumsq/n-mean**2)**(1/2)\n",
    "print('La media es', mean, ', y la desviación típica es', stdev)"
   ]
  }
 ],
 "metadata": {
  "kernelspec": {
   "display_name": "Python 3",
   "language": "python",
   "name": "python3"
  },
  "language_info": {
   "codemirror_mode": {
    "name": "ipython",
    "version": 3
   },
   "file_extension": ".py",
   "mimetype": "text/x-python",
   "name": "python",
   "nbconvert_exporter": "python",
   "pygments_lexer": "ipython3",
   "version": "3.6.8"
  }
 },
 "nbformat": 4,
 "nbformat_minor": 2
}
