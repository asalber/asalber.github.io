{
 "cells": [
  {
   "cell_type": "markdown",
   "metadata": {},
   "source": [
    "## Ejercicio\n",
    "\n",
    "Escribir un programa que pregunte al usuario los números ganadores de la lotería primitiva, los almacene en una lista y los muestre por pantalla ordenados de menor a mayor."
   ]
  },
  {
   "cell_type": "markdown",
   "metadata": {},
   "source": [
    "## Solución 1"
   ]
  },
  {
   "cell_type": "code",
   "execution_count": 14,
   "metadata": {},
   "outputs": [
    {
     "name": "stdin",
     "output_type": "stream",
     "text": [
      "Introduce un número ganador:  46\n",
      "Introduce un número ganador:  25\n",
      "Introduce un número ganador:  32\n",
      "Introduce un número ganador:  15\n",
      "Introduce un número ganador:  9\n",
      "Introduce un número ganador:  21\n"
     ]
    },
    {
     "name": "stdout",
     "output_type": "stream",
     "text": [
      "Los números ganadores son [9, 15, 21, 25, 32, 46]\n"
     ]
    }
   ],
   "source": [
    "awarded = []\n",
    "for i in range(6):\n",
    "    awarded.append(int(input(\"Introduce un número ganador: \")))\n",
    "awarded.sort()\n",
    "print(\"Los números ganadores son \" + str(awarded))"
   ]
  }
 ],
 "metadata": {
  "kernelspec": {
   "display_name": "Python 3",
   "language": "python",
   "name": "python3"
  },
  "language_info": {
   "codemirror_mode": {
    "name": "ipython",
    "version": 3
   },
   "file_extension": ".py",
   "mimetype": "text/x-python",
   "name": "python",
   "nbconvert_exporter": "python",
   "pygments_lexer": "ipython3",
   "version": "3.7.1"
  }
 },
 "nbformat": 4,
 "nbformat_minor": 2
}
