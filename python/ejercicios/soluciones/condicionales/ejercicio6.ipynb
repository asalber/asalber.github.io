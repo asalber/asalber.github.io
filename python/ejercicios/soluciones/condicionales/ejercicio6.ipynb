{
 "cells": [
  {
   "cell_type": "markdown",
   "metadata": {},
   "source": [
    "## Ejercicio \n",
    "Los alumnos de un curso se han dividido en dos grupos A y B de acuerdo al sexo y el nombre. El grupo A esta formado por las mujeres con un nombre anterior a la M y los hombres con un nombre posterior a la N y el grupo B por el resto.\n",
    "Escribir un programa que pregunte al usuario su nombre y sexo, y muestre por pantalla el grupo que le corresponde.\n"
   ]
  },
  {
   "cell_type": "markdown",
   "metadata": {},
   "source": [
    "## Solución 1"
   ]
  },
  {
   "cell_type": "code",
   "execution_count": 1,
   "metadata": {},
   "outputs": [
    {
     "name": "stdin",
     "output_type": "stream",
     "text": [
      "¿Cómo te llamas?  Alf\n",
      "¿Cuál es tu sexo (M o H)?  H\n"
     ]
    },
    {
     "name": "stdout",
     "output_type": "stream",
     "text": [
      "Tu grupo es B\n"
     ]
    }
   ],
   "source": [
    "name = input(\"¿Cómo te llamas? \")\n",
    "gender = input(\"¿Cuál es tu sexo (M o H)? \")\n",
    "if gender == \"M\":\n",
    "    if name.lower() < \"m\":\n",
    "        group = \"A\"\n",
    "    else:\n",
    "        group = \"B\"\n",
    "else:\n",
    "    if name.lower() > \"n\":\n",
    "        group = \"A\"\n",
    "    else:\n",
    "        group = \"B\"\n",
    "print(\"Tu grupo es \" + group)"
   ]
  },
  {
   "cell_type": "markdown",
   "metadata": {},
   "source": [
    "## Solución 2"
   ]
  },
  {
   "cell_type": "code",
   "execution_count": 3,
   "metadata": {},
   "outputs": [
    {
     "name": "stdin",
     "output_type": "stream",
     "text": [
      "¿Cómo te llamas?  Carmen\n",
      "¿Cuál es tu sexo (M o H)?  M\n"
     ]
    },
    {
     "name": "stdout",
     "output_type": "stream",
     "text": [
      "Tu grupo es A\n"
     ]
    }
   ],
   "source": [
    "name = input(\"¿Cómo te llamas? \")\n",
    "gender = input(\"¿Cuál es tu sexo (M o H)? \")\n",
    "if (gender == \"M\" and name.lower() < 'm') or (gender == \"H\" and name.lower() > 'n'):\n",
    "    group = \"A\"\n",
    "else:\n",
    "    group = \"B\"\n",
    "print(\"Tu grupo es \" + group)"
   ]
  }
 ],
 "metadata": {
  "kernelspec": {
   "display_name": "Python 3",
   "language": "python",
   "name": "python3"
  },
  "language_info": {
   "codemirror_mode": {
    "name": "ipython",
    "version": 3
   },
   "file_extension": ".py",
   "mimetype": "text/x-python",
   "name": "python",
   "nbconvert_exporter": "python",
   "pygments_lexer": "ipython3",
   "version": "3.7.1"
  }
 },
 "nbformat": 4,
 "nbformat_minor": 2
}
