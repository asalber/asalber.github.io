{
 "cells": [
  {
   "cell_type": "markdown",
   "metadata": {},
   "source": [
    "## Ejercicio \n",
    "\n",
    "Para tributar un determinado impuesto se debe ser mayor de 16 años y tener unos ingresos superiores a 1000 € mensuales.\n",
    "Escribir un programa que pregunte al usuario su edad y sus ingresos mensuales y muestre por pantalla si el usuario tiene que tributar o no.\n"
   ]
  },
  {
   "cell_type": "markdown",
   "metadata": {},
   "source": [
    "## Solución 1"
   ]
  },
  {
   "cell_type": "code",
   "execution_count": 5,
   "metadata": {},
   "outputs": [
    {
     "name": "stdin",
     "output_type": "stream",
     "text": [
      "¿Cuál es tu edad?  17\n",
      "¿Cuales son tus ingresos mensuales? 1000\n"
     ]
    },
    {
     "name": "stdout",
     "output_type": "stream",
     "text": [
      "Tienes que cotizar\n"
     ]
    }
   ],
   "source": [
    "age = int(input(\"¿Cuál es tu edad? \"))\n",
    "income = float(input(\"¿Cuales son tus ingresos mensuales?\"))\n",
    "if age > 16 and income >= 1000:\n",
    "    print(\"Tienes que cotizar\")\n",
    "else:\n",
    "    print(\"No tienes que cotizar\")"
   ]
  },
  {
   "cell_type": "markdown",
   "metadata": {},
   "source": [
    "## Solución 2"
   ]
  },
  {
   "cell_type": "code",
   "execution_count": 6,
   "metadata": {},
   "outputs": [
    {
     "name": "stdin",
     "output_type": "stream",
     "text": [
      "¿Cuál es tu edad?  16\n",
      "¿Cuales son tus ingresos mensuales? 10000\n"
     ]
    },
    {
     "name": "stdout",
     "output_type": "stream",
     "text": [
      "No tienes que cotizar\n"
     ]
    }
   ],
   "source": [
    "age = int(input(\"¿Cuál es tu edad? \"))\n",
    "income = float(input(\"¿Cuales son tus ingresos mensuales?\"))\n",
    "if age <= 16 or income < 1000:\n",
    "    print(\"No tienes que cotizar\")\n",
    "else:\n",
    "    print(\"Tienes que cotizar\")"
   ]
  }
 ],
 "metadata": {
  "kernelspec": {
   "display_name": "Python 3",
   "language": "python",
   "name": "python3"
  },
  "language_info": {
   "codemirror_mode": {
    "name": "ipython",
    "version": 3
   },
   "file_extension": ".py",
   "mimetype": "text/x-python",
   "name": "python",
   "nbconvert_exporter": "python",
   "pygments_lexer": "ipython3",
   "version": "3.7.1"
  }
 },
 "nbformat": 4,
 "nbformat_minor": 2
}
