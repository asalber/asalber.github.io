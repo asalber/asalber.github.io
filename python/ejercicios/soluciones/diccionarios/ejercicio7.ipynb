{
 "cells": [
  {
   "cell_type": "markdown",
   "metadata": {},
   "source": [
    "## Ejercicio \n",
    "\n",
    "Escribir un programa que cree un diccionario simulando una cesta de la compra. El programa debe preguntar el artículo y su precio y añadir el par al diccionario, hasta que el usuario decida terminar. Después se debe mostrar por pantalla la lista de la compra y el coste total, con el siguiente formato\n",
    "\n",
    "|Lista de la compra| |\n",
    "|:-|-:|\n",
    "|Artículo 1 | Precio|\n",
    "|Artículo 2 | Precio|\n",
    "|Artículo 3 | Precio|\n",
    "|...| ...|\n",
    "|Total| Coste|\n"
   ]
  },
  {
   "cell_type": "markdown",
   "metadata": {},
   "source": [
    "## Solución"
   ]
  },
  {
   "cell_type": "code",
   "execution_count": 5,
   "metadata": {},
   "outputs": [
    {
     "name": "stdin",
     "output_type": "stream",
     "text": [
      "Introduce un artículo:  Ordenador\n",
      "Introduce el precio de Ordenador:  450.5\n",
      "¿Quieres añadir artículos a la lista (Si/No)?  Si\n",
      "Introduce un artículo:  Tablet\n",
      "Introduce el precio de Tablet:  230\n",
      "¿Quieres añadir artículos a la lista (Si/No)?  Si\n",
      "Introduce un artículo:  Teléfono\n",
      "Introduce el precio de Teléfono:  121.2\n",
      "¿Quieres añadir artículos a la lista (Si/No)?  No\n"
     ]
    },
    {
     "name": "stdout",
     "output_type": "stream",
     "text": [
      "Lista de la compra\n",
      "Ordenador \t 450.5\n",
      "Tablet \t 230.0\n",
      "Teléfono \t 121.2\n",
      "Coste total:  801.7\n"
     ]
    }
   ],
   "source": [
    "basket = {}\n",
    "more = 'Si'\n",
    "while more == 'Si':\n",
    "    item = input('Introduce un artículo: ')\n",
    "    price = float(input('Introduce el precio de ' + item + ': '))\n",
    "    basket[item] = price\n",
    "    more = input('¿Quieres añadir artículos a la lista (Si/No)? ')\n",
    "cost = 0\n",
    "print('Lista de la compra')\n",
    "for item, price in basket.items():\n",
    "    print(item, '\\t', price)\n",
    "    cost += price\n",
    "print('Coste total: ', cost)"
   ]
  }
 ],
 "metadata": {
  "kernelspec": {
   "display_name": "Python 3",
   "language": "python",
   "name": "python3"
  },
  "language_info": {
   "codemirror_mode": {
    "name": "ipython",
    "version": 3
   },
   "file_extension": ".py",
   "mimetype": "text/x-python",
   "name": "python",
   "nbconvert_exporter": "python",
   "pygments_lexer": "ipython3",
   "version": "3.6.8"
  }
 },
 "nbformat": 4,
 "nbformat_minor": 2
}
