{
 "cells": [
  {
   "cell_type": "markdown",
   "metadata": {},
   "source": [
    "## Ejercicio \n",
    "\n",
    "Escribir un programa que cree un diccionario vacío y lo vaya llenado con información sobre una persona (por ejemplo nombre, edad, sexo, teléfono, correo electrónico, etc.) que se le pida al usuario. Cada vez que se añada un nuevo dato debe imprimirse el contenido del diccionario."
   ]
  },
  {
   "cell_type": "markdown",
   "metadata": {},
   "source": [
    "## Solución"
   ]
  },
  {
   "cell_type": "code",
   "execution_count": 4,
   "metadata": {},
   "outputs": [
    {
     "name": "stdin",
     "output_type": "stream",
     "text": [
      "¿Qué dato quieres introducir?  Nombre\n",
      "Nombre:  Alfredo Sánchez\n"
     ]
    },
    {
     "name": "stdout",
     "output_type": "stream",
     "text": [
      "{'Nombre': 'Alfredo Sánchez'}\n"
     ]
    },
    {
     "name": "stdin",
     "output_type": "stream",
     "text": [
      "¿Quieres añadir más información (Si/No)?  Si\n",
      "¿Qué dato quieres introducir?  Dirección\n",
      "Dirección:  Madrid\n"
     ]
    },
    {
     "name": "stdout",
     "output_type": "stream",
     "text": [
      "{'Nombre': 'Alfredo Sánchez', 'Dirección': 'Madrid'}\n"
     ]
    },
    {
     "name": "stdin",
     "output_type": "stream",
     "text": [
      "¿Quieres añadir más información (Si/No)?  Si\n",
      "¿Qué dato quieres introducir?  email\n",
      "email:  asalber@ceu.es\n"
     ]
    },
    {
     "name": "stdout",
     "output_type": "stream",
     "text": [
      "{'Nombre': 'Alfredo Sánchez', 'Dirección': 'Madrid', 'email': 'asalber@ceu.es'}\n"
     ]
    },
    {
     "name": "stdin",
     "output_type": "stream",
     "text": [
      "¿Quieres añadir más información (Si/No)?  No\n"
     ]
    }
   ],
   "source": [
    "person = {}\n",
    "more = 'Si'\n",
    "while more=='Si':\n",
    "    key = input('¿Qué dato quieres introducir? ')\n",
    "    value = input(key + ': ')\n",
    "    person[key] = value\n",
    "    print(person)\n",
    "    more = input('¿Quieres añadir más información (Si/No)? ')\n"
   ]
  }
 ],
 "metadata": {
  "kernelspec": {
   "display_name": "Python 3",
   "language": "python",
   "name": "python3"
  },
  "language_info": {
   "codemirror_mode": {
    "name": "ipython",
    "version": 3
   },
   "file_extension": ".py",
   "mimetype": "text/x-python",
   "name": "python",
   "nbconvert_exporter": "python",
   "pygments_lexer": "ipython3",
   "version": "3.6.8"
  }
 },
 "nbformat": 4,
 "nbformat_minor": 2
}
