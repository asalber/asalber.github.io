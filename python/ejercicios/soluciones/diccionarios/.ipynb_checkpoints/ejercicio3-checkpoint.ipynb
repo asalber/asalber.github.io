{
 "cells": [
  {
   "cell_type": "markdown",
   "metadata": {},
   "source": [
    "## Ejercicio \n",
    "\n",
    "Escribir un programa que guarde en un diccionario los precios de las frutas de la tabla, pregunte al usuario por una fruta, un número de kilos y muestre por pantalla el precio de ese número de kilos de fruta. Si la fruta no está en el diccionario debe mostrar un mensaje informando de ello.\n",
    "\n",
    "| Fruta | Precio|\n",
    "|:-|:-:|\n",
    "|Plátano | 1.35 |\n",
    "|Manzana | 0.80|\n",
    "|Pera| 0.85|\n",
    "|Naranja | 0.70|\n"
   ]
  },
  {
   "cell_type": "markdown",
   "metadata": {},
   "source": [
    "## Solución"
   ]
  },
  {
   "cell_type": "code",
   "execution_count": 2,
   "metadata": {},
   "outputs": [
    {
     "name": "stdin",
     "output_type": "stream",
     "text": [
      "¿Qué fruta quieres?  pera\n",
      "¿Cuántos kilos?  3.5\n"
     ]
    },
    {
     "name": "stdout",
     "output_type": "stream",
     "text": [
      "3.5 kilos de Pera valen 2.975\n"
     ]
    }
   ],
   "source": [
    "fruits = {'Plátano':1.35, 'Manzana':0.8, 'Pera':0.85, 'Naranja':0.7}\n",
    "fruit = input('¿Qué fruta quieres? ').title()\n",
    "kg = float(input('¿Cuántos kilos? '))\n",
    "if fruit in fruits:\n",
    "    print(kg, 'kilos de', fruit, 'valen', fruits[fruit]*kg )\n",
    "else: \n",
    "    print(\"Lo siento, la fruta\", fruit, \"no está disponible.\")"
   ]
  }
 ],
 "metadata": {
  "kernelspec": {
   "display_name": "Python 3",
   "language": "python",
   "name": "python3"
  },
  "language_info": {
   "codemirror_mode": {
    "name": "ipython",
    "version": 3
   },
   "file_extension": ".py",
   "mimetype": "text/x-python",
   "name": "python",
   "nbconvert_exporter": "python",
   "pygments_lexer": "ipython3",
   "version": "3.7.1"
  }
 },
 "nbformat": 4,
 "nbformat_minor": 2
}
