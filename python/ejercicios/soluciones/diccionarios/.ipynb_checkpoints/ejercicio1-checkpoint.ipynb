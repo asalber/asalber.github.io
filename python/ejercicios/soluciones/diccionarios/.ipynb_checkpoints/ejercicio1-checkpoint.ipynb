{
 "cells": [
  {
   "cell_type": "markdown",
   "metadata": {},
   "source": [
    "## Ejercicio \n",
    "\n",
    "Escribir un programa que guarde en una variable el diccionario `{'Euro':'€', 'Dollar':'$', 'Yen':'¥'}`, pregunte al usuario por una divisa y muestre su símbolo o un mensaje de aviso si la divisa no está en el diccionario."
   ]
  },
  {
   "cell_type": "markdown",
   "metadata": {},
   "source": [
    "## Solución"
   ]
  },
  {
   "cell_type": "code",
   "execution_count": 5,
   "metadata": {},
   "outputs": [
    {
     "name": "stdin",
     "output_type": "stream",
     "text": [
      "Introduce una divisa:  yuang\n"
     ]
    },
    {
     "name": "stdout",
     "output_type": "stream",
     "text": [
      "La divisa no está.\n"
     ]
    }
   ],
   "source": [
    "currencies = {'Euro':'€', 'Dollar':'$', 'Yen':'¥'}\n",
    "currency = input(\"Introduce una divisa: \")\n",
    "print(currencies.get(currency.title(), \"La divisa no está.\"))"
   ]
  }
 ],
 "metadata": {
  "kernelspec": {
   "display_name": "Python 3",
   "language": "python",
   "name": "python3"
  },
  "language_info": {
   "codemirror_mode": {
    "name": "ipython",
    "version": 3
   },
   "file_extension": ".py",
   "mimetype": "text/x-python",
   "name": "python",
   "nbconvert_exporter": "python",
   "pygments_lexer": "ipython3",
   "version": "3.7.1"
  }
 },
 "nbformat": 4,
 "nbformat_minor": 2
}
