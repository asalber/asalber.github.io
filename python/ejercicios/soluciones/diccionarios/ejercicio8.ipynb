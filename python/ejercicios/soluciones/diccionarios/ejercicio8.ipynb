{
 "cells": [
  {
   "cell_type": "markdown",
   "metadata": {},
   "source": [
    "## Ejercicio \n",
    "\n",
    "Escribir un programa que cree un diccionario de traducción español-inglés. El usuario introducirá las palabras en español e inglés separadas por dos puntos, y cada par `<palabra>:<traducción>` separados por comas. El programa debe crear un diccionario con las palabras y sus traducciones. Después pedirá una frase en español y utilizará el diccionario para traducirla palabra a palabra. Si una palabra no está en el diccionario debe dejarla sin traducir."
   ]
  },
  {
   "cell_type": "markdown",
   "metadata": {},
   "source": [
    "## Solución"
   ]
  },
  {
   "cell_type": "code",
   "execution_count": 4,
   "metadata": {},
   "outputs": [
    {
     "name": "stdin",
     "output_type": "stream",
     "text": [
      "Introduce la lista de palabras y traducciones en formato palabra:traducción separadas por comas:  casa:house,grande:big,perro:dog\n",
      "Introduce una frase en español:  La casa es grande\n"
     ]
    },
    {
     "name": "stdout",
     "output_type": "stream",
     "text": [
      "La house es big "
     ]
    }
   ],
   "source": [
    "dictionary = {}\n",
    "words = input(\"Introduce la lista de palabras y traducciones en formato palabra:traducción separadas por comas: \")\n",
    "for i in words.split(','):\n",
    "    key, value = i.split(':')\n",
    "    dictionary[key] = value\n",
    "phrase = input('Introduce una frase en español: ')\n",
    "for i in phrase.split():\n",
    "    if i in dictionary:\n",
    "        print(dictionary[i], end=' ')\n",
    "    else:\n",
    "        print(i, end=' ')"
   ]
  }
 ],
 "metadata": {
  "kernelspec": {
   "display_name": "Python 3",
   "language": "python",
   "name": "python3"
  },
  "language_info": {
   "codemirror_mode": {
    "name": "ipython",
    "version": 3
   },
   "file_extension": ".py",
   "mimetype": "text/x-python",
   "name": "python",
   "nbconvert_exporter": "python",
   "pygments_lexer": "ipython3",
   "version": "3.6.8"
  }
 },
 "nbformat": 4,
 "nbformat_minor": 2
}
