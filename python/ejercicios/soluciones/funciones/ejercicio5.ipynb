{
 "cells": [
  {
   "cell_type": "markdown",
   "metadata": {},
   "source": [
    "## Ejercicio \n",
    "\n",
    "Escribir una función que calcule el área de un círculo y otra que calcule el volumen de un cilindro usando la primera función."
   ]
  },
  {
   "cell_type": "markdown",
   "metadata": {},
   "source": [
    "## Solución"
   ]
  },
  {
   "cell_type": "code",
   "execution_count": 3,
   "metadata": {},
   "outputs": [
    {
     "name": "stdout",
     "output_type": "stream",
     "text": [
      "282.735\n"
     ]
    }
   ],
   "source": [
    "def circle_area(radius):\n",
    "    \"\"\"Función que calcula el area de un círculo.\n",
    "    Parámetros\n",
    "    radius: Es el radio del círculo.\n",
    "    Devuelve el área del círculo de radio radius. \n",
    "    \"\"\"\n",
    "    pi = 3.1415\n",
    "    return 2*pi*radius**2\n",
    "\n",
    "def cilinder_volume(radius, high):\n",
    "    \"\"\"Función que calcula el volumen de un cilindro.\n",
    "    Parámetros\n",
    "    radius: Es el radio de la base del cilindro.\n",
    "    high: Es la altura del cilindro.\n",
    "    Devuelve el volumen del clindro de radio radius y altura high.\n",
    "    \"\"\"\n",
    "    return circle_area(radius)*high\n",
    "\n",
    "print(cilinder_volume(3,5))"
   ]
  }
 ],
 "metadata": {
  "kernelspec": {
   "display_name": "Python 3",
   "language": "python",
   "name": "python3"
  },
  "language_info": {
   "codemirror_mode": {
    "name": "ipython",
    "version": 3
   },
   "file_extension": ".py",
   "mimetype": "text/x-python",
   "name": "python",
   "nbconvert_exporter": "python",
   "pygments_lexer": "ipython3",
   "version": "3.6.8"
  }
 },
 "nbformat": 4,
 "nbformat_minor": 2
}
