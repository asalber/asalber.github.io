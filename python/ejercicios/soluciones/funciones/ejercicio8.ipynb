{
 "cells": [
  {
   "cell_type": "markdown",
   "metadata": {},
   "source": [
    "## Ejercicio \n",
    "\n",
    "Escribir una función que reciba una muestra de números en una lista y devuelva un diccionario con su media, varianza y desviación típica."
   ]
  },
  {
   "cell_type": "markdown",
   "metadata": {},
   "source": [
    "## Solución 1"
   ]
  },
  {
   "cell_type": "code",
   "execution_count": 1,
   "metadata": {},
   "outputs": [
    {
     "name": "stdout",
     "output_type": "stream",
     "text": [
      "{'media': 3.0, 'varianza': 2.0, 'desviacion tipica': 1.4142135623730951}\n",
      "{'media': 8.700000000000001, 'varianza': 18.95666666666665, 'desviacion tipica': 4.353925431913901}\n"
     ]
    }
   ],
   "source": [
    "def square(sample):\n",
    "    \"\"\"Función que calcula los cuadrados de una lista de números.\n",
    "    Parámetros\n",
    "    sample: Es una lista de números\n",
    "    Devuelve una lista con los cuadrados de los números de la lista sample.\n",
    "    \"\"\"\n",
    "    list = []\n",
    "    for i in sample:\n",
    "        list.append(i**2)\n",
    "    return list\n",
    "\n",
    "def statistics(sample):\n",
    "    \"\"\"Función que calcula la media, varianza y desviación típica de una muestra de números.\n",
    "    Parámetros\n",
    "    sample: Es una lista de números\n",
    "    Devuelve un diccionario con la media, varianza y desviación típica de los números en sample.\n",
    "    \"\"\"\n",
    "    stat = {}\n",
    "    stat['media'] = sum(sample)/len(sample)\n",
    "    stat['varianza'] = sum(square(sample))/len(sample)-stat['media']**2\n",
    "    stat['desviacion tipica'] = stat['varianza']**0.5\n",
    "    return stat\n",
    "\n",
    "print(statistics([1, 2, 3, 4, 5]))\n",
    "print(statistics([2.3, 5.7, 6.8, 9.7, 12.1, 15.6]))"
   ]
  },
  {
   "cell_type": "markdown",
   "metadata": {},
   "source": [
    "## Solución 2"
   ]
  },
  {
   "cell_type": "code",
   "execution_count": 2,
   "metadata": {},
   "outputs": [
    {
     "name": "stdout",
     "output_type": "stream",
     "text": [
      "{'media': 3.0, 'varianza': 2.0, 'desviacion tipica': 1.4142135623730951}\n",
      "{'media': 8.700000000000001, 'varianza': 18.95666666666665, 'desviacion tipica': 4.353925431913901}\n"
     ]
    }
   ],
   "source": [
    "def square(*sample):\n",
    "    \"\"\"Función que calcula los cuadrados de una lista de números.\n",
    "    Parámetros\n",
    "    sample: Es una secuencia de números separados por comas.\n",
    "    Devuelve una lista con los cuadrados de los números de sample.\n",
    "    \"\"\"\n",
    "    list = []\n",
    "    for i in sample:\n",
    "        list.append(i**2)\n",
    "    return list\n",
    "\n",
    "def statistics(*sample):\n",
    "    \"\"\"Función que calcula la media, varianza y desviación típica de una muestra de números.\n",
    "    Parámetros\n",
    "    sample: Es una secuencia de números separados por comas.\n",
    "    Devuelve un diccionario con la media, varianza y desviación típica de los números en sample.\n",
    "    \"\"\"\n",
    "    stat = {}\n",
    "    stat['media'] = sum(sample)/len(sample)\n",
    "    stat['varianza'] = sum(square(*sample))/len(sample)-stat['media']**2\n",
    "    stat['desviacion tipica'] = stat['varianza']**0.5\n",
    "    return stat\n",
    "\n",
    "print(statistics(1, 2, 3, 4, 5))\n",
    "print(statistics(2.3, 5.7, 6.8, 9.7, 12.1, 15.6))"
   ]
  }
 ],
 "metadata": {
  "kernelspec": {
   "display_name": "Python 3",
   "language": "python",
   "name": "python3"
  },
  "language_info": {
   "codemirror_mode": {
    "name": "ipython",
    "version": 3
   },
   "file_extension": ".py",
   "mimetype": "text/x-python",
   "name": "python",
   "nbconvert_exporter": "python",
   "pygments_lexer": "ipython3",
   "version": "3.6.8"
  }
 },
 "nbformat": 4,
 "nbformat_minor": 2
}
