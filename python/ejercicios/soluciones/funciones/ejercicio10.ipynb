{
 "cells": [
  {
   "cell_type": "markdown",
   "metadata": {},
   "source": [
    "## Ejercicio \n",
    "\n",
    "Escribir una función que convierta un número decimal en binario y otra que convierta un número binario en decimal."
   ]
  },
  {
   "cell_type": "markdown",
   "metadata": {},
   "source": [
    "## Solución"
   ]
  },
  {
   "cell_type": "code",
   "execution_count": 7,
   "metadata": {},
   "outputs": [
    {
     "name": "stdout",
     "output_type": "stream",
     "text": [
      "22\n",
      "10110\n",
      "22\n",
      "10110\n"
     ]
    }
   ],
   "source": [
    "def to_decimal(n):\n",
    "    \"\"\"Función que convierte un número binario en decimal.\n",
    "    Parámetros:\n",
    "        - n: Es una cadena de ceros y unos.\n",
    "    Devuelve:\n",
    "        El número decimal correspondiente a n.\n",
    "    \"\"\"\n",
    "    n = list(n)\n",
    "    n.reverse()\n",
    "    decimal = 0\n",
    "    for i in range(len(n)):\n",
    "        decimal += int(n[i]) * 2 ** i\n",
    "    return decimal\n",
    "\n",
    "def to_binary(n):\n",
    "    \"\"\"Función que convierte un número decimal en binario.\n",
    "    Parámetros:\n",
    "        - n: Es un número entero.\n",
    "    Devuelve:\n",
    "        El número binario correspondiente a n.\n",
    "    \"\"\"\n",
    "    binary = []\n",
    "    while n > 0:\n",
    "        binary.append(str(n % 2))\n",
    "        n //= 2\n",
    "    binary.reverse()\n",
    "    return ''.join(binary)\n",
    "\n",
    "print(to_decimal('10110'))\n",
    "print(to_binary(22))\n",
    "print(to_decimal(to_binary(22)))\n",
    "print(to_binary(to_decimal('10110')))"
   ]
  }
 ],
 "metadata": {
  "kernelspec": {
   "display_name": "Python 3",
   "language": "python",
   "name": "python3"
  },
  "language_info": {
   "codemirror_mode": {
    "name": "ipython",
    "version": 3
   },
   "file_extension": ".py",
   "mimetype": "text/x-python",
   "name": "python",
   "nbconvert_exporter": "python",
   "pygments_lexer": "ipython3",
   "version": "3.6.8"
  }
 },
 "nbformat": 4,
 "nbformat_minor": 2
}
