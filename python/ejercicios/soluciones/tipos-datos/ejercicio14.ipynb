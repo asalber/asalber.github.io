{
 "cells": [
  {
   "cell_type": "markdown",
   "metadata": {},
   "source": [
    "## Ejercicio \n",
    "\n",
    "Una panadería vende barras de pan a 3.49€ cada una. El pan que no es el día tiene un descuento del 60%. Escribe un programa que comience leyendo el número de barras vendidas que no son del día. Después tu programa debe mostrar el precio habitual de una barra de pan, el descuento que se le hace por no ser fresca y el coste final total. "
   ]
  },
  {
   "cell_type": "markdown",
   "metadata": {},
   "source": [
    "## Solución"
   ]
  },
  {
   "cell_type": "code",
   "execution_count": 4,
   "metadata": {},
   "outputs": [
    {
     "name": "stdout",
     "output_type": "stream",
     "text": "El coste de una barra fresca es 3.49€\nEl descuento sobre una barra no fresca es 60.0%\nEl coste final a pagar es 13.96€\n"
    }
   ],
   "source": [
    "barras = int(input(\"Introduce el número de barras vendidas que no son frescas: \"))\n",
    "precio = 3.49 \n",
    "descuento = 0.6\n",
    "coste = barras * precio * (1 - descuento)\n",
    "print(\"El coste de una barra fresca es \" + str(precio) + \"€\")\n",
    "print(\"El descuento sobre una barra no fresca es \" + str(descuento * 100) + \"%\")\n",
    "print(\"El coste final a pagar es \" + str(round(coste, 2)) + \"€\")"
   ]
  },
  {
   "cell_type": "code",
   "execution_count": null,
   "metadata": {},
   "outputs": [],
   "source": []
  }
 ],
 "metadata": {
  "kernelspec": {
   "display_name": "Python 3",
   "language": "python",
   "name": "python3"
  },
  "language_info": {
   "codemirror_mode": {
    "name": "ipython",
    "version": 3
   },
   "file_extension": ".py",
   "mimetype": "text/x-python",
   "name": "python",
   "nbconvert_exporter": "python",
   "pygments_lexer": "ipython3",
   "version": "3.7.4-final"
  }
 },
 "nbformat": 4,
 "nbformat_minor": 2
}