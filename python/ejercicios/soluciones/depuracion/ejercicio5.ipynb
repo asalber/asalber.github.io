{
 "cells": [
  {
   "cell_type": "markdown",
   "metadata": {},
   "source": [
    "## Ejercicio\n",
    "\n",
    "Detectar y corregir los errores del siguiente programa que multiplica dos matrices:"
   ]
  },
  {
   "cell_type": "code",
   "execution_count": null,
   "metadata": {},
   "outputs": [],
   "source": [
    "a = ((1, 2, 3),\n",
    "     (3, 2, 1))\n",
    "b = ((1, 2),\n",
    "     (3, 4),\n",
    "     (5, 6))\n",
    "\n",
    "def producto(a, b):\n",
    "    producto = []\n",
    "    for i in range(len(b)):\n",
    "        fila = [] \n",
    "        for j in range(len(a[0])):\n",
    "            suma = 0\n",
    "            for k in range(len(a[0]+1)):\n",
    "                suma += a[i][k] * b[k+1][j]\n",
    "            fila[j] = suma\n",
    "        producto[i] = tuple(fila)\n",
    "    return tuple(producto)\n",
    "\n",
    "print(producto(a, b))"
   ]
  },
  {
   "cell_type": "markdown",
   "metadata": {},
   "source": [
    "## Solución"
   ]
  },
  {
   "cell_type": "code",
   "execution_count": 1,
   "metadata": {},
   "outputs": [
    {
     "name": "stdout",
     "output_type": "stream",
     "text": "((22, 28), (14, 20))\n"
    }
   ],
   "source": [
    "a = ((1, 2, 3),\n",
    "     (3, 2, 1))\n",
    "b = ((1, 2),\n",
    "     (3, 4),\n",
    "     (5, 6))\n",
    "\n",
    "def producto(a, b):\n",
    "    producto = []\n",
    "    for i in range(len(a)):\n",
    "        fila = [] \n",
    "        for j in range(len(b[0])):\n",
    "            suma = 0\n",
    "            for k in range(len(a[0])):\n",
    "                suma += a[i][k] * b[k][j]\n",
    "            fila.append(suma)\n",
    "        producto.append(tuple(fila))\n",
    "    return tuple(producto)\n",
    "\n",
    "print(producto(a, b))"
   ]
  }
 ],
 "metadata": {
  "kernelspec": {
   "display_name": "Python 3",
   "language": "python",
   "name": "python3"
  },
  "language_info": {
   "codemirror_mode": {
    "name": "ipython",
    "version": 3
   },
   "file_extension": ".py",
   "mimetype": "text/x-python",
   "name": "python",
   "nbconvert_exporter": "python",
   "pygments_lexer": "ipython3",
   "version": "3.7.4-final"
  }
 },
 "nbformat": 4,
 "nbformat_minor": 2
}