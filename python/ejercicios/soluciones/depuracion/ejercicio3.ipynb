{
 "cells": [
  {
   "cell_type": "markdown",
   "metadata": {},
   "source": [
    "## Ejercicio\n",
    "\n",
    "Detectar y corregir los errores del siguiente programa que calcula el producto escalar de dos vectores:"
   ]
  },
  {
   "cell_type": "code",
   "execution_count": null,
   "metadata": {},
   "outputs": [],
   "source": [
    "u = (1, 2, 3)\n",
    "v = (4, 5, 6)\n",
    "\n",
    "def producto_escalar(u, v):\n",
    "    for i in u:\n",
    "        u[i] *= v[i]\n",
    "    return sum(u)\n",
    "\n",
    "print(producto_escalar(u, v))"
   ]
  },
  {
   "cell_type": "markdown",
   "metadata": {},
   "source": [
    "## Solución"
   ]
  },
  {
   "cell_type": "code",
   "execution_count": 1,
   "metadata": {},
   "outputs": [
    {
     "name": "stdout",
     "output_type": "stream",
     "text": "32\n"
    }
   ],
   "source": [
    "u = [1, 2, 3]\n",
    "v = [4, 5, 6]\n",
    "\n",
    "def producto_escalar(u, v):\n",
    "    for i in range(len(u)):\n",
    "        u[i] *= v[i]\n",
    "    return sum(u)\n",
    "\n",
    "print(producto_escalar(u, v))"
   ]
  }
 ],
 "metadata": {
  "kernelspec": {
   "display_name": "Python 3",
   "language": "python",
   "name": "python3"
  },
  "language_info": {
   "codemirror_mode": {
    "name": "ipython",
    "version": 3
   },
   "file_extension": ".py",
   "mimetype": "text/x-python",
   "name": "python",
   "nbconvert_exporter": "python",
   "pygments_lexer": "ipython3",
   "version": "3.7.4-final"
  }
 },
 "nbformat": 4,
 "nbformat_minor": 2
}