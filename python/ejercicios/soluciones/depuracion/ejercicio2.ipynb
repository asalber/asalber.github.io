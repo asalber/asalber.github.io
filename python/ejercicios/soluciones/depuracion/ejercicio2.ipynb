{
 "cells": [
  {
   "cell_type": "markdown",
   "metadata": {},
   "source": [
    "## Ejercicio\n",
    "\n",
    "Detectar y corregir los errores del siguiente programa que aplica el iva a una factura:"
   ]
  },
  {
   "cell_type": "code",
   "execution_count": null,
   "metadata": {},
   "outputs": [],
   "source": [
    "base = input('Introduce la base imponible de la factura: ')\n",
    "print(aplica_iva(base, iva))\n",
    "\n",
    "def aplica_iva(base, iva = 21):\n",
    "    base = base * iva   \n",
    "    return base "
   ]
  },
  {
   "cell_type": "markdown",
   "metadata": {},
   "source": [
    "## Solución"
   ]
  },
  {
   "cell_type": "code",
   "execution_count": 1,
   "metadata": {},
   "outputs": [
    {
     "name": "stdout",
     "output_type": "stream",
     "text": "121.0\n"
    }
   ],
   "source": [
    "base = float(input('Introduce la base imponible de la factura: '))\n",
    "\n",
    "def aplica_iva(base, iva = 21):\n",
    "    base += base * iva / 100  \n",
    "    return base \n",
    "\n",
    "print(aplica_iva(base))"
   ]
  }
 ],
 "metadata": {
  "kernelspec": {
   "display_name": "Python 3",
   "language": "python",
   "name": "python3"
  },
  "language_info": {
   "codemirror_mode": {
    "name": "ipython",
    "version": 3
   },
   "file_extension": ".py",
   "mimetype": "text/x-python",
   "name": "python",
   "nbconvert_exporter": "python",
   "pygments_lexer": "ipython3",
   "version": "3.7.4-final"
  }
 },
 "nbformat": 4,
 "nbformat_minor": 2
}