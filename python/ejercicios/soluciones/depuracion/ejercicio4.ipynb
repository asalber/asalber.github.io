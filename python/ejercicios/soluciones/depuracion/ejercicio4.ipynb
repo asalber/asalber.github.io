{
 "cells": [
  {
   "cell_type": "markdown",
   "metadata": {},
   "source": [
    "## Ejercicio\n",
    "\n",
    "Detectar y corregir los errores del siguiente programa que devuelve y elimina el teléfono de un listín telefónico a través del nombre del usuario:"
   ]
  },
  {
   "cell_type": "code",
   "execution_count": null,
   "metadata": {},
   "outputs": [],
   "source": [
    "listin = {'Juan':123456789, 'Pedro':987654321}\n",
    "\n",
    "def elimina(listin, usuario):\n",
    "    del listin[usuario]\n",
    "    return listin[usuario]\n",
    "\n",
    "print(elimina(listin, 'Pablo'))"
   ]
  },
  {
   "cell_type": "markdown",
   "metadata": {},
   "source": [
    "## Solución"
   ]
  },
  {
   "cell_type": "code",
   "execution_count": 1,
   "metadata": {},
   "outputs": [
    {
     "name": "stdout",
     "output_type": "stream",
     "text": "\n"
    }
   ],
   "source": [
    "listin = {'Juan':123456789, 'Pedro':987654321}\n",
    "\n",
    "def elimina(listin, usuario):\n",
    "    return listin.pop(usuario, '')\n",
    "\n",
    "print(elimina(listin, 'Pablo'))"
   ]
  }
 ],
 "metadata": {
  "kernelspec": {
   "display_name": "Python 3",
   "language": "python",
   "name": "python3"
  },
  "language_info": {
   "codemirror_mode": {
    "name": "ipython",
    "version": 3
   },
   "file_extension": ".py",
   "mimetype": "text/x-python",
   "name": "python",
   "nbconvert_exporter": "python",
   "pygments_lexer": "ipython3",
   "version": "3.7.4-final"
  }
 },
 "nbformat": 4,
 "nbformat_minor": 2
}