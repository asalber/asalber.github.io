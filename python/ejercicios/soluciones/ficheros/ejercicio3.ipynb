{
 "cells": [
  {
   "cell_type": "markdown",
   "metadata": {},
   "source": [
    "## Ejercicio\n",
    "\n",
    "Escribir una función que pida dos números `n` y `m` entre 1 y 10, lea el fichero `tabla-n.txt` con la tabla de multiplicar de ese número, y muestre por pantalla la línea `m` del fichero. Si el fichero no existe debe mostrar un mensaje por pantalla informando de ello."
   ]
  },
  {
   "cell_type": "markdown",
   "metadata": {},
   "source": [
    "## Solución"
   ]
  },
  {
   "cell_type": "code",
   "execution_count": 1,
   "metadata": {},
   "outputs": [
    {
     "name": "stdin",
     "output_type": "stream",
     "text": [
      "Introduce un número entero entre 1 y 10:  4\n",
      "Introduce otro número entero entre 1 y 10:  5\n"
     ]
    },
    {
     "name": "stdout",
     "output_type": "stream",
     "text": [
      "4 x 5 = 20\n",
      "\n"
     ]
    }
   ],
   "source": [
    "n = int(input('Introduce un número entero entre 1 y 10: '))\n",
    "m = int(input('Introduce otro número entero entre 1 y 10: '))\n",
    "file_name = 'tabla-' + str(n) + '.txt'\n",
    "try: \n",
    "    f = open(file_name, 'r')\n",
    "except FileNotFoundError:\n",
    "    print('No existe el fichero con la tabla del ', n)\n",
    "else:\n",
    "    lines = f.readlines()\n",
    "    print(lines[m - 1])"
   ]
  }
 ],
 "metadata": {
  "kernelspec": {
   "display_name": "Python 3",
   "language": "python",
   "name": "python3"
  },
  "language_info": {
   "codemirror_mode": {
    "name": "ipython",
    "version": 3
   },
   "file_extension": ".py",
   "mimetype": "text/x-python",
   "name": "python",
   "nbconvert_exporter": "python",
   "pygments_lexer": "ipython3",
   "version": "3.6.8"
  }
 },
 "nbformat": 4,
 "nbformat_minor": 2
}
