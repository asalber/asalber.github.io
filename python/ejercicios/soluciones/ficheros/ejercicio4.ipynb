{
 "cells": [
  {
   "cell_type": "markdown",
   "metadata": {},
   "source": [
    "## Ejercicio\n",
    "\n",
    "Escribir un programa que acceda a un fichero de internet mediante su url y muestre por pantalla el número de palabras que contiene."
   ]
  },
  {
   "cell_type": "markdown",
   "metadata": {},
   "source": [
    "## Solución"
   ]
  },
  {
   "cell_type": "code",
   "execution_count": 1,
   "metadata": {},
   "outputs": [
    {
     "name": "stdout",
     "output_type": "stream",
     "text": [
      "384260\n",
      "¡La url https://no-existe.txt no existe!\n"
     ]
    }
   ],
   "source": [
    "def words_file(url):\n",
    "    '''\n",
    "    Función que recibe recibe la url de un fichero de texto y devuelve el número de palabras que contiene.\n",
    "    Parámetros:\n",
    "        url: Es una cadena con la url del fichero de texto.\n",
    "    Devuelve:\n",
    "        El número de palabras que contiene el fichero de texto daro por la url.\n",
    "    '''\n",
    "    from urllib import request\n",
    "    from urllib.error import URLError\n",
    "    try:\n",
    "        file = request.urlopen(url)\n",
    "    except URLError:\n",
    "        return('¡La url ' + url + ' no existe!')\n",
    "    else:\n",
    "        content = file.read()\n",
    "        return len(content.split())\n",
    "\n",
    "print(words_file('https://www.gutenberg.org/cache/epub/2000/pg2000.txt'))\n",
    "print(words_file('https://no-existe.txt'))"
   ]
  }
 ],
 "metadata": {
  "kernelspec": {
   "display_name": "Python 3",
   "language": "python",
   "name": "python3"
  },
  "language_info": {
   "codemirror_mode": {
    "name": "ipython",
    "version": 3
   },
   "file_extension": ".py",
   "mimetype": "text/x-python",
   "name": "python",
   "nbconvert_exporter": "python",
   "pygments_lexer": "ipython3",
   "version": "3.6.8"
  }
 },
 "nbformat": 4,
 "nbformat_minor": 2
}
