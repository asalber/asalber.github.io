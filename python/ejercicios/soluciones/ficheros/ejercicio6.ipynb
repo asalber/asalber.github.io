{
 "cells": [
  {
   "cell_type": "markdown",
   "metadata": {},
   "source": [
    "## Ejercicio\n",
    "\n",
    "Escribir un programa para gestionar un listín telefónico con los nombres y los teléfonos de los clientes de una empresa. El programa incorporar funciones crear el fichero con el listín si no existe, para consultar el teléfono de un cliente, añadir el teléfono de un nuevo cliente y eliminar el teléfono de un cliente. El listín debe estar guardado en el fichero de texto `listin.txt` donde el nombre del cliente y su teléfono deben aparecer separados por comas y cada cliente en una línea distinta."
   ]
  },
  {
   "cell_type": "markdown",
   "metadata": {},
   "source": [
    "## Solución"
   ]
  },
  {
   "cell_type": "code",
   "execution_count": 4,
   "metadata": {},
   "outputs": [
    {
     "name": "stdout",
     "output_type": "stream",
     "text": [
      "Gesión del listín telefónico\n",
      "============================\n",
      "1 - Consultar un teléfono\n",
      "2 - Añadir un teléfono\n",
      "3 - Eliminar un teléfono\n",
      "4 - Crear el listín\n",
      "0 - Terminar\n"
     ]
    },
    {
     "name": "stdin",
     "output_type": "stream",
     "text": [
      "Introduzca el número de la opción deseada:  4\n"
     ]
    },
    {
     "name": "stdout",
     "output_type": "stream",
     "text": [
      "Se ha creado el fichero.\n",
      "\n",
      "Gesión del listín telefónico\n",
      "============================\n",
      "1 - Consultar un teléfono\n",
      "2 - Añadir un teléfono\n",
      "3 - Eliminar un teléfono\n",
      "4 - Crear el listín\n",
      "0 - Terminar\n"
     ]
    },
    {
     "name": "stdin",
     "output_type": "stream",
     "text": [
      "Introduzca el número de la opción deseada:  2\n",
      "Introduce el nombre del cliente:  Alfredo\n",
      "Introduce el teléfono del cliente:  123456789\n"
     ]
    },
    {
     "name": "stdout",
     "output_type": "stream",
     "text": [
      "El teléfono se ha añadido.\n",
      "\n",
      "Gesión del listín telefónico\n",
      "============================\n",
      "1 - Consultar un teléfono\n",
      "2 - Añadir un teléfono\n",
      "3 - Eliminar un teléfono\n",
      "4 - Crear el listín\n",
      "0 - Terminar\n"
     ]
    },
    {
     "name": "stdin",
     "output_type": "stream",
     "text": [
      "Introduzca el número de la opción deseada:  2\n",
      "Introduce el nombre del cliente:  Pablo\n",
      "Introduce el teléfono del cliente:  987654321\n"
     ]
    },
    {
     "name": "stdout",
     "output_type": "stream",
     "text": [
      "El teléfono se ha añadido.\n",
      "\n",
      "Gesión del listín telefónico\n",
      "============================\n",
      "1 - Consultar un teléfono\n",
      "2 - Añadir un teléfono\n",
      "3 - Eliminar un teléfono\n",
      "4 - Crear el listín\n",
      "0 - Terminar\n"
     ]
    },
    {
     "name": "stdin",
     "output_type": "stream",
     "text": [
      "Introduzca el número de la opción deseada:  1\n",
      "Introduce el nombre del cliente:  Pablo\n"
     ]
    },
    {
     "name": "stdout",
     "output_type": "stream",
     "text": [
      "987654321\n",
      "\n",
      "Gesión del listín telefónico\n",
      "============================\n",
      "1 - Consultar un teléfono\n",
      "2 - Añadir un teléfono\n",
      "3 - Eliminar un teléfono\n",
      "4 - Crear el listín\n",
      "0 - Terminar\n"
     ]
    },
    {
     "name": "stdin",
     "output_type": "stream",
     "text": [
      "Introduzca el número de la opción deseada:  3\n",
      "Introduce el nombre del cliente:  Pablo\n"
     ]
    },
    {
     "name": "stdout",
     "output_type": "stream",
     "text": [
      "¡El cliente se ha borrado!\n",
      "\n",
      "Gesión del listín telefónico\n",
      "============================\n",
      "1 - Consultar un teléfono\n",
      "2 - Añadir un teléfono\n",
      "3 - Eliminar un teléfono\n",
      "4 - Crear el listín\n",
      "0 - Terminar\n"
     ]
    },
    {
     "name": "stdin",
     "output_type": "stream",
     "text": [
      "Introduzca el número de la opción deseada:  3\n",
      "Introduce el nombre del cliente:  Pablo\n"
     ]
    },
    {
     "name": "stdout",
     "output_type": "stream",
     "text": [
      "¡El cliente Pablo no existe!\n",
      "\n",
      "Gesión del listín telefónico\n",
      "============================\n",
      "1 - Consultar un teléfono\n",
      "2 - Añadir un teléfono\n",
      "3 - Eliminar un teléfono\n",
      "4 - Crear el listín\n",
      "0 - Terminar\n"
     ]
    },
    {
     "name": "stdin",
     "output_type": "stream",
     "text": [
      "Introduzca el número de la opción deseada:  0\n"
     ]
    }
   ],
   "source": [
    "def get_phone(file, client):\n",
    "    '''\n",
    "    Función que devuelve el teléfono de un cliente de un fichero dado.\n",
    "    Parámetros:\n",
    "        file: Es un fichero con los nombres y teléfonos de clientes.\n",
    "        client: Es una cadena con el nombre del cliente.\n",
    "    Devuelve:\n",
    "        El teléfono del cliente guardado en el fichero o un mensaje de error si el teléfono o el fichero no existe.\n",
    "    '''\n",
    "    try: \n",
    "        f = open(file, 'r')\n",
    "    except FileNotFoundError:\n",
    "        return('¡El fichero ' + file + ' no existe!\\n')\n",
    "    else:\n",
    "        directory = f.readlines()\n",
    "        f.close()\n",
    "        directory = dict([tuple(line.split(',')) for line in directory])\n",
    "        if client in directory:\n",
    "            return directory[client]\n",
    "        else:\n",
    "            return('¡El cliente ' + client + ' no existe!\\n')\n",
    "\n",
    "\n",
    "def add_phone(file, client, telf):\n",
    "    '''\n",
    "    Función que añade el teléfono de un cliente de un fichero dado.\n",
    "    Parámetros:\n",
    "        file: Es un fichero con los nombres y teléfonos de clientes.\n",
    "        client: Es una cadena con el nombre del cliente.\n",
    "        telf: Es una cadena con el teléfono del cliente.\n",
    "    Devuelve:\n",
    "        Un mesaje informando sobre si el teléfono se ha añadido o ha habido algún problema.\n",
    "    '''\n",
    "    try: \n",
    "        f = open(file, 'a')\n",
    "    except FileNotFoundError:\n",
    "        return('¡El fichero ' + file + ' no existe!\\n')\n",
    "    else:\n",
    "        f.write(client + ',' + telf + '\\n')\n",
    "        f.close()\n",
    "        return('El teléfono se ha añadido.\\n')\n",
    "\n",
    "def remove_phone(file, client):\n",
    "    '''\n",
    "    Función que elimina el teléfono de un cliente de un fichero dado.\n",
    "    Parámetros:\n",
    "        file: Es un fichero con los nombres y teléfonos de clientes.\n",
    "        client: Es una cadena con el nombre del cliente.\n",
    "    Devuelve:\n",
    "        Un mesaje informando sobre si el teléfono se ha borrado o ha habido algún problema.\n",
    "    '''\n",
    "    try: \n",
    "        f = open(file, 'r')\n",
    "    except FileNotFoundError:\n",
    "        return('¡El fichero ' + file + ' no existe!\\n')\n",
    "    else:\n",
    "        directory = f.readlines()\n",
    "        f.close()\n",
    "        directory = dict([tuple(line.split(',')) for line in directory])\n",
    "        if client in directory:\n",
    "            del directory[client]\n",
    "            f = open(file, 'w')\n",
    "            for name, telf in directory.items():\n",
    "                f.write(name + ',' + telf)\n",
    "            f.close()\n",
    "            return ('¡El cliente se ha borrado!\\n')\n",
    "        else:\n",
    "            return('¡El cliente ' + client + ' no existe!\\n')\n",
    "\n",
    "\n",
    "def create_directory(file):\n",
    "    '''\n",
    "    Función que crea un fichero vacío para guardar un listín telefónico.\n",
    "    Parámetros:\n",
    "        file: Es un fichero.\n",
    "    Devuelve:\n",
    "        Un mesaje informando sobre si el fichero se ha creado correctamente o no.\n",
    "    '''\n",
    "    import os\n",
    "    if os.path.isfile(file):\n",
    "        answer = input('El fichero ' + file + ' ya existe. ¿Desea vaciarlo (S/N)? ')\n",
    "        if answer == 'N': \n",
    "            return 'No se ha creado el fichero porque ya existe.\\n'\n",
    "    f = open(file, 'w')\n",
    "    f.close()\n",
    "    return 'Se ha creado el fichero.\\n'\n",
    "     \n",
    "\n",
    "def menu():\n",
    "    '''\n",
    "    Función que presenta un menú con las operaciones disponibles sobre un listín telefónico y devuelve la opción seleccionada por el usuario.\n",
    "    Devuelve:\n",
    "        La opción seleccionada por el usuario.\n",
    "    '''\n",
    "    print('Gesión del listín telefónico')\n",
    "    print('============================')\n",
    "    print('1 - Consultar un teléfono')\n",
    "    print('2 - Añadir un teléfono')\n",
    "    print('3 - Eliminar un teléfono')\n",
    "    print('4 - Crear el listín')\n",
    "    print('0 - Terminar')\n",
    "    option = input('Introduzca el número de la opción deseada: ')\n",
    "    return option\n",
    "\n",
    "\n",
    "def directory():\n",
    "    '''\n",
    "    Función que lanza la aplicación para la gestión del listín telefónico.\n",
    "    '''\n",
    "    file = 'listin.txt' \n",
    "    while True:\n",
    "        option = menu()\n",
    "        if option == '1':\n",
    "            name = input('Introduce el nombre del cliente: ')\n",
    "            print(get_phone(file, name))\n",
    "        elif option == '2':\n",
    "            name = input('Introduce el nombre del cliente: ')\n",
    "            telf = input('Introduce el teléfono del cliente: ')\n",
    "            print(add_phone(file, name, telf))\n",
    "        elif option == '3':\n",
    "            name = input('Introduce el nombre del cliente: ')\n",
    "            print(remove_phone(file, name))\n",
    "        elif option == '4':\n",
    "            print(create_directory(file))\n",
    "        else:\n",
    "            break\n",
    "    return\n",
    "\n",
    "directory()\n"
   ]
  }
 ],
 "metadata": {
  "kernelspec": {
   "display_name": "Python 3",
   "language": "python",
   "name": "python3"
  },
  "language_info": {
   "codemirror_mode": {
    "name": "ipython",
    "version": 3
   },
   "file_extension": ".py",
   "mimetype": "text/x-python",
   "name": "python",
   "nbconvert_exporter": "python",
   "pygments_lexer": "ipython3",
   "version": "3.6.8"
  }
 },
 "nbformat": 4,
 "nbformat_minor": 2
}
