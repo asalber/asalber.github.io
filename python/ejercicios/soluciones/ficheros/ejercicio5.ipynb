{
 "cells": [
  {
   "cell_type": "markdown",
   "metadata": {},
   "source": [
    "## Ejercicio\n",
    "\n",
    "Escribir un programa que abra el fichero con información sobre el PIB per cápita de los países de la Unión Europea (url:`https://ec.europa.eu/eurostat/estat-navtree-portlet-prod/BulkDownloadListing?file=data/sdg_08_10.tsv.gz&unzip=true`), pregunte por las iniciales de un país y muestre el PIB per cápita de ese país de todos los años disponibles."
   ]
  },
  {
   "cell_type": "markdown",
   "metadata": {},
   "source": [
    "## Solución"
   ]
  },
  {
   "cell_type": "code",
   "execution_count": 1,
   "metadata": {},
   "outputs": [
    {
     "name": "stdin",
     "output_type": "stream",
     "text": [
      "Introduce el código de un país:  ES\n"
     ]
    },
    {
     "name": "stdout",
     "output_type": "stream",
     "text": [
      "Producto Interior Bruto per cápita de ES\n",
      "Año \t PIB\n",
      "2000 \t 21400\n",
      "2001 \t 22100\n",
      "2002 \t 22400\n",
      "2003 \t 22700\n",
      "2004 \t 23100\n",
      "2005 \t 23500\n",
      "2006 \t 24100\n",
      "2007 \t 24500\n",
      "2008 \t 24400\n",
      "2009 \t 23300\n",
      "2010 \t 23200\n",
      "2011 \t 22900\n",
      "2012 \t 22200\n",
      "2013 \t 21900\n",
      "2014 \t 22300\n",
      "2015 \t 23100\n",
      "2016 \t 23800 p\n",
      "2017 \t 24500 p\n",
      "2018 \t 25000 p\n"
     ]
    }
   ],
   "source": [
    "def get_pib(url, country='ES'):\n",
    "    '''\n",
    "    Función que muestra por pantalla el pib per cápita un país dado de los años disponibles en un fichero dado.\n",
    "    Parámetros:\n",
    "        url: Es una cadena con la url del fichero de texto que contiene el pib per cápita.\n",
    "        country: Es una cadena con el código del país. \n",
    "    Devuelve:\n",
    "        Un diccionario con pares año:pib del país country que hay en el fichero con la url dada.\n",
    "    '''\n",
    "    from urllib import request\n",
    "    from urllib.error import URLError\n",
    "    try:\n",
    "        f = request.urlopen(url)\n",
    "    except URLError:\n",
    "        return('¡La url ' + url + ' no existe!')\n",
    "    else:\n",
    "        data = f.read().decode('utf-8').split('\\n') # Leer los datos y guardar cada línea en una lista\n",
    "        data = [i.split('\\t') for i in data] # Dividir cada línea por el tabulador\n",
    "        data = [list(map(str.strip, i)) for i in data] # Eliminar espacios en blanco\n",
    "        for i in data:\n",
    "            i[0] = i[0].split(',')[-1] # Obtener el código del país del primer elemento de la lista\n",
    "        data[0][0] = 'years'\n",
    "        data = {i[0]:i[1:] for i in data}\n",
    "        result = {data['years'][i]:data[country][i] for i in range(len(data['years']))}\n",
    "        return result\n",
    "\n",
    "country = input('Introduce el código de un país: ')\n",
    "print('Producto Interior Bruto per cápita de', country)\n",
    "print('Año', '\\t', 'PIB')\n",
    "for year, pib in get_pib('https://ec.europa.eu/eurostat/estat-navtree-portlet-prod/BulkDownloadListing?file=data/sdg_08_10.tsv.gz&unzip=true').items():\n",
    "    print(year, '\\t', pib)"
   ]
  }
 ],
 "metadata": {
  "kernelspec": {
   "display_name": "Python 3",
   "language": "python",
   "name": "python3"
  },
  "language_info": {
   "codemirror_mode": {
    "name": "ipython",
    "version": 3
   },
   "file_extension": ".py",
   "mimetype": "text/x-python",
   "name": "python",
   "nbconvert_exporter": "python",
   "pygments_lexer": "ipython3",
   "version": "3.6.8"
  }
 },
 "nbformat": 4,
 "nbformat_minor": 2
}
