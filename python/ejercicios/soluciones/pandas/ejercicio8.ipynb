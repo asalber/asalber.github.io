{
 "cells": [
  {
   "cell_type": "markdown",
   "metadata": {},
   "source": [
    "# Ejercicio \n",
    "\n",
    "Los ficheros [emisiones-2016.csv](https://raw.githubusercontent.com/asalber/asalber.github.io/master/python/ejercicios/soluciones/pandas/emisiones-2016.csv), [emisiones-2017.csv](https://raw.githubusercontent.com/asalber/asalber.github.io/master/python/ejercicios/soluciones/pandas/emisiones-2017.csv), [emisiones-2018.csv](https://raw.githubusercontent.com/asalber/asalber.github.io/master/python/ejercicios/soluciones/pandas/emisiones-2018.csv) y [emisiones-2019.csv](https://raw.githubusercontent.com/asalber/asalber.github.io/master/python/ejercicios/soluciones/pandas/emisiones-2019.csv), contienen datos sobre las emisiones contaminates en la ciudad de Madrid en los años 2016, 2017, 2018 y 2019 respectivamente. Escribir un programa con los siguientes requisitos:\n",
    "\n",
    "1. Generar un DataFrame con los datos de los cuatro ficheros.\n",
    "2. Filtrar las columnas del DataFrame para quedarse con las columnas ESTACION, MAGNITUD, AÑO, MES y las correspondientes a los días D01, D02, etc. \n",
    "3. Reestructurar el DataFrame para que los valores de los contaminantes de las columnas de los días aparezcan en una única columna.\n",
    "4. Añadir una columna con la fecha a partir de la concatenación del año, el mes y el día (usar el módulo `datetime`).\n",
    "5. Eliminar las filas con fechas no válidas (utilizar la función `isnat` del módulo `numpy`) y ordenar el DataFrame por estaciones, contaminantes y fecha.\n",
    "6. Mostrar por pantalla las estaciones y los contaminantes disponibles en el DataFrame.\n",
    "7. Crear una función que reciba una estación, un contaminante y un rango de fechas y devuelva una serie con las emisiones del contaminante dado en la estación y rango de fechas dado.\n",
    "8. Mostrar un resumen descriptivo (mímino, máximo, media, etc) para cada contaminante.\n",
    "9. Mostrar un resumen descriptivo para cada contaminente por distritos.\n",
    "10. Crear una función que reciba una estación y un contaminante y devuelva un resumen descriptivo de las emisiones del contaminante indicado en la estadión indicada. \n",
    "11. Crear una función que devuelva las emisiones medias mensuales de un contaminante y un año dados para todos las estaciones.\n",
    "12. Crear un función que reciba una estación de medición y devuelva un DataFrame con las medias mensuales de los distintos tipos de contaminantes.\n"
   ]
  },
  {
   "cell_type": "markdown",
   "metadata": {},
   "source": [
    "# Solución"
   ]
  },
  {
   "cell_type": "code",
   "execution_count": 30,
   "metadata": {},
   "outputs": [
    {
     "output_type": "execute_result",
     "data": {
      "text/plain": "      PROVINCIA  MUNICIPIO  ESTACION  MAGNITUD PUNTO_MUESTREO   ANO  MES  \\\n0            28         79         4         1  28079004_1_38  2016    1   \n1            28         79         4         1  28079004_1_38  2016    2   \n2            28         79         4         1  28079004_1_38  2016    3   \n3            28         79         4         1  28079004_1_38  2016    4   \n4            28         79         4         1  28079004_1_38  2016    5   \n...         ...        ...       ...       ...            ...   ...  ...   \n1831         28         79        60        14  28079060_14_6  2019    8   \n1832         28         79        60        14  28079060_14_6  2019    9   \n1833         28         79        60        14  28079060_14_6  2019   10   \n1834         28         79        60        14  28079060_14_6  2019   11   \n1835         28         79        60        14  28079060_14_6  2019   12   \n\n       D01 V01    D02  ...   D27  V27   D28  V28   D29  V29    D30  V30   D31  \\\n0      8.0   V    7.0  ...   9.0    V   7.0    V   8.0    V    9.0    V   9.0   \n1     12.0   V   13.0  ...   7.0    V   8.0    V   9.0    V    0.0    N   0.0   \n2     11.0   V   10.0  ...   8.0    V   7.0    V   8.0    V   10.0    V   8.0   \n3      8.0   V    9.0  ...   9.0    V   8.0    V   8.0    V    8.0    V   0.0   \n4      7.0   V    8.0  ...   7.0    V   7.0    V   7.0    V    7.0    V   7.0   \n...    ...  ..    ...  ...   ...  ...   ...  ...   ...  ...    ...  ...   ...   \n1831  94.0   V  104.0  ...  88.0    V  90.0    V  99.0    V  108.0    V  98.0   \n1832  88.0   V   82.0  ...  54.0    V  68.0    V  70.0    V   55.0    V   0.0   \n1833  44.0   V   75.0  ...  28.0    V  33.0    V  16.0    V   19.0    V  47.0   \n1834  41.0   V   55.0  ...  55.0    V  52.0    V  47.0    V   56.0    V   0.0   \n1835  47.0   V   53.0  ...  17.0    V  13.0    V  14.0    V    5.0    V   4.0   \n\n      V31  \n0       V  \n1       N  \n2       V  \n3       N  \n4       V  \n...   ...  \n1831    V  \n1832    N  \n1833    V  \n1834    N  \n1835    V  \n\n[7266 rows x 69 columns]",
      "text/html": "<div>\n<style scoped>\n    .dataframe tbody tr th:only-of-type {\n        vertical-align: middle;\n    }\n\n    .dataframe tbody tr th {\n        vertical-align: top;\n    }\n\n    .dataframe thead th {\n        text-align: right;\n    }\n</style>\n<table border=\"1\" class=\"dataframe\">\n  <thead>\n    <tr style=\"text-align: right;\">\n      <th></th>\n      <th>PROVINCIA</th>\n      <th>MUNICIPIO</th>\n      <th>ESTACION</th>\n      <th>MAGNITUD</th>\n      <th>PUNTO_MUESTREO</th>\n      <th>ANO</th>\n      <th>MES</th>\n      <th>D01</th>\n      <th>V01</th>\n      <th>D02</th>\n      <th>...</th>\n      <th>D27</th>\n      <th>V27</th>\n      <th>D28</th>\n      <th>V28</th>\n      <th>D29</th>\n      <th>V29</th>\n      <th>D30</th>\n      <th>V30</th>\n      <th>D31</th>\n      <th>V31</th>\n    </tr>\n  </thead>\n  <tbody>\n    <tr>\n      <th>0</th>\n      <td>28</td>\n      <td>79</td>\n      <td>4</td>\n      <td>1</td>\n      <td>28079004_1_38</td>\n      <td>2016</td>\n      <td>1</td>\n      <td>8.0</td>\n      <td>V</td>\n      <td>7.0</td>\n      <td>...</td>\n      <td>9.0</td>\n      <td>V</td>\n      <td>7.0</td>\n      <td>V</td>\n      <td>8.0</td>\n      <td>V</td>\n      <td>9.0</td>\n      <td>V</td>\n      <td>9.0</td>\n      <td>V</td>\n    </tr>\n    <tr>\n      <th>1</th>\n      <td>28</td>\n      <td>79</td>\n      <td>4</td>\n      <td>1</td>\n      <td>28079004_1_38</td>\n      <td>2016</td>\n      <td>2</td>\n      <td>12.0</td>\n      <td>V</td>\n      <td>13.0</td>\n      <td>...</td>\n      <td>7.0</td>\n      <td>V</td>\n      <td>8.0</td>\n      <td>V</td>\n      <td>9.0</td>\n      <td>V</td>\n      <td>0.0</td>\n      <td>N</td>\n      <td>0.0</td>\n      <td>N</td>\n    </tr>\n    <tr>\n      <th>2</th>\n      <td>28</td>\n      <td>79</td>\n      <td>4</td>\n      <td>1</td>\n      <td>28079004_1_38</td>\n      <td>2016</td>\n      <td>3</td>\n      <td>11.0</td>\n      <td>V</td>\n      <td>10.0</td>\n      <td>...</td>\n      <td>8.0</td>\n      <td>V</td>\n      <td>7.0</td>\n      <td>V</td>\n      <td>8.0</td>\n      <td>V</td>\n      <td>10.0</td>\n      <td>V</td>\n      <td>8.0</td>\n      <td>V</td>\n    </tr>\n    <tr>\n      <th>3</th>\n      <td>28</td>\n      <td>79</td>\n      <td>4</td>\n      <td>1</td>\n      <td>28079004_1_38</td>\n      <td>2016</td>\n      <td>4</td>\n      <td>8.0</td>\n      <td>V</td>\n      <td>9.0</td>\n      <td>...</td>\n      <td>9.0</td>\n      <td>V</td>\n      <td>8.0</td>\n      <td>V</td>\n      <td>8.0</td>\n      <td>V</td>\n      <td>8.0</td>\n      <td>V</td>\n      <td>0.0</td>\n      <td>N</td>\n    </tr>\n    <tr>\n      <th>4</th>\n      <td>28</td>\n      <td>79</td>\n      <td>4</td>\n      <td>1</td>\n      <td>28079004_1_38</td>\n      <td>2016</td>\n      <td>5</td>\n      <td>7.0</td>\n      <td>V</td>\n      <td>8.0</td>\n      <td>...</td>\n      <td>7.0</td>\n      <td>V</td>\n      <td>7.0</td>\n      <td>V</td>\n      <td>7.0</td>\n      <td>V</td>\n      <td>7.0</td>\n      <td>V</td>\n      <td>7.0</td>\n      <td>V</td>\n    </tr>\n    <tr>\n      <th>...</th>\n      <td>...</td>\n      <td>...</td>\n      <td>...</td>\n      <td>...</td>\n      <td>...</td>\n      <td>...</td>\n      <td>...</td>\n      <td>...</td>\n      <td>...</td>\n      <td>...</td>\n      <td>...</td>\n      <td>...</td>\n      <td>...</td>\n      <td>...</td>\n      <td>...</td>\n      <td>...</td>\n      <td>...</td>\n      <td>...</td>\n      <td>...</td>\n      <td>...</td>\n      <td>...</td>\n    </tr>\n    <tr>\n      <th>1831</th>\n      <td>28</td>\n      <td>79</td>\n      <td>60</td>\n      <td>14</td>\n      <td>28079060_14_6</td>\n      <td>2019</td>\n      <td>8</td>\n      <td>94.0</td>\n      <td>V</td>\n      <td>104.0</td>\n      <td>...</td>\n      <td>88.0</td>\n      <td>V</td>\n      <td>90.0</td>\n      <td>V</td>\n      <td>99.0</td>\n      <td>V</td>\n      <td>108.0</td>\n      <td>V</td>\n      <td>98.0</td>\n      <td>V</td>\n    </tr>\n    <tr>\n      <th>1832</th>\n      <td>28</td>\n      <td>79</td>\n      <td>60</td>\n      <td>14</td>\n      <td>28079060_14_6</td>\n      <td>2019</td>\n      <td>9</td>\n      <td>88.0</td>\n      <td>V</td>\n      <td>82.0</td>\n      <td>...</td>\n      <td>54.0</td>\n      <td>V</td>\n      <td>68.0</td>\n      <td>V</td>\n      <td>70.0</td>\n      <td>V</td>\n      <td>55.0</td>\n      <td>V</td>\n      <td>0.0</td>\n      <td>N</td>\n    </tr>\n    <tr>\n      <th>1833</th>\n      <td>28</td>\n      <td>79</td>\n      <td>60</td>\n      <td>14</td>\n      <td>28079060_14_6</td>\n      <td>2019</td>\n      <td>10</td>\n      <td>44.0</td>\n      <td>V</td>\n      <td>75.0</td>\n      <td>...</td>\n      <td>28.0</td>\n      <td>V</td>\n      <td>33.0</td>\n      <td>V</td>\n      <td>16.0</td>\n      <td>V</td>\n      <td>19.0</td>\n      <td>V</td>\n      <td>47.0</td>\n      <td>V</td>\n    </tr>\n    <tr>\n      <th>1834</th>\n      <td>28</td>\n      <td>79</td>\n      <td>60</td>\n      <td>14</td>\n      <td>28079060_14_6</td>\n      <td>2019</td>\n      <td>11</td>\n      <td>41.0</td>\n      <td>V</td>\n      <td>55.0</td>\n      <td>...</td>\n      <td>55.0</td>\n      <td>V</td>\n      <td>52.0</td>\n      <td>V</td>\n      <td>47.0</td>\n      <td>V</td>\n      <td>56.0</td>\n      <td>V</td>\n      <td>0.0</td>\n      <td>N</td>\n    </tr>\n    <tr>\n      <th>1835</th>\n      <td>28</td>\n      <td>79</td>\n      <td>60</td>\n      <td>14</td>\n      <td>28079060_14_6</td>\n      <td>2019</td>\n      <td>12</td>\n      <td>47.0</td>\n      <td>V</td>\n      <td>53.0</td>\n      <td>...</td>\n      <td>17.0</td>\n      <td>V</td>\n      <td>13.0</td>\n      <td>V</td>\n      <td>14.0</td>\n      <td>V</td>\n      <td>5.0</td>\n      <td>V</td>\n      <td>4.0</td>\n      <td>V</td>\n    </tr>\n  </tbody>\n</table>\n<p>7266 rows × 69 columns</p>\n</div>"
     },
     "metadata": {},
     "execution_count": 30
    }
   ],
   "source": [
    "import pandas as pd\n",
    "import numpy as np\n",
    "import datetime as dt\n",
    "\n",
    "# Generar un DataFrame con los datos de los cuatro ficheros\n",
    "import pandas as pd \n",
    "\n",
    "emisiones_2016 = pd.read_csv('emisiones-2016.csv', sep = ';')\n",
    "emisiones_2017 = pd.read_csv('emisiones-2017.csv', sep = ';')\n",
    "emisiones_2018 = pd.read_csv('emisiones-2018.csv', sep = ';')\n",
    "emisiones_2019 = pd.read_csv('emisiones-2019.csv', sep = ';')\n",
    "emisiones = pd.concat([emisiones_2016, emisiones_2017, emisiones_2018, emisiones_2019])\n",
    "emisiones\n"
   ]
  },
  {
   "cell_type": "code",
   "execution_count": 31,
   "metadata": {},
   "outputs": [
    {
     "output_type": "execute_result",
     "data": {
      "text/plain": "      ESTACION  MAGNITUD   ANO  MES   D01    D02    D03   D04   D05   D06  \\\n0            4         1  2016    1   8.0    7.0    6.0   6.0   7.0   6.0   \n1            4         1  2016    2  12.0   13.0    9.0   9.0  11.0   9.0   \n2            4         1  2016    3  11.0   10.0    9.0   9.0   7.0   8.0   \n3            4         1  2016    4   8.0    9.0    9.0   8.0   8.0   9.0   \n4            4         1  2016    5   7.0    8.0    9.0   9.0   8.0   8.0   \n...        ...       ...   ...  ...   ...    ...    ...   ...   ...   ...   \n1831        60        14  2019    8  94.0  104.0  106.0  99.0  77.0  82.0   \n1832        60        14  2019    9  88.0   82.0   80.0  92.0  79.0  75.0   \n1833        60        14  2019   10  44.0   75.0   44.0  54.0  65.0  68.0   \n1834        60        14  2019   11  41.0   55.0   79.0  65.0  64.0  51.0   \n1835        60        14  2019   12  47.0   53.0   45.0  44.0  49.0  41.0   \n\n      ...   D22   D23    D24   D25   D26   D27   D28   D29    D30   D31  \n0     ...  10.0  11.0   11.0  13.0  12.0   9.0   7.0   8.0    9.0   9.0  \n1     ...  11.0  10.0    9.0   8.0   7.0   7.0   8.0   9.0    0.0   0.0  \n2     ...   8.0   8.0    9.0   9.0   9.0   8.0   7.0   8.0   10.0   8.0  \n3     ...   8.0   8.0    8.0   8.0   9.0   9.0   8.0   8.0    8.0   0.0  \n4     ...   7.0   7.0    8.0   7.0   7.0   7.0   7.0   7.0    7.0   7.0  \n...   ...   ...   ...    ...   ...   ...   ...   ...   ...    ...   ...  \n1831  ...  86.0  97.0  104.0  96.0  85.0  88.0  90.0  99.0  108.0  98.0  \n1832  ...  59.0  46.0   49.0  69.0  57.0  54.0  68.0  70.0   55.0   0.0  \n1833  ...  37.0  39.0   45.0  21.0  23.0  28.0  33.0  16.0   19.0  47.0  \n1834  ...  38.0  75.0   69.0  45.0  35.0  55.0  52.0  47.0   56.0   0.0  \n1835  ...  68.0  36.0    9.0  11.0  10.0  17.0  13.0  14.0    5.0   4.0  \n\n[7266 rows x 35 columns]",
      "text/html": "<div>\n<style scoped>\n    .dataframe tbody tr th:only-of-type {\n        vertical-align: middle;\n    }\n\n    .dataframe tbody tr th {\n        vertical-align: top;\n    }\n\n    .dataframe thead th {\n        text-align: right;\n    }\n</style>\n<table border=\"1\" class=\"dataframe\">\n  <thead>\n    <tr style=\"text-align: right;\">\n      <th></th>\n      <th>ESTACION</th>\n      <th>MAGNITUD</th>\n      <th>ANO</th>\n      <th>MES</th>\n      <th>D01</th>\n      <th>D02</th>\n      <th>D03</th>\n      <th>D04</th>\n      <th>D05</th>\n      <th>D06</th>\n      <th>...</th>\n      <th>D22</th>\n      <th>D23</th>\n      <th>D24</th>\n      <th>D25</th>\n      <th>D26</th>\n      <th>D27</th>\n      <th>D28</th>\n      <th>D29</th>\n      <th>D30</th>\n      <th>D31</th>\n    </tr>\n  </thead>\n  <tbody>\n    <tr>\n      <th>0</th>\n      <td>4</td>\n      <td>1</td>\n      <td>2016</td>\n      <td>1</td>\n      <td>8.0</td>\n      <td>7.0</td>\n      <td>6.0</td>\n      <td>6.0</td>\n      <td>7.0</td>\n      <td>6.0</td>\n      <td>...</td>\n      <td>10.0</td>\n      <td>11.0</td>\n      <td>11.0</td>\n      <td>13.0</td>\n      <td>12.0</td>\n      <td>9.0</td>\n      <td>7.0</td>\n      <td>8.0</td>\n      <td>9.0</td>\n      <td>9.0</td>\n    </tr>\n    <tr>\n      <th>1</th>\n      <td>4</td>\n      <td>1</td>\n      <td>2016</td>\n      <td>2</td>\n      <td>12.0</td>\n      <td>13.0</td>\n      <td>9.0</td>\n      <td>9.0</td>\n      <td>11.0</td>\n      <td>9.0</td>\n      <td>...</td>\n      <td>11.0</td>\n      <td>10.0</td>\n      <td>9.0</td>\n      <td>8.0</td>\n      <td>7.0</td>\n      <td>7.0</td>\n      <td>8.0</td>\n      <td>9.0</td>\n      <td>0.0</td>\n      <td>0.0</td>\n    </tr>\n    <tr>\n      <th>2</th>\n      <td>4</td>\n      <td>1</td>\n      <td>2016</td>\n      <td>3</td>\n      <td>11.0</td>\n      <td>10.0</td>\n      <td>9.0</td>\n      <td>9.0</td>\n      <td>7.0</td>\n      <td>8.0</td>\n      <td>...</td>\n      <td>8.0</td>\n      <td>8.0</td>\n      <td>9.0</td>\n      <td>9.0</td>\n      <td>9.0</td>\n      <td>8.0</td>\n      <td>7.0</td>\n      <td>8.0</td>\n      <td>10.0</td>\n      <td>8.0</td>\n    </tr>\n    <tr>\n      <th>3</th>\n      <td>4</td>\n      <td>1</td>\n      <td>2016</td>\n      <td>4</td>\n      <td>8.0</td>\n      <td>9.0</td>\n      <td>9.0</td>\n      <td>8.0</td>\n      <td>8.0</td>\n      <td>9.0</td>\n      <td>...</td>\n      <td>8.0</td>\n      <td>8.0</td>\n      <td>8.0</td>\n      <td>8.0</td>\n      <td>9.0</td>\n      <td>9.0</td>\n      <td>8.0</td>\n      <td>8.0</td>\n      <td>8.0</td>\n      <td>0.0</td>\n    </tr>\n    <tr>\n      <th>4</th>\n      <td>4</td>\n      <td>1</td>\n      <td>2016</td>\n      <td>5</td>\n      <td>7.0</td>\n      <td>8.0</td>\n      <td>9.0</td>\n      <td>9.0</td>\n      <td>8.0</td>\n      <td>8.0</td>\n      <td>...</td>\n      <td>7.0</td>\n      <td>7.0</td>\n      <td>8.0</td>\n      <td>7.0</td>\n      <td>7.0</td>\n      <td>7.0</td>\n      <td>7.0</td>\n      <td>7.0</td>\n      <td>7.0</td>\n      <td>7.0</td>\n    </tr>\n    <tr>\n      <th>...</th>\n      <td>...</td>\n      <td>...</td>\n      <td>...</td>\n      <td>...</td>\n      <td>...</td>\n      <td>...</td>\n      <td>...</td>\n      <td>...</td>\n      <td>...</td>\n      <td>...</td>\n      <td>...</td>\n      <td>...</td>\n      <td>...</td>\n      <td>...</td>\n      <td>...</td>\n      <td>...</td>\n      <td>...</td>\n      <td>...</td>\n      <td>...</td>\n      <td>...</td>\n      <td>...</td>\n    </tr>\n    <tr>\n      <th>1831</th>\n      <td>60</td>\n      <td>14</td>\n      <td>2019</td>\n      <td>8</td>\n      <td>94.0</td>\n      <td>104.0</td>\n      <td>106.0</td>\n      <td>99.0</td>\n      <td>77.0</td>\n      <td>82.0</td>\n      <td>...</td>\n      <td>86.0</td>\n      <td>97.0</td>\n      <td>104.0</td>\n      <td>96.0</td>\n      <td>85.0</td>\n      <td>88.0</td>\n      <td>90.0</td>\n      <td>99.0</td>\n      <td>108.0</td>\n      <td>98.0</td>\n    </tr>\n    <tr>\n      <th>1832</th>\n      <td>60</td>\n      <td>14</td>\n      <td>2019</td>\n      <td>9</td>\n      <td>88.0</td>\n      <td>82.0</td>\n      <td>80.0</td>\n      <td>92.0</td>\n      <td>79.0</td>\n      <td>75.0</td>\n      <td>...</td>\n      <td>59.0</td>\n      <td>46.0</td>\n      <td>49.0</td>\n      <td>69.0</td>\n      <td>57.0</td>\n      <td>54.0</td>\n      <td>68.0</td>\n      <td>70.0</td>\n      <td>55.0</td>\n      <td>0.0</td>\n    </tr>\n    <tr>\n      <th>1833</th>\n      <td>60</td>\n      <td>14</td>\n      <td>2019</td>\n      <td>10</td>\n      <td>44.0</td>\n      <td>75.0</td>\n      <td>44.0</td>\n      <td>54.0</td>\n      <td>65.0</td>\n      <td>68.0</td>\n      <td>...</td>\n      <td>37.0</td>\n      <td>39.0</td>\n      <td>45.0</td>\n      <td>21.0</td>\n      <td>23.0</td>\n      <td>28.0</td>\n      <td>33.0</td>\n      <td>16.0</td>\n      <td>19.0</td>\n      <td>47.0</td>\n    </tr>\n    <tr>\n      <th>1834</th>\n      <td>60</td>\n      <td>14</td>\n      <td>2019</td>\n      <td>11</td>\n      <td>41.0</td>\n      <td>55.0</td>\n      <td>79.0</td>\n      <td>65.0</td>\n      <td>64.0</td>\n      <td>51.0</td>\n      <td>...</td>\n      <td>38.0</td>\n      <td>75.0</td>\n      <td>69.0</td>\n      <td>45.0</td>\n      <td>35.0</td>\n      <td>55.0</td>\n      <td>52.0</td>\n      <td>47.0</td>\n      <td>56.0</td>\n      <td>0.0</td>\n    </tr>\n    <tr>\n      <th>1835</th>\n      <td>60</td>\n      <td>14</td>\n      <td>2019</td>\n      <td>12</td>\n      <td>47.0</td>\n      <td>53.0</td>\n      <td>45.0</td>\n      <td>44.0</td>\n      <td>49.0</td>\n      <td>41.0</td>\n      <td>...</td>\n      <td>68.0</td>\n      <td>36.0</td>\n      <td>9.0</td>\n      <td>11.0</td>\n      <td>10.0</td>\n      <td>17.0</td>\n      <td>13.0</td>\n      <td>14.0</td>\n      <td>5.0</td>\n      <td>4.0</td>\n    </tr>\n  </tbody>\n</table>\n<p>7266 rows × 35 columns</p>\n</div>"
     },
     "metadata": {},
     "execution_count": 31
    }
   ],
   "source": [
    "# Filtrar las columnas del DataFrame para quedarse con las columnas ESTACION, MAGNITUD, AÑO, MES y las correspondientes a los días D01, D02, etc. \n",
    "columnas = ['ESTACION', 'MAGNITUD', 'ANO', 'MES']\n",
    "columnas.extend([col for col in emisiones if col.startswith('D')])\n",
    "emisiones = emisiones[columnas]\n",
    "emisiones\n"
   ]
  },
  {
   "cell_type": "code",
   "execution_count": 32,
   "metadata": {},
   "outputs": [
    {
     "output_type": "execute_result",
     "data": {
      "text/plain": "        ESTACION  MAGNITUD   ANO  MES  DIA  VALOR\n0              4         1  2016    1  D01    8.0\n1              4         1  2016    2  D01   12.0\n2              4         1  2016    3  D01   11.0\n3              4         1  2016    4  D01    8.0\n4              4         1  2016    5  D01    7.0\n...          ...       ...   ...  ...  ...    ...\n225241        60        14  2019    8  D31   98.0\n225242        60        14  2019    9  D31    0.0\n225243        60        14  2019   10  D31   47.0\n225244        60        14  2019   11  D31    0.0\n225245        60        14  2019   12  D31    4.0\n\n[225246 rows x 6 columns]",
      "text/html": "<div>\n<style scoped>\n    .dataframe tbody tr th:only-of-type {\n        vertical-align: middle;\n    }\n\n    .dataframe tbody tr th {\n        vertical-align: top;\n    }\n\n    .dataframe thead th {\n        text-align: right;\n    }\n</style>\n<table border=\"1\" class=\"dataframe\">\n  <thead>\n    <tr style=\"text-align: right;\">\n      <th></th>\n      <th>ESTACION</th>\n      <th>MAGNITUD</th>\n      <th>ANO</th>\n      <th>MES</th>\n      <th>DIA</th>\n      <th>VALOR</th>\n    </tr>\n  </thead>\n  <tbody>\n    <tr>\n      <th>0</th>\n      <td>4</td>\n      <td>1</td>\n      <td>2016</td>\n      <td>1</td>\n      <td>D01</td>\n      <td>8.0</td>\n    </tr>\n    <tr>\n      <th>1</th>\n      <td>4</td>\n      <td>1</td>\n      <td>2016</td>\n      <td>2</td>\n      <td>D01</td>\n      <td>12.0</td>\n    </tr>\n    <tr>\n      <th>2</th>\n      <td>4</td>\n      <td>1</td>\n      <td>2016</td>\n      <td>3</td>\n      <td>D01</td>\n      <td>11.0</td>\n    </tr>\n    <tr>\n      <th>3</th>\n      <td>4</td>\n      <td>1</td>\n      <td>2016</td>\n      <td>4</td>\n      <td>D01</td>\n      <td>8.0</td>\n    </tr>\n    <tr>\n      <th>4</th>\n      <td>4</td>\n      <td>1</td>\n      <td>2016</td>\n      <td>5</td>\n      <td>D01</td>\n      <td>7.0</td>\n    </tr>\n    <tr>\n      <th>...</th>\n      <td>...</td>\n      <td>...</td>\n      <td>...</td>\n      <td>...</td>\n      <td>...</td>\n      <td>...</td>\n    </tr>\n    <tr>\n      <th>225241</th>\n      <td>60</td>\n      <td>14</td>\n      <td>2019</td>\n      <td>8</td>\n      <td>D31</td>\n      <td>98.0</td>\n    </tr>\n    <tr>\n      <th>225242</th>\n      <td>60</td>\n      <td>14</td>\n      <td>2019</td>\n      <td>9</td>\n      <td>D31</td>\n      <td>0.0</td>\n    </tr>\n    <tr>\n      <th>225243</th>\n      <td>60</td>\n      <td>14</td>\n      <td>2019</td>\n      <td>10</td>\n      <td>D31</td>\n      <td>47.0</td>\n    </tr>\n    <tr>\n      <th>225244</th>\n      <td>60</td>\n      <td>14</td>\n      <td>2019</td>\n      <td>11</td>\n      <td>D31</td>\n      <td>0.0</td>\n    </tr>\n    <tr>\n      <th>225245</th>\n      <td>60</td>\n      <td>14</td>\n      <td>2019</td>\n      <td>12</td>\n      <td>D31</td>\n      <td>4.0</td>\n    </tr>\n  </tbody>\n</table>\n<p>225246 rows × 6 columns</p>\n</div>"
     },
     "metadata": {},
     "execution_count": 32
    }
   ],
   "source": [
    "# Reestructurar el DataFrame para que los valores de los contaminantes de las columnas de los días aparezcan en una única columna.\n",
    "emisiones = emisiones.melt(id_vars=['ESTACION', 'MAGNITUD', 'ANO', 'MES'], var_name='DIA', value_name='VALOR')\n",
    "emisiones\n"
   ]
  },
  {
   "cell_type": "code",
   "execution_count": 33,
   "metadata": {},
   "outputs": [
    {
     "output_type": "execute_result",
     "data": {
      "text/plain": "        ESTACION  MAGNITUD   ANO  MES DIA  VALOR      FECHA\n0              4         1  2016    1  01    8.0 2016-01-01\n1              4         1  2016    2  01   12.0 2016-02-01\n2              4         1  2016    3  01   11.0 2016-03-01\n3              4         1  2016    4  01    8.0 2016-04-01\n4              4         1  2016    5  01    7.0 2016-05-01\n...          ...       ...   ...  ...  ..    ...        ...\n225241        60        14  2019    8  31   98.0 2019-08-31\n225242        60        14  2019    9  31    0.0        NaT\n225243        60        14  2019   10  31   47.0 2019-10-31\n225244        60        14  2019   11  31    0.0        NaT\n225245        60        14  2019   12  31    4.0 2019-12-31\n\n[225246 rows x 7 columns]",
      "text/html": "<div>\n<style scoped>\n    .dataframe tbody tr th:only-of-type {\n        vertical-align: middle;\n    }\n\n    .dataframe tbody tr th {\n        vertical-align: top;\n    }\n\n    .dataframe thead th {\n        text-align: right;\n    }\n</style>\n<table border=\"1\" class=\"dataframe\">\n  <thead>\n    <tr style=\"text-align: right;\">\n      <th></th>\n      <th>ESTACION</th>\n      <th>MAGNITUD</th>\n      <th>ANO</th>\n      <th>MES</th>\n      <th>DIA</th>\n      <th>VALOR</th>\n      <th>FECHA</th>\n    </tr>\n  </thead>\n  <tbody>\n    <tr>\n      <th>0</th>\n      <td>4</td>\n      <td>1</td>\n      <td>2016</td>\n      <td>1</td>\n      <td>01</td>\n      <td>8.0</td>\n      <td>2016-01-01</td>\n    </tr>\n    <tr>\n      <th>1</th>\n      <td>4</td>\n      <td>1</td>\n      <td>2016</td>\n      <td>2</td>\n      <td>01</td>\n      <td>12.0</td>\n      <td>2016-02-01</td>\n    </tr>\n    <tr>\n      <th>2</th>\n      <td>4</td>\n      <td>1</td>\n      <td>2016</td>\n      <td>3</td>\n      <td>01</td>\n      <td>11.0</td>\n      <td>2016-03-01</td>\n    </tr>\n    <tr>\n      <th>3</th>\n      <td>4</td>\n      <td>1</td>\n      <td>2016</td>\n      <td>4</td>\n      <td>01</td>\n      <td>8.0</td>\n      <td>2016-04-01</td>\n    </tr>\n    <tr>\n      <th>4</th>\n      <td>4</td>\n      <td>1</td>\n      <td>2016</td>\n      <td>5</td>\n      <td>01</td>\n      <td>7.0</td>\n      <td>2016-05-01</td>\n    </tr>\n    <tr>\n      <th>...</th>\n      <td>...</td>\n      <td>...</td>\n      <td>...</td>\n      <td>...</td>\n      <td>...</td>\n      <td>...</td>\n      <td>...</td>\n    </tr>\n    <tr>\n      <th>225241</th>\n      <td>60</td>\n      <td>14</td>\n      <td>2019</td>\n      <td>8</td>\n      <td>31</td>\n      <td>98.0</td>\n      <td>2019-08-31</td>\n    </tr>\n    <tr>\n      <th>225242</th>\n      <td>60</td>\n      <td>14</td>\n      <td>2019</td>\n      <td>9</td>\n      <td>31</td>\n      <td>0.0</td>\n      <td>NaT</td>\n    </tr>\n    <tr>\n      <th>225243</th>\n      <td>60</td>\n      <td>14</td>\n      <td>2019</td>\n      <td>10</td>\n      <td>31</td>\n      <td>47.0</td>\n      <td>2019-10-31</td>\n    </tr>\n    <tr>\n      <th>225244</th>\n      <td>60</td>\n      <td>14</td>\n      <td>2019</td>\n      <td>11</td>\n      <td>31</td>\n      <td>0.0</td>\n      <td>NaT</td>\n    </tr>\n    <tr>\n      <th>225245</th>\n      <td>60</td>\n      <td>14</td>\n      <td>2019</td>\n      <td>12</td>\n      <td>31</td>\n      <td>4.0</td>\n      <td>2019-12-31</td>\n    </tr>\n  </tbody>\n</table>\n<p>225246 rows × 7 columns</p>\n</div>"
     },
     "metadata": {},
     "execution_count": 33
    }
   ],
   "source": [
    "# Crear una nueva columna con las fechas a partir del año, mes y día\n",
    "# Primero eliminamos el caracter D del comienzo de la columna de los días\n",
    "emisiones['DIA'] = emisiones.DIA.str.strip('D')\n",
    "# Concatenamos las columnas del año, mes y día\n",
    "emisiones['FECHA'] = emisiones.ANO.apply(str) + '/' + emisiones.MES.apply(str) + '/' + emisiones.DIA.apply(str)\n",
    "# Convertimos la nueva columna al tipo fecha\n",
    "emisiones['FECHA'] = pd.to_datetime(emisiones.FECHA, format='%Y/%m/%d', infer_datetime_format=True, errors='coerce')\n",
    "emisiones"
   ]
  },
  {
   "cell_type": "code",
   "execution_count": 34,
   "metadata": {},
   "outputs": [
    {
     "output_type": "execute_result",
     "data": {
      "text/plain": "        ESTACION  MAGNITUD   ANO  MES DIA  VALOR      FECHA\n0              4         1  2016    1  01    8.0 2016-01-01\n7266           4         1  2016    1  02    7.0 2016-01-02\n14532          4         1  2016    1  03    6.0 2016-01-03\n21798          4         1  2016    1  04    6.0 2016-01-04\n29064          4         1  2016    1  05    7.0 2016-01-05\n...          ...       ...   ...  ...  ..    ...        ...\n196181        60        14  2019   12  27   17.0 2019-12-27\n203447        60        14  2019   12  28   13.0 2019-12-28\n210713        60        14  2019   12  29   14.0 2019-12-29\n217979        60        14  2019   12  30    5.0 2019-12-30\n225245        60        14  2019   12  31    4.0 2019-12-31\n\n[221158 rows x 7 columns]",
      "text/html": "<div>\n<style scoped>\n    .dataframe tbody tr th:only-of-type {\n        vertical-align: middle;\n    }\n\n    .dataframe tbody tr th {\n        vertical-align: top;\n    }\n\n    .dataframe thead th {\n        text-align: right;\n    }\n</style>\n<table border=\"1\" class=\"dataframe\">\n  <thead>\n    <tr style=\"text-align: right;\">\n      <th></th>\n      <th>ESTACION</th>\n      <th>MAGNITUD</th>\n      <th>ANO</th>\n      <th>MES</th>\n      <th>DIA</th>\n      <th>VALOR</th>\n      <th>FECHA</th>\n    </tr>\n  </thead>\n  <tbody>\n    <tr>\n      <th>0</th>\n      <td>4</td>\n      <td>1</td>\n      <td>2016</td>\n      <td>1</td>\n      <td>01</td>\n      <td>8.0</td>\n      <td>2016-01-01</td>\n    </tr>\n    <tr>\n      <th>7266</th>\n      <td>4</td>\n      <td>1</td>\n      <td>2016</td>\n      <td>1</td>\n      <td>02</td>\n      <td>7.0</td>\n      <td>2016-01-02</td>\n    </tr>\n    <tr>\n      <th>14532</th>\n      <td>4</td>\n      <td>1</td>\n      <td>2016</td>\n      <td>1</td>\n      <td>03</td>\n      <td>6.0</td>\n      <td>2016-01-03</td>\n    </tr>\n    <tr>\n      <th>21798</th>\n      <td>4</td>\n      <td>1</td>\n      <td>2016</td>\n      <td>1</td>\n      <td>04</td>\n      <td>6.0</td>\n      <td>2016-01-04</td>\n    </tr>\n    <tr>\n      <th>29064</th>\n      <td>4</td>\n      <td>1</td>\n      <td>2016</td>\n      <td>1</td>\n      <td>05</td>\n      <td>7.0</td>\n      <td>2016-01-05</td>\n    </tr>\n    <tr>\n      <th>...</th>\n      <td>...</td>\n      <td>...</td>\n      <td>...</td>\n      <td>...</td>\n      <td>...</td>\n      <td>...</td>\n      <td>...</td>\n    </tr>\n    <tr>\n      <th>196181</th>\n      <td>60</td>\n      <td>14</td>\n      <td>2019</td>\n      <td>12</td>\n      <td>27</td>\n      <td>17.0</td>\n      <td>2019-12-27</td>\n    </tr>\n    <tr>\n      <th>203447</th>\n      <td>60</td>\n      <td>14</td>\n      <td>2019</td>\n      <td>12</td>\n      <td>28</td>\n      <td>13.0</td>\n      <td>2019-12-28</td>\n    </tr>\n    <tr>\n      <th>210713</th>\n      <td>60</td>\n      <td>14</td>\n      <td>2019</td>\n      <td>12</td>\n      <td>29</td>\n      <td>14.0</td>\n      <td>2019-12-29</td>\n    </tr>\n    <tr>\n      <th>217979</th>\n      <td>60</td>\n      <td>14</td>\n      <td>2019</td>\n      <td>12</td>\n      <td>30</td>\n      <td>5.0</td>\n      <td>2019-12-30</td>\n    </tr>\n    <tr>\n      <th>225245</th>\n      <td>60</td>\n      <td>14</td>\n      <td>2019</td>\n      <td>12</td>\n      <td>31</td>\n      <td>4.0</td>\n      <td>2019-12-31</td>\n    </tr>\n  </tbody>\n</table>\n<p>221158 rows × 7 columns</p>\n</div>"
     },
     "metadata": {},
     "execution_count": 34
    }
   ],
   "source": [
    "# Eliminar las filas con fechas no válidas\n",
    "emisiones = emisiones.drop(emisiones[np.isnat(emisiones.FECHA)].index)\n",
    "# Ordenar el el dataframe por estación, magnitud y fecha\n",
    "emisiones.sort_values(['ESTACION', 'MAGNITUD', 'FECHA'])"
   ]
  },
  {
   "cell_type": "code",
   "execution_count": 35,
   "metadata": {},
   "outputs": [
    {
     "output_type": "stream",
     "name": "stdout",
     "text": "Estaciones: [ 4  8 11 16 17 18 24 27 35 36 38 39 40 47 48 49 50 54 55 56 57 58 59 60]\nContaminantes: [ 1  6  7  8 12  9 10 14 20 30 35 42 43 44]\n"
    }
   ],
   "source": [
    "# Mostrar las estaciones disponibles\n",
    "print('Estaciones:', emisiones.ESTACION.unique())\n",
    "# Mostrar los contaminantes disponibles\n",
    "print('Contaminantes:', emisiones.MAGNITUD.unique())"
   ]
  },
  {
   "cell_type": "code",
   "execution_count": 41,
   "metadata": {},
   "outputs": [
    {
     "output_type": "execute_result",
     "data": {
      "text/plain": "179559    89.0\n186825    87.0\n194091    46.0\n201357    38.0\n208623    29.0\n          ... \n57841     82.0\n65107     64.0\n72373     26.0\n79639     59.0\n86905     71.0\nName: VALOR, Length: 111, dtype: float64"
     },
     "metadata": {},
     "execution_count": 41
    }
   ],
   "source": [
    "# Función que devuelve las emisiones de un contaminante dado en una estación y rango de fechas dado.\n",
    "def evolucion(estacion, contaminante, desde, hasta):\n",
    "    return emisiones[(emisiones.ESTACION == estacion) & (emisiones.MAGNITUD == contaminante) & (emisiones.FECHA >= desde) & (emisiones.FECHA <= hasta)].sort_values('FECHA').VALOR\n",
    "evolucion(56, 8, dt.datetime.strptime('2018/10/25', '%Y/%m/%d'), dt.datetime.strptime('2019/02/12', '%Y/%m/%d'))"
   ]
  },
  {
   "cell_type": "code",
   "execution_count": 36,
   "metadata": {},
   "outputs": [
    {
     "output_type": "execute_result",
     "data": {
      "text/plain": "            count       mean         std   min    25%    50%    75%       max\nMAGNITUD                                                                     \n1         14610.0   7.428953    7.012504  0.00   4.00   7.00  10.00    610.00\n6         14610.0   0.350233    0.215935  0.00   0.20   0.30   0.40     14.90\n7         35064.0  20.446412  135.123509  0.00   4.00   9.00  23.00  24742.00\n8         35064.0  37.677618   20.118050  0.00  22.00  35.00  50.00    148.00\n9          8948.0  10.087729   10.643591  0.00   6.00   9.00  13.00    850.00\n10        17897.0  18.772923   35.723619  0.00  10.00  16.00  24.00   4481.00\n12        35064.0  67.959417   61.443940  0.00  29.00  48.00  84.00   1005.00\n14        20454.0  49.941772   24.753120  0.00  31.00  52.00  69.00    336.00\n20         8766.0   2.364944    4.236706  0.00   0.80   1.60   2.80    195.00\n30         8766.0   0.531371    0.538180  0.00   0.20   0.40   0.70     15.10\n35         8766.0   0.479751    1.183618  0.00   0.10   0.20   0.50     35.70\n42         4383.0   1.400897    0.251836 -0.01   1.25   1.38   1.54      3.09\n43         4383.0   1.292923    0.230898 -0.14   1.17   1.28   1.43      2.77\n44         4383.0   0.108941    0.068776  0.00   0.06   0.10   0.14      1.31",
      "text/html": "<div>\n<style scoped>\n    .dataframe tbody tr th:only-of-type {\n        vertical-align: middle;\n    }\n\n    .dataframe tbody tr th {\n        vertical-align: top;\n    }\n\n    .dataframe thead th {\n        text-align: right;\n    }\n</style>\n<table border=\"1\" class=\"dataframe\">\n  <thead>\n    <tr style=\"text-align: right;\">\n      <th></th>\n      <th>count</th>\n      <th>mean</th>\n      <th>std</th>\n      <th>min</th>\n      <th>25%</th>\n      <th>50%</th>\n      <th>75%</th>\n      <th>max</th>\n    </tr>\n    <tr>\n      <th>MAGNITUD</th>\n      <th></th>\n      <th></th>\n      <th></th>\n      <th></th>\n      <th></th>\n      <th></th>\n      <th></th>\n      <th></th>\n    </tr>\n  </thead>\n  <tbody>\n    <tr>\n      <th>1</th>\n      <td>14610.0</td>\n      <td>7.428953</td>\n      <td>7.012504</td>\n      <td>0.00</td>\n      <td>4.00</td>\n      <td>7.00</td>\n      <td>10.00</td>\n      <td>610.00</td>\n    </tr>\n    <tr>\n      <th>6</th>\n      <td>14610.0</td>\n      <td>0.350233</td>\n      <td>0.215935</td>\n      <td>0.00</td>\n      <td>0.20</td>\n      <td>0.30</td>\n      <td>0.40</td>\n      <td>14.90</td>\n    </tr>\n    <tr>\n      <th>7</th>\n      <td>35064.0</td>\n      <td>20.446412</td>\n      <td>135.123509</td>\n      <td>0.00</td>\n      <td>4.00</td>\n      <td>9.00</td>\n      <td>23.00</td>\n      <td>24742.00</td>\n    </tr>\n    <tr>\n      <th>8</th>\n      <td>35064.0</td>\n      <td>37.677618</td>\n      <td>20.118050</td>\n      <td>0.00</td>\n      <td>22.00</td>\n      <td>35.00</td>\n      <td>50.00</td>\n      <td>148.00</td>\n    </tr>\n    <tr>\n      <th>9</th>\n      <td>8948.0</td>\n      <td>10.087729</td>\n      <td>10.643591</td>\n      <td>0.00</td>\n      <td>6.00</td>\n      <td>9.00</td>\n      <td>13.00</td>\n      <td>850.00</td>\n    </tr>\n    <tr>\n      <th>10</th>\n      <td>17897.0</td>\n      <td>18.772923</td>\n      <td>35.723619</td>\n      <td>0.00</td>\n      <td>10.00</td>\n      <td>16.00</td>\n      <td>24.00</td>\n      <td>4481.00</td>\n    </tr>\n    <tr>\n      <th>12</th>\n      <td>35064.0</td>\n      <td>67.959417</td>\n      <td>61.443940</td>\n      <td>0.00</td>\n      <td>29.00</td>\n      <td>48.00</td>\n      <td>84.00</td>\n      <td>1005.00</td>\n    </tr>\n    <tr>\n      <th>14</th>\n      <td>20454.0</td>\n      <td>49.941772</td>\n      <td>24.753120</td>\n      <td>0.00</td>\n      <td>31.00</td>\n      <td>52.00</td>\n      <td>69.00</td>\n      <td>336.00</td>\n    </tr>\n    <tr>\n      <th>20</th>\n      <td>8766.0</td>\n      <td>2.364944</td>\n      <td>4.236706</td>\n      <td>0.00</td>\n      <td>0.80</td>\n      <td>1.60</td>\n      <td>2.80</td>\n      <td>195.00</td>\n    </tr>\n    <tr>\n      <th>30</th>\n      <td>8766.0</td>\n      <td>0.531371</td>\n      <td>0.538180</td>\n      <td>0.00</td>\n      <td>0.20</td>\n      <td>0.40</td>\n      <td>0.70</td>\n      <td>15.10</td>\n    </tr>\n    <tr>\n      <th>35</th>\n      <td>8766.0</td>\n      <td>0.479751</td>\n      <td>1.183618</td>\n      <td>0.00</td>\n      <td>0.10</td>\n      <td>0.20</td>\n      <td>0.50</td>\n      <td>35.70</td>\n    </tr>\n    <tr>\n      <th>42</th>\n      <td>4383.0</td>\n      <td>1.400897</td>\n      <td>0.251836</td>\n      <td>-0.01</td>\n      <td>1.25</td>\n      <td>1.38</td>\n      <td>1.54</td>\n      <td>3.09</td>\n    </tr>\n    <tr>\n      <th>43</th>\n      <td>4383.0</td>\n      <td>1.292923</td>\n      <td>0.230898</td>\n      <td>-0.14</td>\n      <td>1.17</td>\n      <td>1.28</td>\n      <td>1.43</td>\n      <td>2.77</td>\n    </tr>\n    <tr>\n      <th>44</th>\n      <td>4383.0</td>\n      <td>0.108941</td>\n      <td>0.068776</td>\n      <td>0.00</td>\n      <td>0.06</td>\n      <td>0.10</td>\n      <td>0.14</td>\n      <td>1.31</td>\n    </tr>\n  </tbody>\n</table>\n</div>"
     },
     "metadata": {},
     "execution_count": 36
    }
   ],
   "source": [
    "# Resumen descriptivo por contaminantes\n",
    "emisiones.groupby('MAGNITUD').VALOR.describe()"
   ]
  },
  {
   "cell_type": "code",
   "execution_count": 37,
   "metadata": {},
   "outputs": [
    {
     "output_type": "execute_result",
     "data": {
      "text/plain": "                    count       mean        std  min   25%   50%    75%    max\nESTACION MAGNITUD                                                             \n4        1         1461.0   7.329911  16.379050  1.0   4.0   7.0    9.0  610.0\n         6         1461.0   0.411499   0.172902  0.1   0.3   0.4    0.5    1.3\n         7         1461.0  31.939767  37.667968  0.0   8.0  16.0   42.0  239.0\n         8         1461.0  44.398357  17.766063  0.0  31.0  43.0   55.0  105.0\n         12        1461.0  93.341547  72.436531  0.0  44.0  69.0  119.0  467.0\n...                   ...        ...        ...  ...   ...   ...    ...    ...\n60       7         1461.0  12.326489  19.593109  1.0   2.0   4.0   12.0  151.0\n         8         1461.0  31.125941  18.101896  3.0  18.0  27.0   41.0  101.0\n         10        1461.0  17.033539  12.205022  1.0   9.0  14.0   21.0  215.0\n         12        1461.0  50.023956  45.933843  6.0  22.0  33.0   60.0  328.0\n         14        1461.0  60.718001  26.309952  4.0  42.0  65.0   81.0  119.0\n\n[153 rows x 8 columns]",
      "text/html": "<div>\n<style scoped>\n    .dataframe tbody tr th:only-of-type {\n        vertical-align: middle;\n    }\n\n    .dataframe tbody tr th {\n        vertical-align: top;\n    }\n\n    .dataframe thead th {\n        text-align: right;\n    }\n</style>\n<table border=\"1\" class=\"dataframe\">\n  <thead>\n    <tr style=\"text-align: right;\">\n      <th></th>\n      <th></th>\n      <th>count</th>\n      <th>mean</th>\n      <th>std</th>\n      <th>min</th>\n      <th>25%</th>\n      <th>50%</th>\n      <th>75%</th>\n      <th>max</th>\n    </tr>\n    <tr>\n      <th>ESTACION</th>\n      <th>MAGNITUD</th>\n      <th></th>\n      <th></th>\n      <th></th>\n      <th></th>\n      <th></th>\n      <th></th>\n      <th></th>\n      <th></th>\n    </tr>\n  </thead>\n  <tbody>\n    <tr>\n      <th rowspan=\"5\" valign=\"top\">4</th>\n      <th>1</th>\n      <td>1461.0</td>\n      <td>7.329911</td>\n      <td>16.379050</td>\n      <td>1.0</td>\n      <td>4.0</td>\n      <td>7.0</td>\n      <td>9.0</td>\n      <td>610.0</td>\n    </tr>\n    <tr>\n      <th>6</th>\n      <td>1461.0</td>\n      <td>0.411499</td>\n      <td>0.172902</td>\n      <td>0.1</td>\n      <td>0.3</td>\n      <td>0.4</td>\n      <td>0.5</td>\n      <td>1.3</td>\n    </tr>\n    <tr>\n      <th>7</th>\n      <td>1461.0</td>\n      <td>31.939767</td>\n      <td>37.667968</td>\n      <td>0.0</td>\n      <td>8.0</td>\n      <td>16.0</td>\n      <td>42.0</td>\n      <td>239.0</td>\n    </tr>\n    <tr>\n      <th>8</th>\n      <td>1461.0</td>\n      <td>44.398357</td>\n      <td>17.766063</td>\n      <td>0.0</td>\n      <td>31.0</td>\n      <td>43.0</td>\n      <td>55.0</td>\n      <td>105.0</td>\n    </tr>\n    <tr>\n      <th>12</th>\n      <td>1461.0</td>\n      <td>93.341547</td>\n      <td>72.436531</td>\n      <td>0.0</td>\n      <td>44.0</td>\n      <td>69.0</td>\n      <td>119.0</td>\n      <td>467.0</td>\n    </tr>\n    <tr>\n      <th>...</th>\n      <th>...</th>\n      <td>...</td>\n      <td>...</td>\n      <td>...</td>\n      <td>...</td>\n      <td>...</td>\n      <td>...</td>\n      <td>...</td>\n      <td>...</td>\n    </tr>\n    <tr>\n      <th rowspan=\"5\" valign=\"top\">60</th>\n      <th>7</th>\n      <td>1461.0</td>\n      <td>12.326489</td>\n      <td>19.593109</td>\n      <td>1.0</td>\n      <td>2.0</td>\n      <td>4.0</td>\n      <td>12.0</td>\n      <td>151.0</td>\n    </tr>\n    <tr>\n      <th>8</th>\n      <td>1461.0</td>\n      <td>31.125941</td>\n      <td>18.101896</td>\n      <td>3.0</td>\n      <td>18.0</td>\n      <td>27.0</td>\n      <td>41.0</td>\n      <td>101.0</td>\n    </tr>\n    <tr>\n      <th>10</th>\n      <td>1461.0</td>\n      <td>17.033539</td>\n      <td>12.205022</td>\n      <td>1.0</td>\n      <td>9.0</td>\n      <td>14.0</td>\n      <td>21.0</td>\n      <td>215.0</td>\n    </tr>\n    <tr>\n      <th>12</th>\n      <td>1461.0</td>\n      <td>50.023956</td>\n      <td>45.933843</td>\n      <td>6.0</td>\n      <td>22.0</td>\n      <td>33.0</td>\n      <td>60.0</td>\n      <td>328.0</td>\n    </tr>\n    <tr>\n      <th>14</th>\n      <td>1461.0</td>\n      <td>60.718001</td>\n      <td>26.309952</td>\n      <td>4.0</td>\n      <td>42.0</td>\n      <td>65.0</td>\n      <td>81.0</td>\n      <td>119.0</td>\n    </tr>\n  </tbody>\n</table>\n<p>153 rows × 8 columns</p>\n</div>"
     },
     "metadata": {},
     "execution_count": 37
    }
   ],
   "source": [
    "# Resumen descriptivo por contaminantes y distritos\n",
    "emisiones.groupby(['ESTACION', 'MAGNITUD']).VALOR.describe()"
   ]
  },
  {
   "cell_type": "code",
   "execution_count": 38,
   "metadata": {},
   "outputs": [
    {
     "output_type": "stream",
     "name": "stdout",
     "text": "Resumen Dióxido de Nitrógeno en Plaza Elíptica:\ncount    1461.000000\nmean       55.113621\nstd        21.911483\nmin         0.000000\n25%        39.000000\n50%        53.000000\n75%        69.000000\nmax       142.000000\nName: VALOR, dtype: float64\n\nResumen Dióxido de Nitrógeno en Plaza del Carmen:\ncount    1461.000000\nmean       43.260096\nstd        16.384656\nmin         0.000000\n25%        32.000000\n50%        43.000000\n75%        54.000000\nmax        96.000000\nName: VALOR, dtype: float64\n"
    }
   ],
   "source": [
    "# Función que devuelve un resumen descriptivo de la emisiones en un contaminante dado en un estación dada\n",
    "def resumen(estacion, contaminante):\n",
    "    return emisiones[(emisiones.ESTACION == estacion) & (emisiones.MAGNITUD == contaminante)].VALOR.describe()\n",
    "\n",
    "# Resumen de Dióxido de Nitrógeno en Plaza Elíptica\n",
    "print('Resumen Dióxido de Nitrógeno en Plaza Elíptica:\\n', resumen(56, 8),'\\n', sep='')\n",
    "# Resumen de Dióxido de Nitrógeno en Plaza del Carmen\n",
    "print('Resumen Dióxido de Nitrógeno en Plaza del Carmen:\\n', resumen(35, 8), sep='')"
   ]
  },
  {
   "cell_type": "code",
   "execution_count": 20,
   "metadata": {},
   "outputs": [
    {
     "output_type": "execute_result",
     "data": {
      "text/plain": "MES              1          2          3          4          5          6   \\\nESTACION                                                                     \n4         61.129032  56.000000  44.677419  34.870968  33.451613  35.516129   \n8         74.516129  69.612903  57.064516  46.903226  43.032258  40.580645   \n11        58.516129  53.806452  37.709677  31.032258  26.064516  30.709677   \n16        54.387097  51.387097  35.451613  27.032258  20.354839  23.870968   \n17        65.967742  63.354839  43.161290  28.451613  22.548387  24.322581   \n18        55.161290  49.516129  35.645161  23.516129  19.967742  20.354839   \n24        37.516129  34.741935  21.645161  12.677419  10.806452  11.612903   \n27        47.580645  43.548387  35.709677  26.677419  22.903226  25.387097   \n35        54.548387  46.838710  31.903226  21.000000  22.548387  25.193548   \n36        58.870968  53.000000  37.645161  28.387097  21.354839  24.000000   \n38        62.193548  53.612903  38.032258  28.387097  25.935484  24.548387   \n39        63.354839  56.193548  37.483871  24.741935  19.483871  24.387097   \n40        58.967742  51.806452  36.387097  27.516129  21.967742  23.258065   \n47        53.548387  47.483871  36.322581  22.838710  21.354839  18.354839   \n48        55.709677  51.645161  34.677419  25.612903  17.967742  23.838710   \n49        45.580645  37.967742  25.870968  16.806452  14.354839  13.451613   \n50        57.741935  50.774194  36.741935  31.419355  24.000000  29.258065   \n54        60.774194  53.580645  38.354839  27.000000  24.645161  21.354839   \n55        63.548387  55.774194  44.161290  30.225806  25.419355  25.774194   \n56        77.483871  74.451613  61.064516  45.387097  44.032258  39.774194   \n57        53.967742  47.258065  31.290323  24.193548  17.354839  20.096774   \n58        24.774194  21.741935  15.483871  10.806452   9.483871  11.870968   \n59        39.064516  37.000000  25.322581  19.032258  13.741935  16.290323   \n60        42.032258  40.419355  25.129032  20.354839  14.580645  17.645161   \n\nMES              7          8          9          10         11         12  \nESTACION                                                                    \n4         36.838710  34.064516  34.258065  33.451613  21.096774  40.806452  \n8         36.387097  24.612903  43.774194  55.000000  40.677419  49.870968  \n11        33.451613  28.322581  35.774194  48.451613  30.774194  47.612903  \n16        25.258065  24.548387  30.258065  41.935484  28.548387  40.677419  \n17        27.161290  29.322581  35.741935  47.774194  29.580645  44.516129  \n18        22.322581  23.419355  25.000000  41.225806  24.580645  39.193548  \n24        13.322581  13.903226  19.935484  27.000000  11.774194  26.258065  \n27        27.032258  31.677419  34.806452  49.000000  29.161290  45.774194  \n35        35.322581  33.096774  36.322581  45.193548  29.161290  41.483871  \n36        25.677419  25.935484  30.483871  43.838710  31.258065  43.354839  \n38        22.096774  21.161290  35.838710  47.064516  28.258065  45.870968  \n39        25.483871  24.870968  29.483871  47.290323  26.258065  42.774194  \n40        26.419355  26.548387  33.612903  44.580645  29.967742  41.709677  \n47        23.903226  26.806452  32.580645  43.645161  25.870968  39.193548  \n48        24.903226  20.870968  26.451613  43.967742  32.580645  43.000000  \n49        16.129032  16.322581  18.806452  31.838710  21.483871  33.935484  \n50        28.967742  26.258065  31.193548  44.709677  30.741935  41.709677  \n54        23.806452  26.225806  33.161290  46.967742  31.838710  45.967742  \n55        26.064516  28.225806  31.774194  45.000000  26.935484  44.064516  \n56        45.838710  44.580645  50.419355  57.225806  34.000000  51.903226  \n57        21.903226  21.677419  25.064516  37.806452  25.161290  38.193548  \n58        12.322581  12.935484  14.935484  21.645161  11.516129  18.935484  \n59        14.225806  14.774194  22.129032  35.290323  22.645161  32.387097  \n60        22.000000  16.096774  18.838710  20.806452  15.225806  42.870968  ",
      "text/html": "<div>\n<style scoped>\n    .dataframe tbody tr th:only-of-type {\n        vertical-align: middle;\n    }\n\n    .dataframe tbody tr th {\n        vertical-align: top;\n    }\n\n    .dataframe thead th {\n        text-align: right;\n    }\n</style>\n<table border=\"1\" class=\"dataframe\">\n  <thead>\n    <tr style=\"text-align: right;\">\n      <th>MES</th>\n      <th>1</th>\n      <th>2</th>\n      <th>3</th>\n      <th>4</th>\n      <th>5</th>\n      <th>6</th>\n      <th>7</th>\n      <th>8</th>\n      <th>9</th>\n      <th>10</th>\n      <th>11</th>\n      <th>12</th>\n    </tr>\n    <tr>\n      <th>ESTACION</th>\n      <th></th>\n      <th></th>\n      <th></th>\n      <th></th>\n      <th></th>\n      <th></th>\n      <th></th>\n      <th></th>\n      <th></th>\n      <th></th>\n      <th></th>\n      <th></th>\n    </tr>\n  </thead>\n  <tbody>\n    <tr>\n      <th>4</th>\n      <td>61.129032</td>\n      <td>56.000000</td>\n      <td>44.677419</td>\n      <td>34.870968</td>\n      <td>33.451613</td>\n      <td>35.516129</td>\n      <td>36.838710</td>\n      <td>34.064516</td>\n      <td>34.258065</td>\n      <td>33.451613</td>\n      <td>21.096774</td>\n      <td>40.806452</td>\n    </tr>\n    <tr>\n      <th>8</th>\n      <td>74.516129</td>\n      <td>69.612903</td>\n      <td>57.064516</td>\n      <td>46.903226</td>\n      <td>43.032258</td>\n      <td>40.580645</td>\n      <td>36.387097</td>\n      <td>24.612903</td>\n      <td>43.774194</td>\n      <td>55.000000</td>\n      <td>40.677419</td>\n      <td>49.870968</td>\n    </tr>\n    <tr>\n      <th>11</th>\n      <td>58.516129</td>\n      <td>53.806452</td>\n      <td>37.709677</td>\n      <td>31.032258</td>\n      <td>26.064516</td>\n      <td>30.709677</td>\n      <td>33.451613</td>\n      <td>28.322581</td>\n      <td>35.774194</td>\n      <td>48.451613</td>\n      <td>30.774194</td>\n      <td>47.612903</td>\n    </tr>\n    <tr>\n      <th>16</th>\n      <td>54.387097</td>\n      <td>51.387097</td>\n      <td>35.451613</td>\n      <td>27.032258</td>\n      <td>20.354839</td>\n      <td>23.870968</td>\n      <td>25.258065</td>\n      <td>24.548387</td>\n      <td>30.258065</td>\n      <td>41.935484</td>\n      <td>28.548387</td>\n      <td>40.677419</td>\n    </tr>\n    <tr>\n      <th>17</th>\n      <td>65.967742</td>\n      <td>63.354839</td>\n      <td>43.161290</td>\n      <td>28.451613</td>\n      <td>22.548387</td>\n      <td>24.322581</td>\n      <td>27.161290</td>\n      <td>29.322581</td>\n      <td>35.741935</td>\n      <td>47.774194</td>\n      <td>29.580645</td>\n      <td>44.516129</td>\n    </tr>\n    <tr>\n      <th>18</th>\n      <td>55.161290</td>\n      <td>49.516129</td>\n      <td>35.645161</td>\n      <td>23.516129</td>\n      <td>19.967742</td>\n      <td>20.354839</td>\n      <td>22.322581</td>\n      <td>23.419355</td>\n      <td>25.000000</td>\n      <td>41.225806</td>\n      <td>24.580645</td>\n      <td>39.193548</td>\n    </tr>\n    <tr>\n      <th>24</th>\n      <td>37.516129</td>\n      <td>34.741935</td>\n      <td>21.645161</td>\n      <td>12.677419</td>\n      <td>10.806452</td>\n      <td>11.612903</td>\n      <td>13.322581</td>\n      <td>13.903226</td>\n      <td>19.935484</td>\n      <td>27.000000</td>\n      <td>11.774194</td>\n      <td>26.258065</td>\n    </tr>\n    <tr>\n      <th>27</th>\n      <td>47.580645</td>\n      <td>43.548387</td>\n      <td>35.709677</td>\n      <td>26.677419</td>\n      <td>22.903226</td>\n      <td>25.387097</td>\n      <td>27.032258</td>\n      <td>31.677419</td>\n      <td>34.806452</td>\n      <td>49.000000</td>\n      <td>29.161290</td>\n      <td>45.774194</td>\n    </tr>\n    <tr>\n      <th>35</th>\n      <td>54.548387</td>\n      <td>46.838710</td>\n      <td>31.903226</td>\n      <td>21.000000</td>\n      <td>22.548387</td>\n      <td>25.193548</td>\n      <td>35.322581</td>\n      <td>33.096774</td>\n      <td>36.322581</td>\n      <td>45.193548</td>\n      <td>29.161290</td>\n      <td>41.483871</td>\n    </tr>\n    <tr>\n      <th>36</th>\n      <td>58.870968</td>\n      <td>53.000000</td>\n      <td>37.645161</td>\n      <td>28.387097</td>\n      <td>21.354839</td>\n      <td>24.000000</td>\n      <td>25.677419</td>\n      <td>25.935484</td>\n      <td>30.483871</td>\n      <td>43.838710</td>\n      <td>31.258065</td>\n      <td>43.354839</td>\n    </tr>\n    <tr>\n      <th>38</th>\n      <td>62.193548</td>\n      <td>53.612903</td>\n      <td>38.032258</td>\n      <td>28.387097</td>\n      <td>25.935484</td>\n      <td>24.548387</td>\n      <td>22.096774</td>\n      <td>21.161290</td>\n      <td>35.838710</td>\n      <td>47.064516</td>\n      <td>28.258065</td>\n      <td>45.870968</td>\n    </tr>\n    <tr>\n      <th>39</th>\n      <td>63.354839</td>\n      <td>56.193548</td>\n      <td>37.483871</td>\n      <td>24.741935</td>\n      <td>19.483871</td>\n      <td>24.387097</td>\n      <td>25.483871</td>\n      <td>24.870968</td>\n      <td>29.483871</td>\n      <td>47.290323</td>\n      <td>26.258065</td>\n      <td>42.774194</td>\n    </tr>\n    <tr>\n      <th>40</th>\n      <td>58.967742</td>\n      <td>51.806452</td>\n      <td>36.387097</td>\n      <td>27.516129</td>\n      <td>21.967742</td>\n      <td>23.258065</td>\n      <td>26.419355</td>\n      <td>26.548387</td>\n      <td>33.612903</td>\n      <td>44.580645</td>\n      <td>29.967742</td>\n      <td>41.709677</td>\n    </tr>\n    <tr>\n      <th>47</th>\n      <td>53.548387</td>\n      <td>47.483871</td>\n      <td>36.322581</td>\n      <td>22.838710</td>\n      <td>21.354839</td>\n      <td>18.354839</td>\n      <td>23.903226</td>\n      <td>26.806452</td>\n      <td>32.580645</td>\n      <td>43.645161</td>\n      <td>25.870968</td>\n      <td>39.193548</td>\n    </tr>\n    <tr>\n      <th>48</th>\n      <td>55.709677</td>\n      <td>51.645161</td>\n      <td>34.677419</td>\n      <td>25.612903</td>\n      <td>17.967742</td>\n      <td>23.838710</td>\n      <td>24.903226</td>\n      <td>20.870968</td>\n      <td>26.451613</td>\n      <td>43.967742</td>\n      <td>32.580645</td>\n      <td>43.000000</td>\n    </tr>\n    <tr>\n      <th>49</th>\n      <td>45.580645</td>\n      <td>37.967742</td>\n      <td>25.870968</td>\n      <td>16.806452</td>\n      <td>14.354839</td>\n      <td>13.451613</td>\n      <td>16.129032</td>\n      <td>16.322581</td>\n      <td>18.806452</td>\n      <td>31.838710</td>\n      <td>21.483871</td>\n      <td>33.935484</td>\n    </tr>\n    <tr>\n      <th>50</th>\n      <td>57.741935</td>\n      <td>50.774194</td>\n      <td>36.741935</td>\n      <td>31.419355</td>\n      <td>24.000000</td>\n      <td>29.258065</td>\n      <td>28.967742</td>\n      <td>26.258065</td>\n      <td>31.193548</td>\n      <td>44.709677</td>\n      <td>30.741935</td>\n      <td>41.709677</td>\n    </tr>\n    <tr>\n      <th>54</th>\n      <td>60.774194</td>\n      <td>53.580645</td>\n      <td>38.354839</td>\n      <td>27.000000</td>\n      <td>24.645161</td>\n      <td>21.354839</td>\n      <td>23.806452</td>\n      <td>26.225806</td>\n      <td>33.161290</td>\n      <td>46.967742</td>\n      <td>31.838710</td>\n      <td>45.967742</td>\n    </tr>\n    <tr>\n      <th>55</th>\n      <td>63.548387</td>\n      <td>55.774194</td>\n      <td>44.161290</td>\n      <td>30.225806</td>\n      <td>25.419355</td>\n      <td>25.774194</td>\n      <td>26.064516</td>\n      <td>28.225806</td>\n      <td>31.774194</td>\n      <td>45.000000</td>\n      <td>26.935484</td>\n      <td>44.064516</td>\n    </tr>\n    <tr>\n      <th>56</th>\n      <td>77.483871</td>\n      <td>74.451613</td>\n      <td>61.064516</td>\n      <td>45.387097</td>\n      <td>44.032258</td>\n      <td>39.774194</td>\n      <td>45.838710</td>\n      <td>44.580645</td>\n      <td>50.419355</td>\n      <td>57.225806</td>\n      <td>34.000000</td>\n      <td>51.903226</td>\n    </tr>\n    <tr>\n      <th>57</th>\n      <td>53.967742</td>\n      <td>47.258065</td>\n      <td>31.290323</td>\n      <td>24.193548</td>\n      <td>17.354839</td>\n      <td>20.096774</td>\n      <td>21.903226</td>\n      <td>21.677419</td>\n      <td>25.064516</td>\n      <td>37.806452</td>\n      <td>25.161290</td>\n      <td>38.193548</td>\n    </tr>\n    <tr>\n      <th>58</th>\n      <td>24.774194</td>\n      <td>21.741935</td>\n      <td>15.483871</td>\n      <td>10.806452</td>\n      <td>9.483871</td>\n      <td>11.870968</td>\n      <td>12.322581</td>\n      <td>12.935484</td>\n      <td>14.935484</td>\n      <td>21.645161</td>\n      <td>11.516129</td>\n      <td>18.935484</td>\n    </tr>\n    <tr>\n      <th>59</th>\n      <td>39.064516</td>\n      <td>37.000000</td>\n      <td>25.322581</td>\n      <td>19.032258</td>\n      <td>13.741935</td>\n      <td>16.290323</td>\n      <td>14.225806</td>\n      <td>14.774194</td>\n      <td>22.129032</td>\n      <td>35.290323</td>\n      <td>22.645161</td>\n      <td>32.387097</td>\n    </tr>\n    <tr>\n      <th>60</th>\n      <td>42.032258</td>\n      <td>40.419355</td>\n      <td>25.129032</td>\n      <td>20.354839</td>\n      <td>14.580645</td>\n      <td>17.645161</td>\n      <td>22.000000</td>\n      <td>16.096774</td>\n      <td>18.838710</td>\n      <td>20.806452</td>\n      <td>15.225806</td>\n      <td>42.870968</td>\n    </tr>\n  </tbody>\n</table>\n</div>"
     },
     "metadata": {},
     "execution_count": 20
    }
   ],
   "source": [
    "# Función que devuelve una serie con las emisiones medias mensuales de un contaminante y un mes año para todos las estaciones\n",
    "def evolucion_mensual(contaminante, año):\n",
    "    return emisiones[(emisiones.MAGNITUD == contaminante) & (emisiones.ANO == año)].groupby(['ESTACION', 'MES']).VALOR.mean().unstack('MES')\n",
    "\n",
    "# Evolución del dióxido de nitrógeno en 2019\n",
    "evolucion_mensual(8, 2019)\n",
    "\n"
   ]
  },
  {
   "cell_type": "code",
   "execution_count": 81,
   "metadata": {},
   "outputs": [
    {
     "output_type": "stream",
     "name": "stdout",
     "text": "Pclass\n1    34.611765\n2    28.722973\n3    21.750000\nName: female, dtype: float64\n"
    }
   ],
   "source": [
    "# Mostrar la edad media de las mujeres que viajaban en cada clase.\n",
    "print(titanic.groupby(['Pclass','Sex'])['Age'].mean().unstack()['female'])"
   ]
  },
  {
   "cell_type": "code",
   "execution_count": 85,
   "metadata": {},
   "outputs": [],
   "source": [
    "# Añadir una nueva columna booleana para ver si el pasajero era menor de edad o no.\n",
    "titanic['Young'] = titanic['Age'] < 18"
   ]
  },
  {
   "cell_type": "code",
   "execution_count": 91,
   "metadata": {},
   "outputs": [
    {
     "output_type": "stream",
     "name": "stdout",
     "text": "Pclass  Young  Survived\n1       False  1           61.274510\n               0           38.725490\n        True   1           91.666667\n               0            8.333333\n2       False  0           59.006211\n               1           40.993789\n        True   1           91.304348\n               0            8.695652\n3       False  0           78.208232\n               1           21.791768\n        True   0           62.820513\n               1           37.179487\nName: Survived, dtype: float64\n"
    }
   ],
   "source": [
    "# Mostrar el porcentaje de menores y mayores de edad que sobrevivieron en cada clase.\n",
    "print(titanic.groupby(['Pclass', 'Young'])['Survived'].value_counts(normalize = True) * 100)"
   ]
  },
  {
   "cell_type": "code",
   "execution_count": null,
   "metadata": {},
   "outputs": [],
   "source": []
  }
 ],
 "metadata": {
  "kernelspec": {
   "display_name": "Python 3",
   "language": "python",
   "name": "python3"
  },
  "language_info": {
   "codemirror_mode": {
    "name": "ipython",
    "version": 3
   },
   "file_extension": ".py",
   "mimetype": "text/x-python",
   "name": "python",
   "nbconvert_exporter": "python",
   "pygments_lexer": "ipython3",
   "version": "3.7.6-final"
  }
 },
 "nbformat": 4,
 "nbformat_minor": 2
}