{
 "cells": [
  {
   "cell_type": "markdown",
   "metadata": {},
   "source": [
    "# Ejercicio\n",
    "El fichero [`cotizacion.csv`](cotizacion.csv) contiene las cotizaciones de las empresas del IBEX35 con las siguientes columnas: `nombre` (nombre de la empresa), `Final` (precio de la acción al cierre de bolsa), `Máximo` (precio máximo de la acción durante la jornada), `Mínimo` (precio mínimo de la acción durante la jornada), `volumen` (Volumen al cierre de bolsa), `Efectivo` (capitalización al cierre en miles de euros). Construir una función que construya un DataFrame a partir del un fichero con el formato anterior y devuelva otro DataFrame con el mínimo, el máximo y la media de dada columna."
   ]
  },
  {
   "cell_type": "markdown",
   "metadata": {},
   "source": [
    "# Solución"
   ]
  },
  {
   "cell_type": "code",
   "execution_count": 15,
   "metadata": {},
   "outputs": [
    {
     "output_type": "execute_result",
     "data": {
      "text/plain": "               Final        Máximo        Mínimo       Volumen    Efectivo\nMínimo      1.016500      4.067500      1.016500  1.221000e+03    2343.090\nMáximo  19705.000000  19875.000000  19675.000000  3.612969e+07  145765.440\nMedia    2796.768757   3170.113357   3136.510471  4.252279e+06   31767.778",
      "text/html": "<div>\n<style scoped>\n    .dataframe tbody tr th:only-of-type {\n        vertical-align: middle;\n    }\n\n    .dataframe tbody tr th {\n        vertical-align: top;\n    }\n\n    .dataframe thead th {\n        text-align: right;\n    }\n</style>\n<table border=\"1\" class=\"dataframe\">\n  <thead>\n    <tr style=\"text-align: right;\">\n      <th></th>\n      <th>Final</th>\n      <th>Máximo</th>\n      <th>Mínimo</th>\n      <th>Volumen</th>\n      <th>Efectivo</th>\n    </tr>\n  </thead>\n  <tbody>\n    <tr>\n      <th>Mínimo</th>\n      <td>1.016500</td>\n      <td>4.067500</td>\n      <td>1.016500</td>\n      <td>1.221000e+03</td>\n      <td>2343.090</td>\n    </tr>\n    <tr>\n      <th>Máximo</th>\n      <td>19705.000000</td>\n      <td>19875.000000</td>\n      <td>19675.000000</td>\n      <td>3.612969e+07</td>\n      <td>145765.440</td>\n    </tr>\n    <tr>\n      <th>Media</th>\n      <td>2796.768757</td>\n      <td>3170.113357</td>\n      <td>3136.510471</td>\n      <td>4.252279e+06</td>\n      <td>31767.778</td>\n    </tr>\n  </tbody>\n</table>\n</div>"
     },
     "metadata": {},
     "execution_count": 15
    }
   ],
   "source": [
    "import pandas as pd\n",
    "\n",
    "def resumen_cotizaciones(fichero):\n",
    "    df = pd.read_csv(fichero, sep=';', decimal=',', thousands='.', index_col=0)\n",
    "    return pd.DataFrame([df.min(), df.max(), df.mean()], index=['Mínimo', 'Máximo', 'Media'])\n",
    "\n",
    "resumen_cotizaciones('cotizacion.csv')"
   ]
  },
  {
   "cell_type": "code",
   "execution_count": null,
   "metadata": {},
   "outputs": [],
   "source": []
  }
 ],
 "metadata": {
  "kernelspec": {
   "display_name": "Python 3",
   "language": "python",
   "name": "python3"
  },
  "language_info": {
   "codemirror_mode": {
    "name": "ipython",
    "version": 3
   },
   "file_extension": ".py",
   "mimetype": "text/x-python",
   "name": "python",
   "nbconvert_exporter": "python",
   "pygments_lexer": "ipython3",
   "version": "3.7.6-final"
  }
 },
 "nbformat": 4,
 "nbformat_minor": 2
}