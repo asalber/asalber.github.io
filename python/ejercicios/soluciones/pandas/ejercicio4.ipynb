{
 "cells": [
  {
   "cell_type": "markdown",
   "metadata": {},
   "source": [
    "# Ejercicio \n",
    "\n",
    "Escribir programa que genere y muestre por pantalla un DataFrame con los datos de la tabla siguiente:\n",
    "\n",
    "| Mes     | Ventas | Gastos |\n",
    "| ------- | -----: | -----: |\n",
    "| Enero   |  30500 |  22000 |\n",
    "| Febrero |  35600 |  23400 |\n",
    "| Marzo   |  28300 |  18100 |\n",
    "| Abril   |  33900 |  20700 |"
   ]
  },
  {
   "cell_type": "markdown",
   "metadata": {},
   "source": [
    "# Solución 1"
   ]
  },
  {
   "cell_type": "code",
   "execution_count": 1,
   "metadata": {},
   "outputs": [
    {
     "output_type": "stream",
     "name": "stdout",
     "text": "Mes  Ventas  Gastos\n0    Enero   30500   22000\n1  Febrero   35600   23400\n2    Marzo   28300   18100\n3    Abril   33900   20700\n"
    }
   ],
   "source": [
    "import pandas as pd\n",
    "\n",
    "datos = {'Mes':['Enero', 'Febrero', 'Marzo', 'Abril'], 'Ventas':[30500, 35600, 28300, 33900], 'Gastos':[22000, 23400, 18100, 20700]}\n",
    "contabilidad = pd.DataFrame(datos)\n",
    "print(contabilidad)"
   ]
  },
  {
   "cell_type": "markdown",
   "metadata": {},
   "source": [
    "# Solución 2"
   ]
  },
  {
   "cell_type": "code",
   "execution_count": 7,
   "metadata": {},
   "outputs": [
    {
     "output_type": "stream",
     "name": "stdout",
     "text": "Mes  Ventas  Gastos\n0    Enero   30500   22000\n1  Febrero   35600   23400\n2    Marzo   28300   18100\n3    Abril   33900   20700\n"
    }
   ],
   "source": [
    "import pandas as pd\n",
    "\n",
    "datos = [['Enero', 30500, 22000], ['Febrero', 35600, 23400], ['Marzo', 28300, 18100], ['Abril', 33900,20700]]\n",
    "contabilidad = pd.DataFrame(datos, columns=['Mes', 'Ventas', 'Gastos'])\n",
    "print(contabilidad)"
   ]
  },
  {
   "cell_type": "code",
   "execution_count": null,
   "metadata": {},
   "outputs": [],
   "source": []
  }
 ],
 "metadata": {
  "kernelspec": {
   "display_name": "Python 3",
   "language": "python",
   "name": "python3"
  },
  "language_info": {
   "codemirror_mode": {
    "name": "ipython",
    "version": 3
   },
   "file_extension": ".py",
   "mimetype": "text/x-python",
   "name": "python",
   "nbconvert_exporter": "python",
   "pygments_lexer": "ipython3",
   "version": "3.7.6-final"
  }
 },
 "nbformat": 4,
 "nbformat_minor": 2
}