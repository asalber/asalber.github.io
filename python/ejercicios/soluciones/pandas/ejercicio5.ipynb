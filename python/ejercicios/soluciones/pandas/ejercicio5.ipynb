{
 "cells": [
  {
   "cell_type": "markdown",
   "metadata": {},
   "source": [
    "# Ejercicio \n",
    "\n",
    "Escribir un programa que genere un DataFrame a partir del fichero titanic.csv y muestre por pantalla las dimensiones del DataFrame, el número de datos que contiene, los nombres de sus columnas y filas, los tipos de datos de las columnas, las 10 primeras filas y las 10 últimas filas."
   ]
  },
  {
   "cell_type": "markdown",
   "metadata": {},
   "source": [
    "# Solución"
   ]
  },
  {
   "cell_type": "code",
   "execution_count": 10,
   "metadata": {},
   "outputs": [
    {
     "output_type": "stream",
     "name": "stdout",
     "text": "Dimensiones: (156, 12)\nNúmero de elemntos: 1872\nNombres de columnas: Index(['PassengerId', 'Survived', 'Pclass', 'Name', 'Sex', 'Age', 'SibSp',\n       'Parch', 'Ticket', 'Fare', 'Cabin', 'Embarked'],\n      dtype='object')\nNombres de filas: RangeIndex(start=0, stop=156, step=1)\nTipos de datos:\n PassengerId      int64\nSurvived         int64\nPclass           int64\nName            object\nSex             object\nAge            float64\nSibSp            int64\nParch            int64\nTicket          object\nFare           float64\nCabin           object\nEmbarked        object\ndtype: object\nPrimeras 10 filas:\n    PassengerId  Survived  Pclass  \\\n0            1         0       3   \n1            2         1       1   \n2            3         1       3   \n3            4         1       1   \n4            5         0       3   \n5            6         0       3   \n6            7         0       1   \n7            8         0       3   \n8            9         1       3   \n9           10         1       2   \n\n                                                Name     Sex   Age  SibSp  \\\n0                            Braund, Mr. Owen Harris    male  22.0      1   \n1  Cumings, Mrs. John Bradley (Florence Briggs Th...  female  38.0      1   \n2                             Heikkinen, Miss. Laina  female  26.0      0   \n3       Futrelle, Mrs. Jacques Heath (Lily May Peel)  female  35.0      1   \n4                           Allen, Mr. William Henry    male  35.0      0   \n5                                   Moran, Mr. James    male   NaN      0   \n6                            McCarthy, Mr. Timothy J    male  54.0      0   \n7                     Palsson, Master. Gosta Leonard    male   2.0      3   \n8  Johnson, Mrs. Oscar W (Elisabeth Vilhelmina Berg)  female  27.0      0   \n9                Nasser, Mrs. Nicholas (Adele Achem)  female  14.0      1   \n\n   Parch            Ticket     Fare Cabin Embarked  \n0      0         A/5 21171   7.2500   NaN        S  \n1      0          PC 17599  71.2833   C85        C  \n2      0  STON/O2. 3101282   7.9250   NaN        S  \n3      0            113803  53.1000  C123        S  \n4      0            373450   8.0500   NaN        S  \n5      0            330877   8.4583   NaN        Q  \n6      0             17463  51.8625   E46        S  \n7      1            349909  21.0750   NaN        S  \n8      2            347742  11.1333   NaN        S  \n9      0            237736  30.0708   NaN        C  \nÚltimas 10 filas:\n      PassengerId  Survived  Pclass  \\\n146          147         1       3   \n147          148         0       3   \n148          149         0       2   \n149          150         0       2   \n150          151         0       2   \n151          152         1       1   \n152          153         0       3   \n153          154         0       3   \n154          155         0       3   \n155          156         0       1   \n\n                                             Name     Sex   Age  SibSp  Parch  \\\n146  Andersson, Mr. August Edvard (\"Wennerstrom\")    male  27.0      0      0   \n147              Ford, Miss. Robina Maggie \"Ruby\"  female   9.0      2      2   \n148      Navratil, Mr. Michel (\"Louis M Hoffman\")    male  36.5      0      2   \n149             Byles, Rev. Thomas Roussel Davids    male  42.0      0      0   \n150                    Bateman, Rev. Robert James    male  51.0      0      0   \n151             Pears, Mrs. Thomas (Edith Wearne)  female  22.0      1      0   \n152                              Meo, Mr. Alfonzo    male  55.5      0      0   \n153               van Billiard, Mr. Austin Blyler    male  40.5      0      2   \n154                         Olsen, Mr. Ole Martin    male   NaN      0      0   \n155                   Williams, Mr. Charles Duane    male  51.0      0      1   \n\n          Ticket     Fare Cabin Embarked  \n146       350043   7.7958   NaN        S  \n147   W./C. 6608  34.3750   NaN        S  \n148       230080  26.0000    F2        S  \n149       244310  13.0000   NaN        S  \n150  S.O.P. 1166  12.5250   NaN        S  \n151       113776  66.6000    C2        S  \n152   A.5. 11206   8.0500   NaN        S  \n153     A/5. 851  14.5000   NaN        S  \n154    Fa 265302   7.3125   NaN        S  \n155     PC 17597  61.3792   NaN        C  \n"
    }
   ],
   "source": [
    "import pandas as pd\n",
    "\n",
    "titanic = pd.read_csv('https://gist.githubusercontent.com/michhar/2dfd2de0d4f8727f873422c5d959fff5/raw/ff414a1bcfcba32481e4d4e8db578e55872a2ca1/titanic.csv', sep='\\t')\n",
    "\n",
    "print('Dimensiones:', titanic.shape)\n",
    "print('Número de elemntos:', titanic.size)\n",
    "print('Nombres de columnas:', titanic.columns)\n",
    "print('Nombres de filas:', titanic.index)\n",
    "print('Tipos de datos:\\n', titanic.dtypes)\n",
    "print('Primeras 10 filas:\\n', titanic.head(10))\n",
    "print('Últimas 10 filas:\\n', titanic.tail(10))"
   ]
  },
  {
   "cell_type": "code",
   "execution_count": null,
   "metadata": {},
   "outputs": [],
   "source": []
  }
 ],
 "metadata": {
  "kernelspec": {
   "display_name": "Python 3",
   "language": "python",
   "name": "python3"
  },
  "language_info": {
   "codemirror_mode": {
    "name": "ipython",
    "version": 3
   },
   "file_extension": ".py",
   "mimetype": "text/x-python",
   "name": "python",
   "nbconvert_exporter": "python",
   "pygments_lexer": "ipython3",
   "version": "3.7.6-final"
  }
 },
 "nbformat": 4,
 "nbformat_minor": 2
}