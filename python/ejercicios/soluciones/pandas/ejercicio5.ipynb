{
 "cells": [
  {
   "cell_type": "markdown",
   "metadata": {},
   "source": [
    "# Ejercicio \n",
    "\n",
    "Escribir una función que reciba un DataFrame con el formato del ejercicio anterior, una lista de meses, y devuelva el balance (ventas - gastos) total en los meses indicados."
   ]
  },
  {
   "cell_type": "markdown",
   "metadata": {},
   "source": [
    "# Solución 1"
   ]
  },
  {
   "cell_type": "code",
   "execution_count": 10,
   "metadata": {},
   "outputs": [
    {
     "output_type": "stream",
     "name": "stdout",
     "text": "18700\n"
    }
   ],
   "source": [
    "import pandas as pd\n",
    "\n",
    "datos = {'Mes':['Enero', 'Febrero', 'Marzo', 'Abril'], 'Ventas':[30500, 35600, 28300, 33900], 'Gastos':[22000, 23400, 18100, 20700]}\n",
    "\n",
    "contabilidad = pd.DataFrame(datos)\n",
    "\n",
    "def balance(contabilidad, meses):\n",
    "    contabilidad['Balance'] = contabilidad.Ventas - contabilidad.Gastos\n",
    "    return contabilidad[contabilidad.Mes.isin(meses)].Balance.sum()\n",
    "\n",
    "print(balance(contabilidad, ['Enero','Marzo']))\n",
    ""
   ]
  },
  {
   "cell_type": "markdown",
   "metadata": {},
   "source": [
    "# Solución 2"
   ]
  },
  {
   "cell_type": "code",
   "execution_count": 21,
   "metadata": {},
   "outputs": [
    {
     "output_type": "stream",
     "name": "stdout",
     "text": "18700\n"
    }
   ],
   "source": [
    "import pandas as pd\n",
    "\n",
    "datos = {'Mes':['Enero', 'Febrero', 'Marzo', 'Abril'], 'Ventas':[30500, 35600, 28300, 33900], 'Gastos':[22000, 23400, 18100, 20700]}\n",
    "\n",
    "contabilidad = pd.DataFrame(datos)\n",
    "\n",
    "def balance(contabilidad, meses):\n",
    "    contabilidad['Balance'] = contabilidad.Ventas - contabilidad.Gastos\n",
    "    return contabilidad.set_index('Mes').loc[meses,'Balance'].sum()\n",
    "\n",
    "print(balance(contabilidad, ['Enero','Marzo']))"
   ]
  },
  {
   "cell_type": "code",
   "execution_count": null,
   "metadata": {},
   "outputs": [],
   "source": []
  }
 ],
 "metadata": {
  "kernelspec": {
   "display_name": "Python 3",
   "language": "python",
   "name": "python3"
  },
  "language_info": {
   "codemirror_mode": {
    "name": "ipython",
    "version": 3
   },
   "file_extension": ".py",
   "mimetype": "text/x-python",
   "name": "python",
   "nbconvert_exporter": "python",
   "pygments_lexer": "ipython3",
   "version": "3.7.6-final"
  }
 },
 "nbformat": 4,
 "nbformat_minor": 2
}