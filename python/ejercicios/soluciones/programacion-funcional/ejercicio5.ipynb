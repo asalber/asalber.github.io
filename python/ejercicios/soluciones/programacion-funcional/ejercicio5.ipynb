{
 "cells": [
  {
   "cell_type": "markdown",
   "metadata": {},
   "source": [
    "## Ejercicio\n",
    "\n",
    "Escribir una función reciba un diccionario con la las asignaturas y las notas de un alumno y devuelva otro diccionario con las asignaturas en mayúsculas y las calificaciones correspondientes a las notas."
   ]
  },
  {
   "cell_type": "markdown",
   "metadata": {},
   "source": [
    "## Solución 1"
   ]
  },
  {
   "cell_type": "code",
   "execution_count": 1,
   "metadata": {},
   "outputs": [
    {
     "name": "stdout",
     "output_type": "stream",
     "text": [
      "{'MATEMÁTICAS': 'AP', 'FÍSICA': 'AP', 'QUÍMICA': 'SS', 'ECONOMÍA': 'NT', 'HISTORIA': 'SB', 'PROGRAMACIÓN': 'MH'}\n"
     ]
    }
   ],
   "source": [
    "def grade(score):\n",
    "    '''\n",
    "    Función que devuelve la calificación correspondiente a una nota.\n",
    "    Parámetros:\n",
    "        score: Es un valor real entre 0 y 10.\n",
    "    Devuelve:\n",
    "        La calificación correspondiente a la nota score.\n",
    "    '''\n",
    "    if score < 5:\n",
    "        return 'SS'\n",
    "    elif score < 7:\n",
    "        return 'AP'\n",
    "    elif score < 9:\n",
    "        return 'NT'\n",
    "    elif score < 10:\n",
    "        return 'SB'\n",
    "    else:\n",
    "        return 'MH'\n",
    "\n",
    "def apply_grade(scores):\n",
    "    '''\n",
    "    Función que recibe un diccionario de asignaturas y notas y devuelve otro con las asignaturas en mayúsculas y las calificaciones correspondientes a las notas.\n",
    "    Parámetros:\n",
    "        scores: Es un diccionario con pares asignatura:nota donde nota es un valor real entre 0 y 10.\n",
    "    Devuelve\n",
    "        Un diccionario con pares ASIGNATURA:calificación, donde calificación es la calificación correspondiente a la nota de la asignatura.\n",
    "    '''\n",
    "    subjects = map(str.upper, scores.keys())\n",
    "    grades = map(grade, scores.values())\n",
    "    return dict(zip(subjects, grades))\n",
    "\n",
    "print(apply_grade({'Matemáticas':6.5, 'Física':5, 'Química':3.4, 'Economía':8.2, 'Historia':9.7, 'Programación':10}))"
   ]
  },
  {
   "cell_type": "markdown",
   "metadata": {},
   "source": [
    "## Solución 2"
   ]
  },
  {
   "cell_type": "code",
   "execution_count": 3,
   "metadata": {},
   "outputs": [
    {
     "name": "stdout",
     "output_type": "stream",
     "text": [
      "{'MATEMÁTICAS': 'AP', 'FÍSICA': 'AP', 'QUÍMICA': 'SS', 'ECONOMÍA': 'NT', 'HISTORIA': 'SB', 'PROGRAMACIÓN': 'MH'}\n"
     ]
    }
   ],
   "source": [
    "def grade(score):\n",
    "    '''\n",
    "    Función que devuelve la calificación correspondiente a una nota.\n",
    "    Parámetros:\n",
    "        score: Es un valor real entre 0 y 10.\n",
    "    Devuelve:\n",
    "        La calificación correspondiente a la nota score.\n",
    "    '''\n",
    "    if score < 5:\n",
    "        return 'SS'\n",
    "    elif score < 7:\n",
    "        return 'AP'\n",
    "    elif score < 9:\n",
    "        return 'NT'\n",
    "    elif score < 10:\n",
    "        return 'SB'\n",
    "    else:\n",
    "        return 'MH'\n",
    "\n",
    "def apply_grade(scores):\n",
    "    '''\n",
    "    Función que recibe un diccionario de asignaturas y notas y devuelve otro con las asignaturas en mayúsculas y las calificaciones correspondientes a las notas.\n",
    "    Parámetros:\n",
    "        scores: Es un diccionario con pares asignatura:nota donde nota es un valor real entre 0 y 10.\n",
    "    Devuelve\n",
    "        Un diccionario con pares ASIGNATURA:calificación, donde calificación es la calificación correspondiente a la nota de la asignatura.\n",
    "    '''\n",
    "    return {subject.upper():grade(score) for subject, score in scores.items()}\n",
    "\n",
    "print(apply_grade({'Matemáticas':6.5, 'Física':5, 'Química':3.4, 'Economía':8.2, 'Historia':9.7, 'Programación':10}))"
   ]
  }
 ],
 "metadata": {
  "kernelspec": {
   "display_name": "Python 3",
   "language": "python",
   "name": "python3"
  },
  "language_info": {
   "codemirror_mode": {
    "name": "ipython",
    "version": 3
   },
   "file_extension": ".py",
   "mimetype": "text/x-python",
   "name": "python",
   "nbconvert_exporter": "python",
   "pygments_lexer": "ipython3",
   "version": "3.6.8"
  }
 },
 "nbformat": 4,
 "nbformat_minor": 2
}
