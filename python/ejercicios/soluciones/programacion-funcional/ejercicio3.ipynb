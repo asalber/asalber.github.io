{
 "cells": [
  {
   "cell_type": "markdown",
   "metadata": {},
   "source": [
    "## Ejercicio\n",
    "\n",
    "Escribir que reciba una frase y devuelva un diccionario con las palabras que contiene y su longitud. "
   ]
  },
  {
   "cell_type": "markdown",
   "metadata": {},
   "source": [
    "## Solución 1"
   ]
  },
  {
   "cell_type": "code",
   "execution_count": 1,
   "metadata": {},
   "outputs": [
    {
     "name": "stdout",
     "output_type": "stream",
     "text": [
      "{'Welcome': 7, 'to': 2, 'Python': 6}\n"
     ]
    }
   ],
   "source": [
    "def length_words(sentence):\n",
    "    '''\n",
    "    Función que recibe una frase y devuelve un diccionario con las palabras que contiene y su longitud.\n",
    "    Parámetros:\n",
    "        sentence: Es una cadena de caracteres con una frase.\n",
    "    Devuelve:\n",
    "        Un diccionario con pares palabra:longitud donde palabra son las palabras que contiene la frase sentence.\n",
    "    '''\n",
    "    words = sentence.split()\n",
    "    lengths = map(len, words)\n",
    "    return dict(zip(words, lengths))\n",
    "\n",
    "print(length_words('Welcome to Python'))"
   ]
  },
  {
   "cell_type": "markdown",
   "metadata": {},
   "source": [
    "## Solución 2"
   ]
  },
  {
   "cell_type": "code",
   "execution_count": 2,
   "metadata": {},
   "outputs": [
    {
     "name": "stdout",
     "output_type": "stream",
     "text": [
      "{'Welcome': 7, 'to': 2, 'Python': 6}\n"
     ]
    }
   ],
   "source": [
    "def length_words(sentence):\n",
    "    '''\n",
    "    Función que recibe una frase y devuelve un diccionario con las palabras que contiene y su longitud.\n",
    "    Parámetros:\n",
    "        sentence: Es una cadena de caracteres con una frase.\n",
    "    Devuelve:\n",
    "        Un diccionario con pares palabra:longitud donde palabra son las palabras que contiene la frase sentence.\n",
    "    '''\n",
    "    return {word:len(word) for word in sentence.split()}\n",
    "\n",
    "print(length_words('Welcome to Python'))"
   ]
  }
 ],
 "metadata": {
  "kernelspec": {
   "display_name": "Python 3",
   "language": "python",
   "name": "python3"
  },
  "language_info": {
   "codemirror_mode": {
    "name": "ipython",
    "version": 3
   },
   "file_extension": ".py",
   "mimetype": "text/x-python",
   "name": "python",
   "nbconvert_exporter": "python",
   "pygments_lexer": "ipython3",
   "version": "3.6.8"
  }
 },
 "nbformat": 4,
 "nbformat_minor": 2
}
