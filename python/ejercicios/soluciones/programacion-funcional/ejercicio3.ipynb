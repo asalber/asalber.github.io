{
 "cells": [
  {
   "cell_type": "markdown",
   "metadata": {},
   "source": [
    "## Ejercicio\n",
    "\n",
    "Escribir una función que reciba otra función y una lista, y devuelva otra lista con el resultado de aplicar la función dada a cada uno de los elementos de la lista."
   ]
  },
  {
   "cell_type": "markdown",
   "metadata": {},
   "source": [
    "## Solución 1"
   ]
  },
  {
   "cell_type": "code",
   "execution_count": 2,
   "metadata": {},
   "outputs": [
    {
     "output_type": "stream",
     "name": "stdout",
     "text": "[1, 4, 9, 16]\n"
    }
   ],
   "source": [
    "def aplica_funcion_lista(funcion, lista):\n",
    "    '''Función que aplica una función a todos los elementos de una lista.\n",
    "\n",
    "    Parámetros:\n",
    "        funcion: Es una función.\n",
    "        lista: Es una lista con valores que se pasarán como argumentos a funcion.\n",
    "    Devuelve:\n",
    "        Una lista con el resultado de aplicar la función a los valores de la lista.\n",
    "    '''\n",
    "    l = []\n",
    "    for i in lista:\n",
    "        l.append(funcion(i))\n",
    "    return l\n",
    "\n",
    "def cuadrado(n):\n",
    "    return n * n\n",
    "\n",
    "print(aplica_funcion_lista(cuadrado, [1, 2, 3, 4]))\n",
    ""
   ]
  }
 ],
 "metadata": {
  "kernelspec": {
   "display_name": "Python 3",
   "language": "python",
   "name": "python3"
  },
  "language_info": {
   "codemirror_mode": {
    "name": "ipython",
    "version": 3
   },
   "file_extension": ".py",
   "mimetype": "text/x-python",
   "name": "python",
   "nbconvert_exporter": "python",
   "pygments_lexer": "ipython3",
   "version": "3.7.4-final"
  }
 },
 "nbformat": 4,
 "nbformat_minor": 2
}