{
 "cells": [
  {
   "cell_type": "markdown",
   "metadata": {},
   "source": [
    "## Ejercicio\n",
    "\n",
    "Escribir una función que reciba una muestra de números y devuelva los valores atípicos, es decir, los valores cuya puntuación típica sea mayor que 3 o menor que -3.  \n",
    "Nota: La puntuación típica de un valor se obtiene restando la media y dividiendo por la desviación típica de la muestra."
   ]
  },
  {
   "cell_type": "markdown",
   "metadata": {},
   "source": [
    "## Solución 1"
   ]
  },
  {
   "cell_type": "code",
   "execution_count": 8,
   "metadata": {},
   "outputs": [
    {
     "output_type": "stream",
     "name": "stdout",
     "text": "[1000]\n"
    }
   ],
   "source": [
    "from statistics import mean, stdev\n",
    "\n",
    "def atipico(muestra):\n",
    "    media = mean(muestra)\n",
    "    desviacion = stdev(muestra)\n",
    "    def f(n):\n",
    "        puntuacion = (n - media) / desviacion\n",
    "        return (puntuacion < -3) or (puntuacion > 3)\n",
    "    return f\n",
    "\n",
    "def datos_atipicos(muestra):\n",
    "    return list(filter(atipico(muestra), muestra))\n",
    "\n",
    "print(datos_atipicos([1, 2, 3, 4, 5, 6, 7, 8, 9, 10, 1000]))\n",
    ""
   ]
  }
 ],
 "metadata": {
  "kernelspec": {
   "display_name": "Python 3",
   "language": "python",
   "name": "python3"
  },
  "language_info": {
   "codemirror_mode": {
    "name": "ipython",
    "version": 3
   },
   "file_extension": ".py",
   "mimetype": "text/x-python",
   "name": "python",
   "nbconvert_exporter": "python",
   "pygments_lexer": "ipython3",
   "version": "3.7.4-final"
  }
 },
 "nbformat": 4,
 "nbformat_minor": 2
}