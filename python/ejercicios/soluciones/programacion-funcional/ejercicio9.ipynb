{
 "cells": [
  {
   "cell_type": "markdown",
   "metadata": {},
   "source": [
    "## Ejercicio\n",
    "\n",
    "Escribir una función que calcule el módulo de un vector."
   ]
  },
  {
   "cell_type": "markdown",
   "metadata": {},
   "source": [
    "## Solución 1"
   ]
  },
  {
   "cell_type": "code",
   "execution_count": 6,
   "metadata": {},
   "outputs": [
    {
     "name": "stdout",
     "output_type": "stream",
     "text": [
      "5.0\n",
      "3.7416573867739413\n"
     ]
    }
   ],
   "source": [
    "def sum_square(x, y):\n",
    "    '''\n",
    "    Función que recibe dos valores y calcula la suma del primero más el cuadrado del segundo.\n",
    "    Parámetros:\n",
    "        x: Es un número real.\n",
    "        y: Es un número real.\n",
    "    Devuelve:\n",
    "        x + y²\n",
    "    '''\n",
    "    return x + y ** 2\n",
    "\n",
    "def module(v):\n",
    "    '''\n",
    "    Función que calcula el módulo de un vector.\n",
    "    Parámetros:\n",
    "        v: Una tupla de números reales.\n",
    "    Devuelve:\n",
    "        El módulo del vector v.\n",
    "    '''\n",
    "    from functools import reduce\n",
    "    return reduce(sum_square, v, 0) ** 0.5\n",
    "\n",
    "print(module((3, 4)))\n",
    "print(module((1, 2, 3)))"
   ]
  },
  {
   "cell_type": "markdown",
   "metadata": {},
   "source": [
    "## Solución 2"
   ]
  },
  {
   "cell_type": "code",
   "execution_count": 5,
   "metadata": {},
   "outputs": [
    {
     "name": "stdout",
     "output_type": "stream",
     "text": [
      "5.0\n",
      "3.7416573867739413\n"
     ]
    }
   ],
   "source": [
    "def module(v):\n",
    "    '''\n",
    "    Función que calcula el módulo de un vector.\n",
    "    Parámetros:\n",
    "        v: Una tupla de números reales.\n",
    "    Devuelve:\n",
    "        El módulo del vector v.\n",
    "    '''\n",
    "    return sum([x ** 2 for x in v]) ** 0.5\n",
    "\n",
    "print(module((3, 4)))\n",
    "print(module((1, 2, 3)))"
   ]
  }
 ],
 "metadata": {
  "kernelspec": {
   "display_name": "Python 3",
   "language": "python",
   "name": "python3"
  },
  "language_info": {
   "codemirror_mode": {
    "name": "ipython",
    "version": 3
   },
   "file_extension": ".py",
   "mimetype": "text/x-python",
   "name": "python",
   "nbconvert_exporter": "python",
   "pygments_lexer": "ipython3",
   "version": "3.6.8"
  }
 },
 "nbformat": 4,
 "nbformat_minor": 2
}