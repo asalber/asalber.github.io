{
 "cells": [
  {
   "cell_type": "markdown",
   "metadata": {},
   "source": [
    "## Ejercicio\n",
    "\n",
    "Escribir una función que simule una calculadora científica que permita calcular el seno, coseno, tangente, exponencial y logaritmo neperiano. La función preguntará al usuario el valor y la función a aplicar, y mostrará por pantalla una tabla con los enteros de 1 al valor introducido y el resultado de aplicar la función a esos enteros."
   ]
  },
  {
   "cell_type": "markdown",
   "metadata": {},
   "source": [
    "## Solución 1"
   ]
  },
  {
   "cell_type": "code",
   "execution_count": 1,
   "metadata": {},
   "outputs": [
    {
     "name": "stdin",
     "output_type": "stream",
     "text": [
      "Introduce la función a aplicar (sin, cos, tan, exp, log):  sin\n",
      "Introduce un entero positivo:  10\n"
     ]
    },
    {
     "name": "stdout",
     "output_type": "stream",
     "text": [
      "1 \t 0.8414709848078965\n",
      "2 \t 0.9092974268256817\n",
      "3 \t 0.1411200080598672\n",
      "4 \t -0.7568024953079282\n",
      "5 \t -0.9589242746631385\n",
      "6 \t -0.27941549819892586\n",
      "7 \t 0.6569865987187891\n",
      "8 \t 0.9893582466233818\n",
      "9 \t 0.4121184852417566\n",
      "10 \t -0.5440211108893698\n"
     ]
    }
   ],
   "source": [
    "from math import sin, cos, tan, exp, log\n",
    "\n",
    "def apply_function(f, n):\n",
    "    '''\n",
    "    Función que aplica una función a los enteros desde 1 hasta n.\n",
    "    Parámetros:\n",
    "        f: Es una función que recibe un número real y devuelve otro.\n",
    "        n: Es un número entero positivo.\n",
    "    Devuelve:\n",
    "        Un diccionario con los pares i:f(i) para cada valor entero i de 1 a n.\n",
    "    '''\n",
    "    functions = {'sin':sin, 'cos':cos, 'tan':tan, 'exp':exp, 'log':log}\n",
    "    result = {}\n",
    "    for i in range(1, n+1):\n",
    "        result[i] = functions[f](i)\n",
    "    return result\n",
    "\n",
    "def calculator():\n",
    "    '''\n",
    "    Función que aplica una función seleccionada por el usuario (seno, coseno, tangente, exponencial o logarítmo) a la lista de enteros desde 1 hasta n. \n",
    "    Imprime por pantalla una tabla con la secuencia de enteros y el resultado de aplicarles la función introducida.\n",
    "    Parámetros:\n",
    "        f: Es una cadena con la función a aplicar (sin, cos, tan, exp o log).\n",
    "        n: Es un entero positivo.\n",
    "    '''\n",
    "    f = input('Introduce la función a aplicar (sin, cos, tan, exp, log): ')\n",
    "    n = int(input('Introduce un entero positivo: '))\n",
    "    for i, j in apply_function(f, n).items():\n",
    "        print (i, '\\t', j)\n",
    "    return\n",
    "\n",
    "calculator()"
   ]
  },
  {
   "cell_type": "markdown",
   "metadata": {},
   "source": [
    "## Solución 2"
   ]
  },
  {
   "cell_type": "code",
   "execution_count": 2,
   "metadata": {},
   "outputs": [
    {
     "name": "stdin",
     "output_type": "stream",
     "text": [
      "Introduce la función a aplicar (sin, cos, tan, exp, log):  log\n",
      "Introduce un entero positivo:  10\n"
     ]
    },
    {
     "name": "stdout",
     "output_type": "stream",
     "text": [
      "1 \t 0.0\n",
      "2 \t 0.6931471805599453\n",
      "3 \t 1.0986122886681098\n",
      "4 \t 1.3862943611198906\n",
      "5 \t 1.6094379124341003\n",
      "6 \t 1.791759469228055\n",
      "7 \t 1.9459101490553132\n",
      "8 \t 2.0794415416798357\n",
      "9 \t 2.1972245773362196\n",
      "10 \t 2.302585092994046\n"
     ]
    }
   ],
   "source": [
    "from math import sin, cos, tan, exp, log\n",
    "\n",
    "def apply_function(f, n):\n",
    "    '''\n",
    "    Función que aplica una función a los enteros desde 1 hasta n.\n",
    "    Parámetros:\n",
    "        f: Es una función que recibe un número real y devuelve otro.\n",
    "        n: Es un número entero positivo.\n",
    "    Devuelve:\n",
    "        Un diccionario con los pares i:f(i) para cada valor entero i de 1 a n.\n",
    "    '''\n",
    "    result = {}\n",
    "    for i in range(1, n+1):\n",
    "        result[i] = eval(f + '(' + str(i) + ')')\n",
    "    return result\n",
    "\n",
    "def calculator():\n",
    "    '''\n",
    "    Función que aplica una función seleccionada por el usuario (seno, coseno, tangente, exponencial o logarítmo) a la lista de enteros desde 1 hasta n. \n",
    "    Imprime por pantalla una tabla con la secuencia de enteros y el resultado de aplicarles la función introducida.\n",
    "    Parámetros:\n",
    "        f: Es una cadena con la función a aplicar (sin, cos, tan, exp o log).\n",
    "        n: Es un entero positivo.\n",
    "    '''\n",
    "    f = input('Introduce la función a aplicar (sin, cos, tan, exp, log): ')\n",
    "    n = int(input('Introduce un entero positivo: '))\n",
    "    for i, j in apply_function(f, n).items():\n",
    "        print (i, '\\t', j)\n",
    "    return\n",
    "\n",
    "calculator()"
   ]
  },
  {
   "cell_type": "markdown",
   "metadata": {},
   "source": [
    "## Solución 3"
   ]
  },
  {
   "cell_type": "code",
   "execution_count": 4,
   "metadata": {},
   "outputs": [
    {
     "name": "stdin",
     "output_type": "stream",
     "text": [
      "Introduce la función a aplicar (sin, cos, tan, exp, log):  exp\n",
      "Introduce un entero positivo:  10\n"
     ]
    },
    {
     "name": "stdout",
     "output_type": "stream",
     "text": [
      "1 \t 2.718281828459045\n",
      "2 \t 7.38905609893065\n",
      "3 \t 20.085536923187668\n",
      "4 \t 54.598150033144236\n",
      "5 \t 148.4131591025766\n",
      "6 \t 403.4287934927351\n",
      "7 \t 1096.6331584284585\n",
      "8 \t 2980.9579870417283\n",
      "9 \t 8103.083927575384\n",
      "10 \t 22026.465794806718\n"
     ]
    }
   ],
   "source": [
    "from math import sin, cos, tan, exp, log\n",
    "\n",
    "def calculator():\n",
    "    '''\n",
    "    Función que aplica una función seleccionada por el usuario (seno, coseno, tangente, exponencial o logarítmo) a la lista de enteros desde 1 hasta n. \n",
    "    Imprime por pantalla una tabla con la secuencia de enteros y el resultado de aplicarles la función introducida.\n",
    "    Parámetros:\n",
    "        f: Es una cadena con la función a aplicar (sin, cos, tan, exp o log).\n",
    "        n: Es un entero positivo.\n",
    "    '''\n",
    "    functions = {'sin':sin, 'cos':cos, 'tan':tan, 'exp':exp, 'log':log}\n",
    "    f = input('Introduce la función a aplicar (sin, cos, tan, exp, log): ')\n",
    "    n = int(input('Introduce un entero positivo: '))\n",
    "    results = [functions[f](x) for x in range(1, n+1)]\n",
    "    for i in range(n):\n",
    "        print (i + 1, '\\t', results[i])\n",
    "    return\n",
    "\n",
    "calculator()"
   ]
  },
  {
   "cell_type": "code",
   "execution_count": null,
   "metadata": {},
   "outputs": [],
   "source": []
  }
 ],
 "metadata": {
  "kernelspec": {
   "display_name": "Python 3",
   "language": "python",
   "name": "python3"
  },
  "language_info": {
   "codemirror_mode": {
    "name": "ipython",
    "version": 3
   },
   "file_extension": ".py",
   "mimetype": "text/x-python",
   "name": "python",
   "nbconvert_exporter": "python",
   "pygments_lexer": "ipython3",
   "version": "3.6.8"
  }
 },
 "nbformat": 4,
 "nbformat_minor": 2
}
