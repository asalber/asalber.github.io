{
 "cells": [
  {
   "cell_type": "markdown",
   "metadata": {},
   "source": [
    "## Ejercicio\n",
    "\n",
    "Escribir una función que aplique un descuento a un precio y otra que aplique el IVA a un precio. Escribir una tercera función que reciba un diccionario con los precios y porcentajes de una cesta de la compra, y una de las funciones anteriores, y utilice la función pasada para aplicar los descuentos o el IVA a los productos de la cesta y devolver el precio final de la cesta."
   ]
  },
  {
   "cell_type": "markdown",
   "metadata": {},
   "source": [
    "## Solución"
   ]
  },
  {
   "cell_type": "code",
   "execution_count": 3,
   "metadata": {},
   "outputs": [
    {
     "name": "stdout",
     "output_type": "stream",
     "text": [
      "El precio de la compra tras aplicar los descuentos es:  1349.0\n",
      "El precio de la compra tras aplicar el IVA es:  1851.0\n"
     ]
    }
   ],
   "source": [
    "def apply_IVA(price, percentage):\n",
    "    '''\n",
    "    Función que aplica un IVA a una cantidad.\n",
    "    Parámetros:\n",
    "        price: Es un valor real con el precio al que aplicar el IVA.\n",
    "        percentage: Es el porcentaje del IVA a aplicar.\n",
    "    Devuelve:\n",
    "        El precio final tras aplicar el IVA.\n",
    "    '''\n",
    "    return price + price * percentage / 100\n",
    "\n",
    "def price_basket(basket, function):\n",
    "    '''\n",
    "    Función que calcula el precio de una cesta de la compra una vez aplicada una función a los precios iniciales.\n",
    "    Parámetros:\n",
    "        basket: Es un diccionario formado por pares precio:descuento.\n",
    "        function: Es una función que toma dos valores reales y devuelve otro. Normalmente para aplicar descuentos o IVA.\n",
    "    Devuelve:\n",
    "        El precio final de la cesta de la compra una vez aplicada la función sobre los precios iniciales.\n",
    "    '''\n",
    "    total = 0\n",
    "    for price, discount in basket.items():\n",
    "        total += function(price, discount)\n",
    "    return total\n",
    "\n",
    "print('El precio de la compra tras aplicar los descuentos es: ', price_basket({1000:20, 500:10, 100:1}, apply_discount))\n",
    "print('El precio de la compra tras aplicar el IVA es: ', price_basket({1000:20, 500:10, 100:1}, apply_IVA))"
   ]
  }
 ],
 "metadata": {
  "kernelspec": {
   "display_name": "Python 3",
   "language": "python",
   "name": "python3"
  },
  "language_info": {
   "codemirror_mode": {
    "name": "ipython",
    "version": 3
   },
   "file_extension": ".py",
   "mimetype": "text/x-python",
   "name": "python",
   "nbconvert_exporter": "python",
   "pygments_lexer": "ipython3",
   "version": "3.6.8"
  }
 },
 "nbformat": 4,
 "nbformat_minor": 2
}
