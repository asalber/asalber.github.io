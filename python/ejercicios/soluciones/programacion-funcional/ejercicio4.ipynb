{
 "cells": [
  {
   "cell_type": "markdown",
   "metadata": {},
   "source": [
    "## Ejercicio\n",
    "\n",
    "Escribir una función que reciba otra función booleana y una lista, y devuelva otra lista con los elementos de la lista que devuelvan `True` al aplicarles la función booleana. "
   ]
  },
  {
   "cell_type": "markdown",
   "metadata": {},
   "source": [
    "## Solución 1"
   ]
  },
  {
   "cell_type": "code",
   "execution_count": 1,
   "metadata": {},
   "outputs": [
    {
     "output_type": "stream",
     "name": "stdout",
     "text": "[2, 4, 6]\n"
    }
   ],
   "source": [
    "def filtra_lista(funcion, lista):\n",
    "    '''Función que filtra los elementos de una lista que devuelven true al aplicarle una función booleana.\n",
    "\n",
    "    Parámetros:\n",
    "        - funcion: Es una función booleana (devuleve true o false)\n",
    "        - lista: Es una lista con valores que se pasarán como argumentos a funcion.\n",
    "    Devuelve:\n",
    "        Una lista con los elementos de la lista que devuelven true al aplicarles la función booleana.\n",
    "    '''\n",
    "    l = []\n",
    "    for i in lista:\n",
    "        if funcion(i):\n",
    "            l.append(i)\n",
    "    return l\n",
    "\n",
    "def par(n):\n",
    "    return n % 2 == 0\n",
    "\n",
    "print(filtra_lista(par, [1, 2, 3, 4, 5, 6]))"
   ]
  }
 ],
 "metadata": {
  "kernelspec": {
   "display_name": "Python 3",
   "language": "python",
   "name": "python3"
  },
  "language_info": {
   "codemirror_mode": {
    "name": "ipython",
    "version": 3
   },
   "file_extension": ".py",
   "mimetype": "text/x-python",
   "name": "python",
   "nbconvert_exporter": "python",
   "pygments_lexer": "ipython3",
   "version": "3.7.4-final"
  }
 },
 "nbformat": 4,
 "nbformat_minor": 2
}