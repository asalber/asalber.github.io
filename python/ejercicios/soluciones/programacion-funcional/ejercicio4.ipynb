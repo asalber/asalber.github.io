{
 "cells": [
  {
   "cell_type": "markdown",
   "metadata": {},
   "source": [
    "## Ejercicio\n",
    "\n",
    "Escribir una función reciba una lista de notas y devuelva la lista de calificaciones correspondientes a esas notas."
   ]
  },
  {
   "cell_type": "markdown",
   "metadata": {},
   "source": [
    "## Solución 1"
   ]
  },
  {
   "cell_type": "code",
   "execution_count": 3,
   "metadata": {},
   "outputs": [
    {
     "name": "stdout",
     "output_type": "stream",
     "text": [
      "['AP', 'AP', 'SS', 'NT', 'SS', 'SB', 'MH']\n"
     ]
    }
   ],
   "source": [
    "def grade(score):\n",
    "    '''\n",
    "    Función que devuelve la calificación correspondiente a una nota.\n",
    "    Parámetros:\n",
    "        score: Es un valor real entre 0 y 10.\n",
    "    Devuelve:\n",
    "        La calificación correspondiente a la nota score.\n",
    "    '''\n",
    "    if score < 5:\n",
    "        return 'SS'\n",
    "    elif score < 7:\n",
    "        return 'AP'\n",
    "    elif score < 9:\n",
    "        return 'NT'\n",
    "    elif score < 10:\n",
    "        return 'SB'\n",
    "    else:\n",
    "        return 'MH'\n",
    "\n",
    "def apply_grade(scores):\n",
    "    '''\n",
    "    Función que devuelve la calificación correspondiente a las notas de una lista dada.\n",
    "    Parámetros:\n",
    "        scores: Es una lista de valores reales entre 0 y 10.\n",
    "    Devuelve\n",
    "        La lista de calificaciones correspondiente a las notas de scores.\n",
    "    '''\n",
    "    return list(map(grade, scores))\n",
    "\n",
    "print(apply_grade([6.5, 5, 3.4, 8.2, 2.1, 9.7, 10]))"
   ]
  },
  {
   "cell_type": "markdown",
   "metadata": {},
   "source": [
    "## Solución 2"
   ]
  },
  {
   "cell_type": "code",
   "execution_count": 2,
   "metadata": {},
   "outputs": [
    {
     "data": {
      "text/plain": [
       "['AP', 'AP', 'SS', 'NT', 'SS', 'SB', 'MH']"
      ]
     },
     "execution_count": 2,
     "metadata": {},
     "output_type": "execute_result"
    }
   ],
   "source": [
    "def grade(score):\n",
    "    '''\n",
    "    Función que devuelve la calificación correspondiente a una nota.\n",
    "    Parámetros:\n",
    "        score: Es un valor real entre 0 y 10.\n",
    "    Devuelve:\n",
    "        La calificación correspondiente a la nota score.\n",
    "    '''\n",
    "    if score < 5:\n",
    "        return 'SS'\n",
    "    elif score < 7:\n",
    "        return 'AP'\n",
    "    elif score < 9:\n",
    "        return 'NT'\n",
    "    elif score < 10:\n",
    "        return 'SB'\n",
    "    else:\n",
    "        return 'MH'\n",
    "\n",
    "def apply_grade(scores):\n",
    "    '''\n",
    "    Función que devuelve la calificación correspondiente a las notas de una lista dada.\n",
    "    Parámetros:\n",
    "        scores: Es una lista de valores reales entre 0 y 10.\n",
    "    Devuelve\n",
    "        La lista de calificaciones correspondiente a las notas de scores.\n",
    "    '''\n",
    "    return [grade(x) for x in scores]\n",
    "\n",
    "print(apply_grade([6.5, 5, 3.4, 8.2, 2.1, 9.7, 10]))"
   ]
  }
 ],
 "metadata": {
  "kernelspec": {
   "display_name": "Python 3",
   "language": "python",
   "name": "python3"
  },
  "language_info": {
   "codemirror_mode": {
    "name": "ipython",
    "version": 3
   },
   "file_extension": ".py",
   "mimetype": "text/x-python",
   "name": "python",
   "nbconvert_exporter": "python",
   "pygments_lexer": "ipython3",
   "version": "3.6.8"
  }
 },
 "nbformat": 4,
 "nbformat_minor": 2
}
