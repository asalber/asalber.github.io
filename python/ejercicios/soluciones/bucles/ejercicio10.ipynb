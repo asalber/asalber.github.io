{
 "cells": [
  {
   "cell_type": "markdown",
   "metadata": {},
   "source": [
    "## Ejercicio\n",
    "\n",
    "Escribir un programa que pida al usuario un número entero positivo mayor que 2 y muestre por pantalla si es un número primo o no."
   ]
  },
  {
   "cell_type": "markdown",
   "metadata": {},
   "source": [
    "## Solución 1"
   ]
  },
  {
   "cell_type": "code",
   "execution_count": 1,
   "metadata": {},
   "outputs": [
    {
     "name": "stdin",
     "output_type": "stream",
     "text": [
      "Introduce un número entero positivo mayor que 2:  17\n"
     ]
    },
    {
     "name": "stdout",
     "output_type": "stream",
     "text": [
      "17 es primo\n"
     ]
    }
   ],
   "source": [
    "n = int(input(\"Introduce un número entero positivo mayor que 2: \"))\n",
    "i = 2\n",
    "while n % i != 0:\n",
    "    i += 1\n",
    "if i == n:\n",
    "    print(str(n) + \" es primo\")\n",
    "else:\n",
    "    print(str(n) + \" no es primo\")"
   ]
  },
  {
   "cell_type": "markdown",
   "metadata": {},
   "source": [
    "## Solución 2"
   ]
  },
  {
   "cell_type": "code",
   "execution_count": 2,
   "metadata": {},
   "outputs": [
    {
     "name": "stdin",
     "output_type": "stream",
     "text": [
      "Introduce un número entero positivo mayor que 2:  21\n"
     ]
    },
    {
     "name": "stdout",
     "output_type": "stream",
     "text": [
      "21 no es primo\n"
     ]
    }
   ],
   "source": [
    "n = int(input(\"Introduce un número entero positivo mayor que 2: \"))\n",
    "for i in range(2, n):\n",
    "    if n % i == 0:\n",
    "        break\n",
    "if (i + 1)  == n:\n",
    "    print(str(n) + \" es primo\")\n",
    "else: \n",
    "    print(str(n) + \" no es primo\")"
   ]
  }
 ],
 "metadata": {
  "kernelspec": {
   "display_name": "Python 3",
   "language": "python",
   "name": "python3"
  },
  "language_info": {
   "codemirror_mode": {
    "name": "ipython",
    "version": 3
   },
   "file_extension": ".py",
   "mimetype": "text/x-python",
   "name": "python",
   "nbconvert_exporter": "python",
   "pygments_lexer": "ipython3",
   "version": "3.7.1"
  }
 },
 "nbformat": 4,
 "nbformat_minor": 2
}
