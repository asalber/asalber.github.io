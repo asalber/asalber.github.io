{
 "cells": [
  {
   "cell_type": "markdown",
   "metadata": {},
   "source": [
    "## Ejercicio\n",
    "\n",
    "Escribir un programa que pregunte al usuario una cantidad a invertir, el interés anual y el número de años, y muestre por pantalla el capital obtenido en la inversión cada año que dura la inversión."
   ]
  },
  {
   "cell_type": "markdown",
   "metadata": {},
   "source": [
    "## Solución"
   ]
  },
  {
   "cell_type": "code",
   "execution_count": 2,
   "metadata": {},
   "outputs": [
    {
     "name": "stdin",
     "output_type": "stream",
     "text": [
      "¿Cantidad a invertir?  1000\n",
      "¿Interés porcentual anual?  10\n",
      "¿Años? 5\n"
     ]
    },
    {
     "name": "stdout",
     "output_type": "stream",
     "text": [
      "Capital tras 1 años: 1100.0\n",
      "Capital tras 2 años: 1210.0\n",
      "Capital tras 3 años: 1331.0\n",
      "Capital tras 4 años: 1464.1\n",
      "Capital tras 5 años: 1610.51\n"
     ]
    }
   ],
   "source": [
    "amount = float(input(\"¿Cantidad a invertir? \"))\n",
    "interest = float(input(\"¿Interés porcentual anual? \"))\n",
    "years = int(input(\"¿Años?\"))\n",
    "for i in range(years):\n",
    "    amount *= 1 + interest / 100 \n",
    "    print(\"Capital tras \" + str(i+1) + \" años: \" + str(round(amount, 2)))"
   ]
  }
 ],
 "metadata": {
  "kernelspec": {
   "display_name": "Python 3",
   "language": "python",
   "name": "python3"
  },
  "language_info": {
   "codemirror_mode": {
    "name": "ipython",
    "version": 3
   },
   "file_extension": ".py",
   "mimetype": "text/x-python",
   "name": "python",
   "nbconvert_exporter": "python",
   "pygments_lexer": "ipython3",
   "version": "3.7.1"
  }
 },
 "nbformat": 4,
 "nbformat_minor": 2
}
