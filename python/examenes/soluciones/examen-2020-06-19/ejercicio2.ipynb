{
 "cells": [
  {
   "cell_type": "markdown",
   "metadata": {},
   "source": [
    "# Ejercicio 2\n",
    "Escribir una función que tome una lista de números enteros desordenados y devuelva dos listas ordenadas. La primera con los números pares y la segunda con los números impares."
   ]
  },
  {
   "cell_type": "markdown",
   "metadata": {},
   "source": [
    "# Solución"
   ]
  },
  {
   "cell_type": "code",
   "execution_count": 1,
   "metadata": {
    "tags": []
   },
   "outputs": [
    {
     "output_type": "stream",
     "name": "stdout",
     "text": "Pares:  [2, 4, 6, 8]\nImpares:  [1, 3, 5, 7, 9]\n"
    }
   ],
   "source": [
    "def pares_impares(lista):\n",
    "    '''Función que recibe una lista de números enteros y devuelve dos listas ordenadas con los números impares y pares de la lista dada.\n",
    "\n",
    "    Parámetros:\n",
    "        - lista: Es una lista de números enteros.\n",
    "    Devuelve: Dos listas ordenadas con los números impares y pares de la lista dada.\n",
    "    '''\n",
    "\n",
    "    # Definimos dos listas vacías para guardar los números pares e impares.\n",
    "    pares = []\n",
    "    impares = []\n",
    "    # Bucle para recorrer la lista de números.\n",
    "    for i in lista:\n",
    "        # Condicional para ver si el número es par o impar.\n",
    "        if i%2 == 0:\n",
    "            # Si el resto de la división entera por 2 es 0, el número es par y se añade a la lista de pares. \n",
    "            pares.append(i)\n",
    "        else:\n",
    "            # Si el resto de la división entera por 2 no es 0, el número es impar y se añade a la lista de impares.\n",
    "            impares.append(i)\n",
    "    # Ordenamos las listas.\n",
    "    pares.sort()\n",
    "    impares.sort()\n",
    "    # Devolvemos las listas de pares e impares.\n",
    "    return pares, impares\n",
    "\n",
    "# Ejemplo\n",
    "lista = [3, 8, 2, 7, 5, 4, 6, 1, 9]\n",
    "pares, impares = pares_impares(lista)\n",
    "print('Pares: ', pares)\n",
    "print('Impares: ', impares)"
   ]
  },
  {
   "cell_type": "markdown",
   "metadata": {},
   "source": [
    "# Solución 2"
   ]
  },
  {
   "cell_type": "code",
   "execution_count": 2,
   "metadata": {
    "tags": []
   },
   "outputs": [
    {
     "output_type": "stream",
     "name": "stdout",
     "text": "Pares:  [2, 4, 6, 8]\nImpares:  [1, 3, 5, 7, 9]\n"
    }
   ],
   "source": [
    "def pares_impares(lista):\n",
    "    '''Función que recibe una lista de números enteros y devuelve dos listas ordenadas con los números impares y pares de la lista dada.\n",
    "\n",
    "    Parámetros:\n",
    "        - lista: Es una lista de números enteros.\n",
    "    Devuelve: Dos listas ordenadas con los números impares y pares de la lista dada.\n",
    "    '''\n",
    "\n",
    "    # Comprensión de listas para obtener la lista de números pares.\n",
    "    pares = [n for n in lista if n % 2 == 0]\n",
    "    # Comprensión de listas para obtener la lista de números impares.\n",
    "    impares = [n for n in lista if n % 2 != 0]\n",
    "    # Ordenamos las listas.\n",
    "    pares.sort()\n",
    "    impares.sort()\n",
    "    # Devolvemos las listas de pares e impares.\n",
    "    return pares, impares\n",
    "\n",
    "# Ejemplo\n",
    "lista = [3, 8, 2, 7, 5, 4, 6, 1, 9]\n",
    "pares, impares = pares_impares(lista)\n",
    "print('Pares: ', pares)\n",
    "print('Impares: ', impares)"
   ]
  }
 ],
 "metadata": {
  "kernelspec": {
   "display_name": "Python 3",
   "language": "python",
   "name": "python3"
  },
  "language_info": {
   "codemirror_mode": {
    "name": "ipython",
    "version": 3
   },
   "file_extension": ".py",
   "mimetype": "text/x-python",
   "name": "python",
   "nbconvert_exporter": "python",
   "pygments_lexer": "ipython3",
   "version": "3.7.6-final"
  }
 },
 "nbformat": 4,
 "nbformat_minor": 2
}