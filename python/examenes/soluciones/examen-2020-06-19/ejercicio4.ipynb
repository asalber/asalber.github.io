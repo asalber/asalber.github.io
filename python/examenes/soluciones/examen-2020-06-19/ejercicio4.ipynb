{
 "cells": [
  {
   "cell_type": "markdown",
   "metadata": {},
   "source": [
    "# Ejercicio 4\n",
    "\n",
    "El fichero [ipc-2020.csv](http://aprendeconalf.es/python/examenes/soluciones/examen-2020-06-19/ipc-2020.csv) contiene el IPC de las comunidades autónomas de los cinco primeros meses de 2020. Crear un programa que realice las siguientes operaciones utilizando la librería Pandas:\n",
    "\n",
    "1. Crear un DataFrame leyendo el fichero desde internet con la url `http://aprendeconalf.es/python/examenes/soluciones/examen-2020-06-19/ipc-2020.csv`.\n",
    "2. Mostrar por pantalla el DataFrame con los datos de las filas 10 a 15.\n",
    "3. Mostrar por pantalla el DataFrame con los datos de Canarias de Mayo.\n",
    "4. Mostrar por pantalla una serie con el IPC mensual máximo de cada comunidad autónoma.\n",
    "5. Mostrar por pantalla una serie con la desviación típica del IPC mensual de cada grupo.\n",
    "6. Mostrar por pantalla un DataFrame con las comunidades y grupos donde los precios no han subido en promedio (IPC mensual medio menor de 100)."
   ]
  },
  {
   "cell_type": "markdown",
   "metadata": {},
   "source": [
    "# Solución 1"
   ]
  },
  {
   "cell_type": "code",
   "execution_count": 2,
   "metadata": {},
   "outputs": [
    {
     "output_type": "execute_result",
     "data": {
      "text/plain": "     Comunidad autónoma                               Grupo   Año      Mes  \\\n0             Andalucía  Alimentos y bebidas no alcohólicas  2020     Mayo   \n1             Andalucía  Alimentos y bebidas no alcohólicas  2020    Abril   \n2             Andalucía  Alimentos y bebidas no alcohólicas  2020    Marzo   \n3             Andalucía  Alimentos y bebidas no alcohólicas  2020  Febrero   \n4             Andalucía  Alimentos y bebidas no alcohólicas  2020    Enero   \n...                 ...                                 ...   ...      ...   \n1135            Melilla           Otros bienes y servicios   2020     Mayo   \n1136            Melilla           Otros bienes y servicios   2020    Abril   \n1137            Melilla           Otros bienes y servicios   2020    Marzo   \n1138            Melilla           Otros bienes y servicios   2020  Febrero   \n1139            Melilla           Otros bienes y servicios   2020    Enero   \n\n          IPC  \n0     107.260  \n1     107.332  \n2     105.611  \n3     105.435  \n4     105.058  \n...       ...  \n1135  101.052  \n1136  100.773  \n1137  100.986  \n1138  101.040  \n1139  100.593  \n\n[1140 rows x 5 columns]",
      "text/html": "<div>\n<style scoped>\n    .dataframe tbody tr th:only-of-type {\n        vertical-align: middle;\n    }\n\n    .dataframe tbody tr th {\n        vertical-align: top;\n    }\n\n    .dataframe thead th {\n        text-align: right;\n    }\n</style>\n<table border=\"1\" class=\"dataframe\">\n  <thead>\n    <tr style=\"text-align: right;\">\n      <th></th>\n      <th>Comunidad autónoma</th>\n      <th>Grupo</th>\n      <th>Año</th>\n      <th>Mes</th>\n      <th>IPC</th>\n    </tr>\n  </thead>\n  <tbody>\n    <tr>\n      <th>0</th>\n      <td>Andalucía</td>\n      <td>Alimentos y bebidas no alcohólicas</td>\n      <td>2020</td>\n      <td>Mayo</td>\n      <td>107.260</td>\n    </tr>\n    <tr>\n      <th>1</th>\n      <td>Andalucía</td>\n      <td>Alimentos y bebidas no alcohólicas</td>\n      <td>2020</td>\n      <td>Abril</td>\n      <td>107.332</td>\n    </tr>\n    <tr>\n      <th>2</th>\n      <td>Andalucía</td>\n      <td>Alimentos y bebidas no alcohólicas</td>\n      <td>2020</td>\n      <td>Marzo</td>\n      <td>105.611</td>\n    </tr>\n    <tr>\n      <th>3</th>\n      <td>Andalucía</td>\n      <td>Alimentos y bebidas no alcohólicas</td>\n      <td>2020</td>\n      <td>Febrero</td>\n      <td>105.435</td>\n    </tr>\n    <tr>\n      <th>4</th>\n      <td>Andalucía</td>\n      <td>Alimentos y bebidas no alcohólicas</td>\n      <td>2020</td>\n      <td>Enero</td>\n      <td>105.058</td>\n    </tr>\n    <tr>\n      <th>...</th>\n      <td>...</td>\n      <td>...</td>\n      <td>...</td>\n      <td>...</td>\n      <td>...</td>\n    </tr>\n    <tr>\n      <th>1135</th>\n      <td>Melilla</td>\n      <td>Otros bienes y servicios</td>\n      <td>2020</td>\n      <td>Mayo</td>\n      <td>101.052</td>\n    </tr>\n    <tr>\n      <th>1136</th>\n      <td>Melilla</td>\n      <td>Otros bienes y servicios</td>\n      <td>2020</td>\n      <td>Abril</td>\n      <td>100.773</td>\n    </tr>\n    <tr>\n      <th>1137</th>\n      <td>Melilla</td>\n      <td>Otros bienes y servicios</td>\n      <td>2020</td>\n      <td>Marzo</td>\n      <td>100.986</td>\n    </tr>\n    <tr>\n      <th>1138</th>\n      <td>Melilla</td>\n      <td>Otros bienes y servicios</td>\n      <td>2020</td>\n      <td>Febrero</td>\n      <td>101.040</td>\n    </tr>\n    <tr>\n      <th>1139</th>\n      <td>Melilla</td>\n      <td>Otros bienes y servicios</td>\n      <td>2020</td>\n      <td>Enero</td>\n      <td>100.593</td>\n    </tr>\n  </tbody>\n</table>\n<p>1140 rows × 5 columns</p>\n</div>"
     },
     "metadata": {},
     "execution_count": 2
    }
   ],
   "source": [
    "import pandas as pd\n",
    "\n",
    "# Apartado 1\n",
    "\n",
    "# Leemos el DataFrame desde la url \n",
    "ipc = pd.read_csv(\"http://aprendeconalf.es/python/examenes/soluciones/examen-2020-06-19/ipc-2020.csv\")\n",
    "ipc"
   ]
  },
  {
   "cell_type": "code",
   "execution_count": 3,
   "metadata": {
    "tags": []
   },
   "outputs": [
    {
     "output_type": "stream",
     "name": "stdout",
     "text": "Comunidad autónoma                         Grupo   Año      Mes      IPC\n9           Andalucía  Bebidas alcohólicas y tabaco  2020    Enero  103.436\n10          Andalucía             Vestido y calzado  2020     Mayo  110.538\n11          Andalucía             Vestido y calzado  2020    Abril  108.010\n12          Andalucía             Vestido y calzado  2020    Marzo   97.741\n13          Andalucía             Vestido y calzado  2020  Febrero   92.678\n"
    }
   ],
   "source": [
    "# Apartado 2\n",
    "\n",
    "# Serie con los datos de la fila 10 a la 15\n",
    "print(ipc.iloc[9:14,])"
   ]
  },
  {
   "cell_type": "code",
   "execution_count": 6,
   "metadata": {},
   "outputs": [
    {
     "output_type": "execute_result",
     "data": {
      "text/plain": "    Comunidad autónoma                                              Grupo  \\\n240           Canarias                 Alimentos y bebidas no alcohólicas   \n245           Canarias                       Bebidas alcohólicas y tabaco   \n250           Canarias                                  Vestido y calzado   \n255           Canarias  Vivienda, agua, electricidad, gas y otros comb...   \n260           Canarias  Muebles, artículos del hogar y artículos para ...   \n265           Canarias                                            Sanidad   \n270           Canarias                                         Transporte   \n275           Canarias                                     Comunicaciones   \n280           Canarias                                     Ocio y cultura   \n285           Canarias                                          Enseñanza   \n290           Canarias                             Restaurantes y hoteles   \n295           Canarias                          Otros bienes y servicios    \n\n      Año   Mes      IPC   Periodo  \n240  2020  Mayo  106.183  2020Mayo  \n245  2020  Mayo  118.690  2020Mayo  \n250  2020  Mayo  111.108  2020Mayo  \n255  2020  Mayo   99.291  2020Mayo  \n260  2020  Mayo   98.667  2020Mayo  \n265  2020  Mayo  100.323  2020Mayo  \n270  2020  Mayo  105.817  2020Mayo  \n275  2020  Mayo  104.871  2020Mayo  \n280  2020  Mayo   97.686  2020Mayo  \n285  2020  Mayo  100.905  2020Mayo  \n290  2020  Mayo  108.149  2020Mayo  \n295  2020  Mayo  103.802  2020Mayo  ",
      "text/html": "<div>\n<style scoped>\n    .dataframe tbody tr th:only-of-type {\n        vertical-align: middle;\n    }\n\n    .dataframe tbody tr th {\n        vertical-align: top;\n    }\n\n    .dataframe thead th {\n        text-align: right;\n    }\n</style>\n<table border=\"1\" class=\"dataframe\">\n  <thead>\n    <tr style=\"text-align: right;\">\n      <th></th>\n      <th>Comunidad autónoma</th>\n      <th>Grupo</th>\n      <th>Año</th>\n      <th>Mes</th>\n      <th>IPC</th>\n      <th>Periodo</th>\n    </tr>\n  </thead>\n  <tbody>\n    <tr>\n      <th>240</th>\n      <td>Canarias</td>\n      <td>Alimentos y bebidas no alcohólicas</td>\n      <td>2020</td>\n      <td>Mayo</td>\n      <td>106.183</td>\n      <td>2020Mayo</td>\n    </tr>\n    <tr>\n      <th>245</th>\n      <td>Canarias</td>\n      <td>Bebidas alcohólicas y tabaco</td>\n      <td>2020</td>\n      <td>Mayo</td>\n      <td>118.690</td>\n      <td>2020Mayo</td>\n    </tr>\n    <tr>\n      <th>250</th>\n      <td>Canarias</td>\n      <td>Vestido y calzado</td>\n      <td>2020</td>\n      <td>Mayo</td>\n      <td>111.108</td>\n      <td>2020Mayo</td>\n    </tr>\n    <tr>\n      <th>255</th>\n      <td>Canarias</td>\n      <td>Vivienda, agua, electricidad, gas y otros comb...</td>\n      <td>2020</td>\n      <td>Mayo</td>\n      <td>99.291</td>\n      <td>2020Mayo</td>\n    </tr>\n    <tr>\n      <th>260</th>\n      <td>Canarias</td>\n      <td>Muebles, artículos del hogar y artículos para ...</td>\n      <td>2020</td>\n      <td>Mayo</td>\n      <td>98.667</td>\n      <td>2020Mayo</td>\n    </tr>\n    <tr>\n      <th>265</th>\n      <td>Canarias</td>\n      <td>Sanidad</td>\n      <td>2020</td>\n      <td>Mayo</td>\n      <td>100.323</td>\n      <td>2020Mayo</td>\n    </tr>\n    <tr>\n      <th>270</th>\n      <td>Canarias</td>\n      <td>Transporte</td>\n      <td>2020</td>\n      <td>Mayo</td>\n      <td>105.817</td>\n      <td>2020Mayo</td>\n    </tr>\n    <tr>\n      <th>275</th>\n      <td>Canarias</td>\n      <td>Comunicaciones</td>\n      <td>2020</td>\n      <td>Mayo</td>\n      <td>104.871</td>\n      <td>2020Mayo</td>\n    </tr>\n    <tr>\n      <th>280</th>\n      <td>Canarias</td>\n      <td>Ocio y cultura</td>\n      <td>2020</td>\n      <td>Mayo</td>\n      <td>97.686</td>\n      <td>2020Mayo</td>\n    </tr>\n    <tr>\n      <th>285</th>\n      <td>Canarias</td>\n      <td>Enseñanza</td>\n      <td>2020</td>\n      <td>Mayo</td>\n      <td>100.905</td>\n      <td>2020Mayo</td>\n    </tr>\n    <tr>\n      <th>290</th>\n      <td>Canarias</td>\n      <td>Restaurantes y hoteles</td>\n      <td>2020</td>\n      <td>Mayo</td>\n      <td>108.149</td>\n      <td>2020Mayo</td>\n    </tr>\n    <tr>\n      <th>295</th>\n      <td>Canarias</td>\n      <td>Otros bienes y servicios</td>\n      <td>2020</td>\n      <td>Mayo</td>\n      <td>103.802</td>\n      <td>2020Mayo</td>\n    </tr>\n  </tbody>\n</table>\n</div>"
     },
     "metadata": {},
     "execution_count": 6
    }
   ],
   "source": [
    "# Apartado 3\n",
    "\n",
    "# Ipc de Canarias de Mayo\n",
    "ipc[(ipc['Comunidad autónoma'] == 'Canarias') & (ipc['Mes'] == 'Mayo')]"
   ]
  },
  {
   "cell_type": "code",
   "execution_count": 9,
   "metadata": {},
   "outputs": [
    {
     "output_type": "execute_result",
     "data": {
      "text/plain": "Comunidad autónoma\nAndalucía                      110.538\nAragón                         110.459\nAsturias, Principado de        111.028\nBalears, Illes                 110.175\nCanarias                       118.868\nCantabria                      113.443\nCastilla - La Mancha           110.282\nCastilla y León                112.252\nCataluña                       110.784\nCeuta                          113.244\nComunitat Valenciana           111.834\nExtremadura                    110.652\nGalicia                        109.438\nMadrid, Comunidad de           110.541\nMelilla                        110.751\nMurcia, Región de              111.972\nNavarra, Comunidad Foral de    110.834\nPaís Vasco                     111.777\nRioja, La                      115.892\nName: IPC, dtype: float64"
     },
     "metadata": {},
     "execution_count": 9
    }
   ],
   "source": [
    "# Apartado 4\n",
    "\n",
    "# IPC máximo mensual por comunidades\n",
    "ipc.groupby('Comunidad autónoma').IPC.max()\n"
   ]
  },
  {
   "cell_type": "code",
   "execution_count": 10,
   "metadata": {},
   "outputs": [
    {
     "output_type": "execute_result",
     "data": {
      "text/plain": "Grupo\nVestido y calzado                                                                     7.473487\nTransporte                                                                            4.021121\nBebidas alcohólicas y tabaco                                                          3.125740\nVivienda, agua, electricidad, gas y otros combustibles                                2.566030\nEnseñanza                                                                             1.706892\nRestaurantes y hoteles                                                                1.505234\nMuebles, artículos del hogar y artículos para el mantenimiento corriente del hogar    1.479133\nOtros bienes y servicios                                                              1.314706\nAlimentos y bebidas no alcohólicas                                                    1.274428\nComunicaciones                                                                        1.230438\nOcio y cultura                                                                        1.112717\nSanidad                                                                               1.089534\nName: IPC, dtype: float64"
     },
     "metadata": {},
     "execution_count": 10
    }
   ],
   "source": [
    "# Apartado 5\n",
    "\n",
    "# Desviación típica del IPC mensual por grupos ordenado de mayor a menor\n",
    "ipc.groupby('Grupo').IPC.std().sort_values(ascending = False)"
   ]
  },
  {
   "cell_type": "code",
   "execution_count": 11,
   "metadata": {},
   "outputs": [
    {
     "output_type": "execute_result",
     "data": {
      "text/plain": "Comunidad autónoma           Grupo                                                                             \nAndalucía                    Muebles, artículos del hogar y artículos para el mantenimiento corriente del hogar    99.4302\n                             Ocio y cultura                                                                        99.1484\nAragón                       Muebles, artículos del hogar y artículos para el mantenimiento corriente del hogar    98.6628\n                             Ocio y cultura                                                                        98.5150\nAsturias, Principado de      Enseñanza                                                                             99.5982\n                             Ocio y cultura                                                                        97.8752\nBalears, Illes               Ocio y cultura                                                                        99.4216\nCanarias                     Muebles, artículos del hogar y artículos para el mantenimiento corriente del hogar    98.2600\n                             Ocio y cultura                                                                        98.1462\nCantabria                    Muebles, artículos del hogar y artículos para el mantenimiento corriente del hogar    99.6226\n                             Ocio y cultura                                                                        97.4698\n                             Vivienda, agua, electricidad, gas y otros combustibles                                99.9460\nCastilla - La Mancha         Muebles, artículos del hogar y artículos para el mantenimiento corriente del hogar    99.7986\n                             Ocio y cultura                                                                        98.0030\nCastilla y León              Ocio y cultura                                                                        99.4268\nCeuta                        Muebles, artículos del hogar y artículos para el mantenimiento corriente del hogar    96.6706\n                             Ocio y cultura                                                                        97.9256\nComunitat Valenciana         Vivienda, agua, electricidad, gas y otros combustibles                                99.6172\nExtremadura                  Muebles, artículos del hogar y artículos para el mantenimiento corriente del hogar    99.9848\n                             Ocio y cultura                                                                        99.1018\n                             Vivienda, agua, electricidad, gas y otros combustibles                                99.3100\nGalicia                      Ocio y cultura                                                                        98.5452\nMelilla                      Ocio y cultura                                                                        98.2606\n                             Transporte                                                                            99.7854\nMurcia, Región de            Muebles, artículos del hogar y artículos para el mantenimiento corriente del hogar    99.2730\n                             Ocio y cultura                                                                        97.8524\n                             Vivienda, agua, electricidad, gas y otros combustibles                                99.0846\nNavarra, Comunidad Foral de  Muebles, artículos del hogar y artículos para el mantenimiento corriente del hogar    99.8240\n                             Ocio y cultura                                                                        99.4248\nRioja, La                    Ocio y cultura                                                                        99.0350\n                             Vivienda, agua, electricidad, gas y otros combustibles                                99.7910\nName: IPC, dtype: float64"
     },
     "metadata": {},
     "execution_count": 11
    }
   ],
   "source": [
    "# Apartado 6\n",
    "\n",
    "# Comunidades y grupos con un IPC mensual medio menor de 100.\n",
    "ipc_medias = ipc.groupby(['Comunidad autónoma','Grupo']).IPC.mean()\n",
    "ipc_medias[ipc_medias < 100]"
   ]
  }
 ],
 "metadata": {
  "kernelspec": {
   "display_name": "Python 3",
   "language": "python",
   "name": "python3"
  },
  "language_info": {
   "codemirror_mode": {
    "name": "ipython",
    "version": 3
   },
   "file_extension": ".py",
   "mimetype": "text/x-python",
   "name": "python",
   "nbconvert_exporter": "python",
   "pygments_lexer": "ipython3",
   "version": "3.7.6-final"
  }
 },
 "nbformat": 4,
 "nbformat_minor": 2
}