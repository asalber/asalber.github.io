{
 "cells": [
  {
   "cell_type": "markdown",
   "metadata": {},
   "source": [
    "# Ejercicio 3\n",
    "\n",
    "Escribir un programa para gestionar las citas de una consulta médica. La base de datos de citas debe estar en un fichero de nombre `citas.csv`. Cada cita contendrá los campos `dni`, `mes`, `dia`, `hora` y `especialidad`. No es necesario que la primera fila del csv contenga los nombres de los campos. El programa debe incluir las siguientes funciones:\n",
    "\n",
    "1. Una función que permita generar el fichero y añadir una cita a la base de datos. \n",
    "2. Una función que reciba un dni y devuelva una lista con las citas de ese paciente.\n",
    "3. Una función para eliminar las citas anteriores a una fecha dada."
   ]
  },
  {
   "cell_type": "markdown",
   "metadata": {},
   "source": [
    "# Solución 1"
   ]
  },
  {
   "cell_type": "code",
   "execution_count": 1,
   "metadata": {
    "tags": []
   },
   "outputs": [
    {
     "output_type": "stream",
     "name": "stdout",
     "text": "['01234567,02,05,10:30,Cardiología\\n', '12345678,04,18,12:00,Ginecología\\n', '01234567,06,20,16:30,Cardiología\\n', '12345678,03,16,9:30,Dermatología\\n']\n"
    }
   ],
   "source": [
    "# Ruta del fichero de citas.\n",
    "fichero = 'citas.csv'\n",
    "\n",
    "def citas(fichero=fichero):\n",
    "    ''' Función que muestra por pantalla el contenido del fichero de citas.\n",
    "    \n",
    "    Parámetros:\n",
    "        - fichero: Es una cadena con la ruta del fichero de citas.\n",
    "    '''\n",
    "\n",
    "    try:\n",
    "        # Intentamos abrir el fichero de citas en modo lectura.\n",
    "        f = open(fichero, mode='r')\n",
    "    except FileNotFoundError:\n",
    "        # Si no existe el fichero, controlamos la excepción mostrando por pantalla un mensaje informando de que el fichero no existe.\n",
    "        print('El fichero no existe.')\n",
    "    else:\n",
    "        # Si el fichero existe y se puede abrir mostramos por pantalla una lista con sus líneas (cada línea corresponde a una cita).\n",
    "        print(f.readlines())\n",
    "        # Cerramos el fichero.\n",
    "        f.close()\n",
    "    return\n",
    "\n",
    "# Apartado 1\n",
    "\n",
    "def añadir_cita(dni, mes, dia, hora, especialidad, fichero = fichero):\n",
    "    ''' Función que añade una cita al fichero de citas.\n",
    "\n",
    "    Parámetros:\n",
    "        - dni: Es una cadena con el dni del paciente.\n",
    "        - mes: Es una cadena con el número de mes.\n",
    "        - dia: Es una cadena con el día.\n",
    "        - hora: Es una cadena con la hora en formato hh:mm.\n",
    "        - especialidad: Es una cadena con la especialidad de la cita.\n",
    "        - fichero: Es una cadena con la ruta del fichero de citas.\n",
    "    '''\n",
    "\n",
    "    try:\n",
    "        # Intentamos abrir el fichero de citas en modo añadir.\n",
    "        f = open(fichero, mode = 'a')\n",
    "    except FileNotFoundError:\n",
    "        # Si no existe el fichero, controlamos la excepción mostrando por pantalla un mensaje informando de que el fichero no existe.\n",
    "        print('El fichero no existe.')\n",
    "    else:\n",
    "        # Si el fichero existe y se puede abrir añadimos al final del fichero una línea con la concatenación del dni, el mes, el día, la hora y la especialidad separados por comas.\n",
    "        f.write(dni + ',' + mes + ',' + dia + ',' + hora + ',' + especialidad + '\\n')\n",
    "        # Cerramos el fichero.\n",
    "        f.close()\n",
    "    return\n",
    "\n",
    "# Ejemplo\n",
    "añadir_cita('01234567', '02', '05', '10:30', 'Cardiología')\n",
    "añadir_cita('12345678', '04', '18', '12:00', 'Ginecología')\n",
    "añadir_cita('01234567', '06', '20', '16:30', 'Cardiología')\n",
    "añadir_cita('12345678', '03', '16', '9:30', 'Dermatología')\n",
    "citas()"
   ]
  },
  {
   "cell_type": "code",
   "execution_count": 3,
   "metadata": {
    "tags": []
   },
   "outputs": [
    {
     "output_type": "stream",
     "name": "stdout",
     "text": "['12345678,04,18,12:00,Ginecología\\n', '12345678,03,16,9:30,Dermatología\\n']\n"
    }
   ],
   "source": [
    "# Apartado 2\n",
    "\n",
    "def buscar_citas(dni, fichero = fichero):\n",
    "    ''' Función que busca las citas de un paciente en el fichero de citas.\n",
    "\n",
    "    Parámetros:\n",
    "        - dni: Es una cadena con el dni del paciente.\n",
    "        - fichero: Es una cadena con la ruta del fichero de citas.\n",
    "    Devuelve: Una lista con las citas del paciente con el dni dado.\n",
    "    '''\n",
    "    try:\n",
    "        # Intentamos abrir el fichero de citas en modo lectura.\n",
    "        f = open(fichero, mode = 'r')\n",
    "    except FileNotFoundError:\n",
    "        # Si no existe el fichero, controlamos la excepción mostrando por pantalla un mensaje informando de que el fichero no existe.\n",
    "        print('El fichero no existe.')\n",
    "        return\n",
    "    else:\n",
    "        # Si el fichero existe y se puede abrir, leemos todas las líneas y las guardamos en una lista. Cada línea corresponde a una cita.\n",
    "        citas = f.readlines()\n",
    "        # Cerramos el fichero.\n",
    "        f.close()\n",
    "        # Filtramos la lista de citas para quedarnos con las del dni dado y devolvemos la lista filtrada. Para ello dividimos cada línea usando como separador de campos la coma y accedemos a la primera posición de la lista generada para obtener el dni de la cita.\n",
    "        return [cita for cita in citas if cita.split(',')[0] == dni]\n",
    "\n",
    "# Ejemplo\n",
    "print(buscar_citas('12345678'))\n"
   ]
  },
  {
   "cell_type": "code",
   "execution_count": 4,
   "metadata": {
    "tags": []
   },
   "outputs": [
    {
     "output_type": "stream",
     "name": "stdout",
     "text": "['12345678,04,18,12:00,Ginecología\\n', '01234567,06,20,16:30,Cardiología\\n']\n"
    }
   ],
   "source": [
    "# Apartado 3\n",
    "\n",
    "def eliminar_citas(mes, dia, fichero = fichero):\n",
    "    ''' Función que elimina del fichero de citas las citas anteriores a una fecha dada.\n",
    "\n",
    "    Parámetros:\n",
    "        - mes: Es una cadena con el número de mes.\n",
    "        - dia: Es una cadena con el día.\n",
    "        - fichero: Es una cadena con la ruta del fichero de citas.\n",
    "    '''\n",
    "    try:\n",
    "        # Intentamos abrir el fichero de citas en modo lectura.\n",
    "        f = open(fichero, mode = 'r')\n",
    "    except FileNotFoundError:\n",
    "        # Si no existe el fichero, controlamos la excepción mostrando por pantalla un mensaje informando de que el fichero no existe.\n",
    "        print('El fichero no existe.')\n",
    "    else:\n",
    "        # Si el fichero existe y se puede abrir, leemos todas las líneas y las guardamos en una lista. Cada línea corresponde a una cita.\n",
    "        citas = f.readlines()\n",
    "        # Cerramos el fichero.\n",
    "        f.close()\n",
    "        # Abrimos de nuevo el fichero en modo escritura (se elimina sus contenido).\n",
    "        f = open(fichero, mode='w')\n",
    "        # Bucle para recorrer las citas\n",
    "        for cita in citas:\n",
    "            # Dividimos la línea de cada cita usando como separador de campos la coma y concatenamos el segundo y tercer elementos de la lista resultantes que corresponden al mes y el día.\n",
    "            fecha = ''.join(cita.split(',')[1:3])\n",
    "            # Condicional para ver si la fecha de la cita es posteror a la fecha indicada.\n",
    "            if fecha >= mes + dia:\n",
    "                # Si la cita tiene una fecha posterior a la fecha indicada la escribimos en una nueva línea del fichero. \n",
    "                f.write(cita)\n",
    "        # Cerramos el fichero.\n",
    "        f.close()\n",
    "    return\n",
    "\n",
    "# Ejemplo\n",
    "eliminar_citas('04', '01')\n",
    "citas()"
   ]
  }
 ],
 "metadata": {
  "kernelspec": {
   "display_name": "Python 3",
   "language": "python",
   "name": "python3"
  },
  "language_info": {
   "codemirror_mode": {
    "name": "ipython",
    "version": 3
   },
   "file_extension": ".py",
   "mimetype": "text/x-python",
   "name": "python",
   "nbconvert_exporter": "python",
   "pygments_lexer": "ipython3",
   "version": "3.7.6-final"
  }
 },
 "nbformat": 4,
 "nbformat_minor": 2
}