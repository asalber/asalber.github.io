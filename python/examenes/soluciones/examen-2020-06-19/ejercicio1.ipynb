{
 "cells": [
  {
   "cell_type": "markdown",
   "metadata": {},
   "source": [
    "# Ejercicio 1\n",
    "\n",
    "Escribe un programa en python que permita guardar las notas de un alumno conseguidas en un cuatrimestre. Guarda la información en un diccionario cuyas claves sean las asignaturas y los valores las notas de cada asignatura. El programa pedirá la asignatura y la nota para esa asignatura. Si se recibe un número negativo en la nota, el programa termina y muestra las asignaturas suspensas.\n",
    "\n",
    "Ejemplo\n",
    "\n",
    "```ssh\n",
    "Introduce una asignatura: matemáticas\n",
    "Introduce la nota: 4\n",
    "Introduce una asignatura: economía\n",
    "Introduce la nota: 8\n",
    "Introduce una asignatura: programación\n",
    "Introduce la nota: 10\n",
    "Introduce una asignatura: ninguna\n",
    "Introduce la nota: -2\n",
    "Las asignaturas suspensas son:\n",
    "matemáticas\n",
    "```"
   ]
  },
  {
   "cell_type": "markdown",
   "metadata": {},
   "source": [
    "# Solución 1"
   ]
  },
  {
   "cell_type": "code",
   "execution_count": 1,
   "metadata": {
    "tags": []
   },
   "outputs": [
    {
     "output_type": "stream",
     "name": "stdout",
     "text": "Las asignaturas suspensas son: \nmatemáticas\n"
    }
   ],
   "source": [
    "# Creamos un diccionario vacío para guardar las notas.\n",
    "notas = {}\n",
    "# Bucle para preguntar por la asignaturas y la notas.\n",
    "while True:\n",
    "    # Pregruntamos pora la asignatura y la nota\n",
    "    asignatura = input('Introduce una asignatura: ')\n",
    "    nota = float(input('Introduce la nota: '))\n",
    "    # Condicional para ver si la nota es menor que 0.\n",
    "    if nota < 0:\n",
    "        # Si la nota es menor que 0 interrumpimos el bucle.\n",
    "        break\n",
    "    else:\n",
    "        # Si la nota es mayor que 0 añadimos el par formado por la asignatura y su nota al diccionario.\n",
    "        notas[asignatura] = nota\n",
    "# Mostrar por pantalla las asignaturas suspensas.\n",
    "print('Las asignaturas suspensas son: ')\n",
    "# Bucle para recorrer el diccionario de asignaturas y notas.\n",
    "for asignatura, nota in notas.items():\n",
    "    # Condicional para ver si la nota es menor que 5.\n",
    "    if nota < 5:\n",
    "        # Si la nota es menor que 5 mostramos por pantalla la asignatura.\n",
    "        print(asignatura)"
   ]
  },
  {
   "cell_type": "markdown",
   "metadata": {},
   "source": [
    "# Solución 2"
   ]
  },
  {
   "cell_type": "code",
   "execution_count": 4,
   "metadata": {
    "tags": []
   },
   "outputs": [
    {
     "output_type": "stream",
     "name": "stdout",
     "text": "Las asignaturas suspensas son: \nmatemáticas\n"
    }
   ],
   "source": [
    "# Creamos un diccionario vacío para guardar las notas.\n",
    "notas = {}\n",
    "# Bucle para preguntar por la asignaturas y la notas.\n",
    "while True:\n",
    "    # Pregruntamos pora la asignatura y la nota\n",
    "    asignatura = input('Introduce una asignatura: ')\n",
    "    nota = float(input('Introduce la nota: '))\n",
    "    # Condicional para ver si la nota es menor que 0.\n",
    "    if nota < 0:\n",
    "        # Si la nota es menor que 0 interrumpimos el bucle.\n",
    "        break\n",
    "    else:\n",
    "        # Si la nota es mayor que 0 añadimos el par formado por la asignatura y su nota al diccionario.\n",
    "        notas[asignatura] = nota\n",
    "# Mostrar por pantalla las asignaturas suspensas.\n",
    "print('Las asignaturas suspensas son: ')\n",
    "# Comprensión de lista para obtener la lista de asinaturas suspensas.\n",
    "suspensas = [asignatura for asignatura, nota in notas.items() if nota < 5]\n",
    "# Contatenamos las asignaturas de la lista de asignaturas suspensas y las mostramos por pantalla.\n",
    "print('\\n'.join(suspensas))\n"
   ]
  }
 ],
 "metadata": {
  "kernelspec": {
   "display_name": "Python 3",
   "language": "python",
   "name": "python3"
  },
  "language_info": {
   "codemirror_mode": {
    "name": "ipython",
    "version": 3
   },
   "file_extension": ".py",
   "mimetype": "text/x-python",
   "name": "python",
   "nbconvert_exporter": "python",
   "pygments_lexer": "ipython3",
   "version": "3.7.6-final"
  }
 },
 "nbformat": 4,
 "nbformat_minor": 2
}