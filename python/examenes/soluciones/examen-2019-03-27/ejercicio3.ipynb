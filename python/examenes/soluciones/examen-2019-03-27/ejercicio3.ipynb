{
 "cells": [
  {
   "cell_type": "markdown",
   "metadata": {},
   "source": [
    "## Ejercicio \n",
    "Escribir un programa que simule el famoso juego del ahorcado.\n",
    "\n",
    "El programa debe cumplir los siguientes requisitos:\n",
    "\n",
    "- El programa debe preguntar al usuario la palabra a adivinar. A partir de la palabra introducida debe crear una lista con los caracteres de la palabra.\n",
    "- Después debe ir preguntando al usuario por letras hasta un máximo de 5 fallos o hasta que no queden letras en la lista. En ambos casos el programa terminará pero mostrará el mensaje \"Perdiste\" si se comenten 5 fallos y el mensaje \"Ganaste\" si no quedan palabras en la lista.\n",
    "- Cada vez que el usuario introduzca una nueva letra, si la letra está en la lista la eliminará y mostrará el mensaje \"Acierto\", mientras que si la letra no está en la lista mostrará el mensaje \"Fallo\". Si la letra está más de una vez en la lista, sólo se eliminará la primera instancia que aparezca.\n",
    "\n",
    "Requisito adicional para un punto extra:\n",
    "\n",
    "- Cada vez que el usuario acierte una letra debe mostrar la palabra a adivinar con las letras acertadas hasta el momento y el resto reemplazadas por asteriscos.\n"
   ]
  },
  {
   "cell_type": "markdown",
   "metadata": {},
   "source": [
    "## Solución 1"
   ]
  },
  {
   "cell_type": "code",
   "execution_count": 1,
   "metadata": {},
   "outputs": [
    {
     "name": "stdin",
     "output_type": "stream",
     "text": [
      "Introduce la palabra a adivinar:  python\n",
      "Introduce una letra:  p\n"
     ]
    },
    {
     "name": "stdout",
     "output_type": "stream",
     "text": [
      "Acierto\n"
     ]
    },
    {
     "name": "stdin",
     "output_type": "stream",
     "text": [
      "Introduce una letra:  n\n"
     ]
    },
    {
     "name": "stdout",
     "output_type": "stream",
     "text": [
      "Acierto\n"
     ]
    },
    {
     "name": "stdin",
     "output_type": "stream",
     "text": [
      "Introduce una letra:  a\n"
     ]
    },
    {
     "name": "stdout",
     "output_type": "stream",
     "text": [
      "Fallo\n"
     ]
    },
    {
     "name": "stdin",
     "output_type": "stream",
     "text": [
      "Introduce una letra:  h\n"
     ]
    },
    {
     "name": "stdout",
     "output_type": "stream",
     "text": [
      "Acierto\n"
     ]
    },
    {
     "name": "stdin",
     "output_type": "stream",
     "text": [
      "Introduce una letra:  t\n"
     ]
    },
    {
     "name": "stdout",
     "output_type": "stream",
     "text": [
      "Acierto\n"
     ]
    },
    {
     "name": "stdin",
     "output_type": "stream",
     "text": [
      "Introduce una letra:  y\n"
     ]
    },
    {
     "name": "stdout",
     "output_type": "stream",
     "text": [
      "Acierto\n"
     ]
    },
    {
     "name": "stdin",
     "output_type": "stream",
     "text": [
      "Introduce una letra:  o\n"
     ]
    },
    {
     "name": "stdout",
     "output_type": "stream",
     "text": [
      "Acierto\n",
      "Ganaste\n"
     ]
    }
   ],
   "source": [
    "word = list(input('Introduce la palabra a adivinar: '))\n",
    "failures = 0\n",
    "while word and failures < 5:\n",
    "    letter = input('Introduce una letra: ')\n",
    "    if letter in word:\n",
    "        print('Acierto')\n",
    "        word.remove(letter)\n",
    "    else:\n",
    "        print('Fallo')\n",
    "        failures += 1\n",
    "if failures == 5:\n",
    "    print('Perdiste')\n",
    "else:\n",
    "    print('Ganaste') "
   ]
  },
  {
   "cell_type": "markdown",
   "metadata": {},
   "source": [
    "## Solución 2"
   ]
  },
  {
   "cell_type": "code",
   "execution_count": 2,
   "metadata": {},
   "outputs": [
    {
     "name": "stdin",
     "output_type": "stream",
     "text": [
      "Introduce la palabra a adivinar:  anaconda\n",
      "Introduce una letra:  n\n"
     ]
    },
    {
     "name": "stdout",
     "output_type": "stream",
     "text": [
      "Acierto\n",
      "['*', 'n', '*', '*', '*', '*', '*', '*']\n"
     ]
    },
    {
     "name": "stdin",
     "output_type": "stream",
     "text": [
      "Introduce una letra:  a\n"
     ]
    },
    {
     "name": "stdout",
     "output_type": "stream",
     "text": [
      "Acierto\n",
      "['a', 'n', '*', '*', '*', '*', '*', '*']\n"
     ]
    },
    {
     "name": "stdin",
     "output_type": "stream",
     "text": [
      "Introduce una letra:  c\n"
     ]
    },
    {
     "name": "stdout",
     "output_type": "stream",
     "text": [
      "Acierto\n",
      "['a', 'n', '*', 'c', '*', '*', '*', '*']\n"
     ]
    },
    {
     "name": "stdin",
     "output_type": "stream",
     "text": [
      "Introduce una letra:  h\n"
     ]
    },
    {
     "name": "stdout",
     "output_type": "stream",
     "text": [
      "Fallo\n",
      "['a', 'n', '*', 'c', '*', '*', '*', '*']\n"
     ]
    },
    {
     "name": "stdin",
     "output_type": "stream",
     "text": [
      "Introduce una letra:  o\n"
     ]
    },
    {
     "name": "stdout",
     "output_type": "stream",
     "text": [
      "Acierto\n",
      "['a', 'n', '*', 'c', 'o', '*', '*', '*']\n"
     ]
    },
    {
     "name": "stdin",
     "output_type": "stream",
     "text": [
      "Introduce una letra:  o\n"
     ]
    },
    {
     "name": "stdout",
     "output_type": "stream",
     "text": [
      "Fallo\n",
      "['a', 'n', '*', 'c', 'o', '*', '*', '*']\n"
     ]
    },
    {
     "name": "stdin",
     "output_type": "stream",
     "text": [
      "Introduce una letra:  n\n"
     ]
    },
    {
     "name": "stdout",
     "output_type": "stream",
     "text": [
      "Acierto\n",
      "['a', 'n', '*', 'c', 'o', 'n', '*', '*']\n"
     ]
    },
    {
     "name": "stdin",
     "output_type": "stream",
     "text": [
      "Introduce una letra:  d\n"
     ]
    },
    {
     "name": "stdout",
     "output_type": "stream",
     "text": [
      "Acierto\n",
      "['a', 'n', '*', 'c', 'o', 'n', 'd', '*']\n"
     ]
    },
    {
     "name": "stdin",
     "output_type": "stream",
     "text": [
      "Introduce una letra:  a\n"
     ]
    },
    {
     "name": "stdout",
     "output_type": "stream",
     "text": [
      "Acierto\n",
      "['a', 'n', 'a', 'c', 'o', 'n', 'd', '*']\n"
     ]
    },
    {
     "name": "stdin",
     "output_type": "stream",
     "text": [
      "Introduce una letra:  a\n"
     ]
    },
    {
     "name": "stdout",
     "output_type": "stream",
     "text": [
      "Acierto\n",
      "['a', 'n', 'a', 'c', 'o', 'n', 'd', 'a']\n",
      "Ganaste\n"
     ]
    }
   ],
   "source": [
    "word = input('Introduce la palabra a adivinar: ')\n",
    "word = list(word)\n",
    "solution = list('*' * len(word))\n",
    "failures = 0\n",
    "while any(word) and failures < 5:\n",
    "    letter = input('Introduce una letra: ')\n",
    "    if letter in word:\n",
    "        print('Acierto')\n",
    "        i = word.index(letter)\n",
    "        word[i] = False\n",
    "        solution[i] = letter\n",
    "    else:\n",
    "        print('Fallo')\n",
    "        failures += 1\n",
    "    print(solution)\n",
    "if failures == 5:\n",
    "    print('Perdiste')\n",
    "else:\n",
    "    print('Ganaste') "
   ]
  }
 ],
 "metadata": {
  "kernelspec": {
   "display_name": "Python 3",
   "language": "python",
   "name": "python3"
  },
  "language_info": {
   "codemirror_mode": {
    "name": "ipython",
    "version": 3
   },
   "file_extension": ".py",
   "mimetype": "text/x-python",
   "name": "python",
   "nbconvert_exporter": "python",
   "pygments_lexer": "ipython3",
   "version": "3.7.1"
  }
 },
 "nbformat": 4,
 "nbformat_minor": 2
}
