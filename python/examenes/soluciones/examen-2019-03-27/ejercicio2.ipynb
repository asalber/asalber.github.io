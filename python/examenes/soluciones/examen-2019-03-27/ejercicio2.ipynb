{
 "cells": [
  {
   "cell_type": "markdown",
   "metadata": {},
   "source": [
    "## Ejercicio \n",
    "Escribir un programa que realice la devolución de una cantidad dada por el usuario en monedas.\n",
    "\n",
    "El programa debe cumplir los siguientes requisitos:\n",
    "\n",
    "- Solo se disponen de tres tipos de monedas: 5, 2 y 1 €. Crear una lista que contenga estos tres tipos de moneda y usar la lista en la solución.\n",
    "- El programa debe preguntar al usuario por una cantidad entera de euros.\n",
    "- El programa debe mostrar por pantalla el mínimo número de monedas necesarias para sumar la cantidad introducida por el usuario y cuántas monedas de cada tipo se necesitan para ello. El número de monedas de cada tipo debe guardarse en otra lista."
   ]
  },
  {
   "cell_type": "markdown",
   "metadata": {},
   "source": [
    "## Solución"
   ]
  },
  {
   "cell_type": "code",
   "execution_count": 2,
   "metadata": {},
   "outputs": [
    {
     "name": "stdin",
     "output_type": "stream",
     "text": [
      "Introduce una cantidad entera de euros:  48\n"
     ]
    },
    {
     "name": "stdout",
     "output_type": "stream",
     "text": [
      "Para sumar 48 € se necesitan 11 monedas:\n",
      "9 monedas de  5 €\n",
      "1 monedas de  2 €\n",
      "1 monedas de  1 €\n"
     ]
    }
   ],
   "source": [
    "coins = [5, 2, 1]\n",
    "change = [0, 0, 0]\n",
    "amount = int(input(\"Introduce una cantidad entera de euros: \"))\n",
    "print('Para sumar', amount, '€ se necesitan ', end='')\n",
    "for i in range(len(coins)):\n",
    "    while amount >= coins[i]:\n",
    "        amount -= coins[i]\n",
    "        change[i] += 1\n",
    "print(sum(change), 'monedas:')\n",
    "for i in range(len(coins)):\n",
    "    print(change[i], 'monedas de ', coins[i], '€')"
   ]
  }
 ],
 "metadata": {
  "kernelspec": {
   "display_name": "Python 3",
   "language": "python",
   "name": "python3"
  },
  "language_info": {
   "codemirror_mode": {
    "name": "ipython",
    "version": 3
   },
   "file_extension": ".py",
   "mimetype": "text/x-python",
   "name": "python",
   "nbconvert_exporter": "python",
   "pygments_lexer": "ipython3",
   "version": "3.7.1"
  }
 },
 "nbformat": 4,
 "nbformat_minor": 2
}
