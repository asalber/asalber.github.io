{
 "cells": [
  {
   "cell_type": "markdown",
   "metadata": {},
   "source": [
    "# Ejercicio 6\n",
    "Definir una función que reciba una lista de facturas, un NIF y un mes, y devuelva un diccionario con el número de facturas emitidas a ese NIF en el mes indicado y el total facturado en ese mes.\n",
    "\n",
    "La función debe cumplir los siguientes requisitos:\n",
    "\n",
    "- Los parámetros de entrada serán una lista de facturas, una cadena con un NIF y otra cadena con el mes.\n",
    "- Cada factura se representarán mediante un diccionario con las claves `nif` (NIF del cliente), `mes` (mes de emisión de la factura), `cantidad` (cantidad facturada sin IVA), `iva` (porcentaje de IVA a aplicar).\n",
    "- Se debe crear una lista con el total de cada factura (una vez aplicado el IVA) para el NIF y el mes indicados utilizando programación funcional o comprensión de listas.\n",
    "- La función debe devolver un diccionario con el número de facturas y el total facturado al NIF en el mes indicado.\n"
   ]
  },
  {
   "cell_type": "markdown",
   "metadata": {},
   "source": [
    "# Solución"
   ]
  },
  {
   "cell_type": "code",
   "execution_count": 1,
   "metadata": {},
   "outputs": [
    {
     "name": "stdout",
     "output_type": "stream",
     "text": [
      "{'Num facturas': 3, 'Total facturado': 3624.0}\n",
      "{'Num facturas': 1, 'Total facturado': 660.0}\n",
      "{'Num facturas': 0, 'Total facturado': 0}\n"
     ]
    }
   ],
   "source": [
    "def facturacion(facturas, nif, mes):\n",
    "    \"\"\"\n",
    "    Función que recibe una lista de facturas y devuelve el número de facturas y el total facturado correspondiente a un nif y mes indicados.\n",
    "    Parámetros:\n",
    "        - facturas: Es una lista de facturas, donde cada factura es un diccionario con las claves nif, mes, cantidad e iva.\n",
    "        - nif: Es una cadena con un nif.\n",
    "        - mes: Es una cadena con el nombre de un mes.\n",
    "    Devuelve:\n",
    "        Un diccionario con el número de facturas y el total facturado (incluído el iva) al nif indicado en el mes indicado.\n",
    "    \"\"\"\n",
    "    # Filtramos la lista para quedarnos con la lista de las cantidades de cada diccionario que tenga el nif y el mes indicados\n",
    "    filtro = [factura['cantidad'] * (1 + factura['iva'] / 100) for factura in facturas if (factura['nif'] == nif and factura['mes'] == mes)]\n",
    "    # Devolvemos un diccionario con la longitud de la lista (número de facturas) y la suma de sus valores (total facturado)\n",
    "    return {'Num facturas': len(filtro), 'Total facturado': sum(filtro)}\n",
    "\n",
    "\n",
    "# Lista de facturas de prueba\n",
    "facturas = [{'nif': 'B12345678', 'mes': 'marzo', 'cantidad':1000, 'iva': 10},\n",
    "            {'nif': 'A98765432', 'mes': 'julio', 'cantidad':500, 'iva': 21},\n",
    "            {'nif': 'B12345678', 'mes': 'marzo', 'cantidad':2000, 'iva': 21},\n",
    "            {'nif': 'C02040506', 'mes': 'enero', 'cantidad':200, 'iva': 4},\n",
    "            {'nif': 'A98765432', 'mes': 'julio', 'cantidad':1500, 'iva': 10},\n",
    "            {'nif': 'B12345678', 'mes': 'abril', 'cantidad':600, 'iva': 10},\n",
    "            {'nif': 'B12345678', 'mes': 'marzo', 'cantidad':100, 'iva': 4}]\n",
    "\n",
    "# Llamadas a la función de prueba\n",
    "print(facturacion(facturas, 'B12345678', 'marzo'))\n",
    "print(facturacion(facturas, 'B12345678', 'abril'))\n",
    "print(facturacion(facturas, 'B12345678', 'agosto'))"
   ]
  },
  {
   "cell_type": "code",
   "execution_count": null,
   "metadata": {},
   "outputs": [],
   "source": []
  }
 ],
 "metadata": {
  "kernelspec": {
   "display_name": "Python 3",
   "language": "python",
   "name": "python3"
  },
  "language_info": {
   "codemirror_mode": {
    "name": "ipython",
    "version": 3
   },
   "file_extension": ".py",
   "mimetype": "text/x-python",
   "name": "python",
   "nbconvert_exporter": "python",
   "pygments_lexer": "ipython3",
   "version": "3.6.8"
  }
 },
 "nbformat": 4,
 "nbformat_minor": 2
}
