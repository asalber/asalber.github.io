{
 "cells": [
  {
   "cell_type": "markdown",
   "metadata": {},
   "source": [
    "# Ejercicio 3\n",
    "Escribir un programa para ver los beneficios de una empresa en un periodo de años.\n",
    "\n",
    "El programa debe cumplir los siguientes requisitos:\n",
    "\n",
    "- El programa tiene que preguntar al usuario por un año inicial y otro final, y después preguntar por los ingresos y los gastos de cada año desde el año inicial hasta el año final.\n",
    "- Con los datos introducidos se deben crear dos listas, una con los ingresos y otra con los gastos, de manera que los ingresos y los gastos de cada año aparezcan en la misma posición de las listas.\n",
    "- El programa debe crear otra lista con el beneficio de cada año (ingresos menos gastos) y mostrarla por pantalla.\n",
    "- El programa debe crear otra lista booleana que indique para cada año si ha habido beneficios o no y mostrarla por pantalla.\n",
    "- Finalmente el programa debe mostrar por pantalla la lista de los años con beneficios la lista de los años con pérdidas."
   ]
  },
  {
   "cell_type": "markdown",
   "metadata": {},
   "source": [
    "# Solución"
   ]
  },
  {
   "cell_type": "code",
   "execution_count": 1,
   "metadata": {},
   "outputs": [
    {
     "name": "stdin",
     "output_type": "stream",
     "text": [
      "Introduce el año inicial:  2015\n",
      "Introduce el año final:  2018\n",
      "Ingresos del año 2015:  100000\n",
      "Gastos del año 2015:  80000\n",
      "Ingresos del año 2016:  120000\n",
      "Gastos del año 2016:  125000\n",
      "Ingresos del año 2017:  140000\n",
      "Gastos del año 2017:  100000\n",
      "Ingresos del año 2018:  150000\n",
      "Gastos del año 2018:  125000\n"
     ]
    },
    {
     "name": "stdout",
     "output_type": "stream",
     "text": [
      "[20000.0, -5000.0, 40000.0, 25000.0]\n",
      "[True, False, True, True]\n",
      "Años con beneficios:  [2015, 2017, 2018]\n",
      "Años con pérdidas:  [2016]\n"
     ]
    }
   ],
   "source": [
    "# Pregunta por los años inicial y final\n",
    "inicio = int(input('Introduce el año inicial: '))\n",
    "fin = int(input('Introduce el año final: '))\n",
    "# Definimos las listas de años, ingresos y gastos vacías\n",
    "años = []\n",
    "ingresos = []\n",
    "gastos = []\n",
    "# Preguntamos por los ingresos y gastos de cada año y los añadimos a las listas correspondientes\n",
    "for i in range(inicio, fin+1):\n",
    "    años.append(i)\n",
    "    ingresos.append(float(input('Ingresos del año ' + str(i) + ': ')))\n",
    "    gastos.append(float(input('Gastos del año ' + str(i) + ': ')))\n",
    "# Creamos la lista de beneficios vacía\n",
    "beneficios = []\n",
    "# Recorremos las listas de ingresos y gastos, calculamos la diferencia para los elementos que ocupan la misma posición y lo añadimos a la lista de beneficios.\n",
    "for i in range(len(ingresos)):\n",
    "    beneficios.append(ingresos[i] - gastos[i])\n",
    "print(beneficios)\n",
    "# Creamos la lista vacía para ver qué años ha habido beneficios\n",
    "hay_beneficio = []\n",
    "# Recorremos la lista de beneficios y añadimos a la lista hay_beneficio True si el beneficio es positivo y False en caso contrario\n",
    "for i in range(len(beneficios)):\n",
    "    hay_beneficio.append(beneficios[i] > 0)\n",
    "print(hay_beneficio)\n",
    "# Creamos dos listas vacías para los años con beneficios y los años con pérdidas\n",
    "años_beneficios = []\n",
    "años_perdidas = []\n",
    "# Recorremos la lista hay_beneficio y dependiendo de si el valor es True o False añadimos el año correspondiente a la lista de años con beneficio o a la de años con pérdidas.\n",
    "for i in range(len(hay_beneficio)):\n",
    "    if hay_beneficio[i]:\n",
    "        años_beneficios.append(años[i])\n",
    "    else:\n",
    "        años_perdidas.append(años[i])\n",
    "print('Años con beneficios: ', años_beneficios)\n",
    "print('Años con pérdidas: ', años_perdidas)"
   ]
  },
  {
   "cell_type": "code",
   "execution_count": null,
   "metadata": {},
   "outputs": [],
   "source": []
  }
 ],
 "metadata": {
  "kernelspec": {
   "display_name": "Python 3",
   "language": "python",
   "name": "python3"
  },
  "language_info": {
   "codemirror_mode": {
    "name": "ipython",
    "version": 3
   },
   "file_extension": ".py",
   "mimetype": "text/x-python",
   "name": "python",
   "nbconvert_exporter": "python",
   "pygments_lexer": "ipython3",
   "version": "3.6.8"
  }
 },
 "nbformat": 4,
 "nbformat_minor": 2
}
