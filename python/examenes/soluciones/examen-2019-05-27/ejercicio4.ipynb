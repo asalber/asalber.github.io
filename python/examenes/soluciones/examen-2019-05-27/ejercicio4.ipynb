{
 "cells": [
  {
   "cell_type": "markdown",
   "metadata": {},
   "source": [
    "# Ejercicio 4\n",
    "Definir una función que reciba un número entero entre 0 y 999, y devuelva una cadena con la cantidad introducida en palabras. Por ejemplo, si se introduce 647 debe devolver la cadena \"seiscientos cuarenta y siete\".\n",
    "\n",
    "La función debe cumplir los siguientes requisitos:\n",
    "\n",
    "- El único parámetro de entrada de la función es un número entero entre 0 y 999.\n",
    "- Deben usarse diccionarios para emparejar cada dígito con la palabra correspondiente para las unidades, decenas y centenas.\n",
    "- Debe devolver una cadena con la cantidad introducida en palabras.\n"
   ]
  },
  {
   "cell_type": "markdown",
   "metadata": {},
   "source": [
    "# Solución 1"
   ]
  },
  {
   "cell_type": "code",
   "execution_count": 1,
   "metadata": {},
   "outputs": [
    {
     "name": "stdout",
     "output_type": "stream",
     "text": [
      "647 : seiscientoscuarenta y siete\n",
      "30 : treinta\n",
      "6 : seis\n",
      "100 : ciento\n"
     ]
    }
   ],
   "source": [
    "def enuncia_cantidad(n):\n",
    "    \"\"\"\n",
    "    Función que recibe una cantidad n y devuelve una cadena con la misma cantidad expresada en palabras.\n",
    "    Parámetros:\n",
    "        - n es un número entero entre 1 y 999.\n",
    "    Devuelve:\n",
    "        Una cadena con la cantidad n expresada en palabras.\n",
    "    \"\"\"\n",
    "    # Diccionarios con las traducciones de número a palabra para las unidades, decenas y centenas.\n",
    "    unidades = {0:'', 1:'uno', 2:'dos', 3:'tres', 4:'cuatro', 5:'cinco', 6:'seis', 7:'siete', 8:'ocho', 9:'nueve'}\n",
    "    decenas = {0:'', 1:'diez', 2:'veinte', 3:'treinta', 4:'cuarenta', 5:'cincuenta', 6:'sesenta', 7:'setenta', 8:'ochenta', 9:'noventa'}\n",
    "    centenas = {0:'', 1:'ciento', 2:'doscientos', 3:'trescientos', 4:'cuatrocientos', 5:'quinientos', 6:'seiscientos', 7:'setecientos', 8:'ochocientos', 9:'novencientos'}\n",
    "    # Obtenemos las centenas mediante división entera por 100\n",
    "    cen = n // 100 # Otra alternativa es cen = int(str(n)[0])\n",
    "    # Obtenemos las decenas mediante división entera por 10 y luego tomando el resto de la división entera por 10\n",
    "    dec = (n // 10) % 10 # Otra alternativa es dec = int(str(n)[1])\n",
    "    # Obtenemos las unidades mediante el resto de la visión entera por 10.\n",
    "    uni = n % 10 # Otra alternativa es cen = int(str(n)[2])\n",
    "    # Definimos el nexo entre las decenas y las unidades\n",
    "    if not uni:\n",
    "        # Si no hay unidades no hay nexo.\n",
    "        nexo = ''\n",
    "    elif not dec:\n",
    "        # Si hay unidades pero no decenas no hay nexo.\n",
    "        nexo = ''\n",
    "    else:\n",
    "        # Si hay unidades y decenas el nexo es 'y'\n",
    "        nexo = ' y '\n",
    "\n",
    "    return centenas[cen] + decenas[dec] + nexo + unidades[uni]\n",
    "\n",
    "# Varias llamadas a la función de prueba\n",
    "print(647, ':', enuncia_cantidad(647))\n",
    "print(30, ':', enuncia_cantidad(30))\n",
    "print(6, ':', enuncia_cantidad(6))\n",
    "print(100, ':', enuncia_cantidad(100))\n",
    "\n"
   ]
  },
  {
   "cell_type": "markdown",
   "metadata": {},
   "source": [
    "# Solución 2"
   ]
  },
  {
   "cell_type": "code",
   "execution_count": 2,
   "metadata": {},
   "outputs": [
    {
     "name": "stdout",
     "output_type": "stream",
     "text": [
      "647 : seiscientoscuarenta y siete\n",
      "30 : treinta\n",
      "6 : seis\n",
      "100 : ciento\n"
     ]
    }
   ],
   "source": [
    "def enuncia_cantidad(n):\n",
    "    \"\"\"\n",
    "    Función que recibe una cantidad n y devuelve una cadena con la misma cantidad expresada en palabras.\n",
    "    Parámetros:\n",
    "        - n es un número entero entre 1 y 999.\n",
    "    Devuelve:\n",
    "        Una cadena con la cantidad n expresada en palabras.\n",
    "    \"\"\"\n",
    "    # Diccionarios con las traducciones de número a palabra para las unidades, decenas y centenas.\n",
    "    unidades = {0:'', 1:'uno', 2:'dos', 3:'tres', 4:'cuatro', 5:'cinco', 6:'seis', 7:'siete', 8:'ocho', 9:'nueve'}\n",
    "    decenas = {0:'', 1:'diez', 2:'veinte', 3:'treinta', 4:'cuarenta', 5:'cincuenta', 6:'sesenta', 7:'setenta', 8:'ochenta', 9:'noventa'}\n",
    "    centenas = {0:'', 1:'ciento', 2:'doscientos', 3:'trescientos', 4:'cuatrocientos', 5:'quinientos', 6:'seiscientos', 7:'setecientos', 8:'ochocientos', 9:'novencientos'}\n",
    "    # Obtenemos las centenas mediante división entera por 100\n",
    "    cen = n // 100  # Otra alternativa es cen = int(str(n)[0])\n",
    "    # Obtenemos las decenas mediante división entera por 10 y luego tomando el resto de la división entera por 10\n",
    "    dec = (n // 10) % 10  # Otra alternativa es dec = int(str(n)[1])\n",
    "    # Obtenemos las unidades mediante el resto de la visión entera por 10.\n",
    "    uni = n % 10  # Otra alternativa es cen = int(str(n)[2])\n",
    "    # Definimos el nexo entre las decenas y las unidades\n",
    "    if not uni:\n",
    "        # Si no hay unidades no hay nexo.\n",
    "        nexo = ''\n",
    "    elif not dec:\n",
    "        # Si hay unidades pero no decenas no hay nexo.\n",
    "        nexo = ''\n",
    "    else:\n",
    "        # Si hay unidades y decenas el nexo es 'y'\n",
    "        nexo = ' y '\n",
    "\n",
    "    return centenas[cen] + decenas[dec] + nexo + unidades[uni]\n",
    "\n",
    "# Varias llamadas a la función de prueba\n",
    "print(647, ':', enuncia_cantidad(647))\n",
    "print(30, ':', enuncia_cantidad(30))\n",
    "print(6, ':', enuncia_cantidad(6))\n",
    "print(100, ':', enuncia_cantidad(100))"
   ]
  },
  {
   "cell_type": "code",
   "execution_count": null,
   "metadata": {},
   "outputs": [],
   "source": []
  }
 ],
 "metadata": {
  "kernelspec": {
   "display_name": "Python 3",
   "language": "python",
   "name": "python3"
  },
  "language_info": {
   "codemirror_mode": {
    "name": "ipython",
    "version": 3
   },
   "file_extension": ".py",
   "mimetype": "text/x-python",
   "name": "python",
   "nbconvert_exporter": "python",
   "pygments_lexer": "ipython3",
   "version": "3.6.8"
  }
 },
 "nbformat": 4,
 "nbformat_minor": 2
}
