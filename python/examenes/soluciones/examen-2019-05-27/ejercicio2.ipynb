{
 "cells": [
  {
   "cell_type": "markdown",
   "metadata": {},
   "source": [
    "# Ejercicio 2\n",
    "Escribir un programa que pida al usuario un número entero $n$ y muestre por pantalla un triángulo el de más abajo.\n",
    "\n",
    "```\n",
    "    * \n",
    "   ***\n",
    "  *****\n",
    " *******\n",
    "*********\n",
    "```\n",
    "\n",
    "donde $n$ es el número de filas del triángulo."
   ]
  },
  {
   "cell_type": "markdown",
   "metadata": {},
   "source": [
    "# Solución 1"
   ]
  },
  {
   "cell_type": "code",
   "execution_count": 1,
   "metadata": {},
   "outputs": [
    {
     "name": "stdin",
     "output_type": "stream",
     "text": [
      "Introduce el número de filas del triángulo:  10\n"
     ]
    },
    {
     "name": "stdout",
     "output_type": "stream",
     "text": [
      "         *\n",
      "        ***\n",
      "       *****\n",
      "      *******\n",
      "     *********\n",
      "    ***********\n",
      "   *************\n",
      "  ***************\n",
      " *****************\n",
      "*******************\n"
     ]
    }
   ],
   "source": [
    "# Preguntamos el número de filas del triángulo y lo convertimos en un entero\n",
    "n = int(input('Introduce el número de filas del triángulo: '))\n",
    "# Recorremos con un bucle cada fila del triángulo\n",
    "for i in range(n):\n",
    "    # Añadimos con un bucle el número de espacios de cada línea para que los asteriscos aparezcan centrados\n",
    "    for j in range(n-i-1):\n",
    "        print(' ', end='')\n",
    "    # Añadimos con otro bucle el número de asteriscos de cada línea\n",
    "    for j in range(2*i+1):\n",
    "        print('*', end='')\n",
    "    print()"
   ]
  },
  {
   "cell_type": "markdown",
   "metadata": {},
   "source": [
    "# Solución 2"
   ]
  },
  {
   "cell_type": "code",
   "execution_count": 2,
   "metadata": {},
   "outputs": [
    {
     "name": "stdin",
     "output_type": "stream",
     "text": [
      "Introduce el número de filas del triángulo:  10\n"
     ]
    },
    {
     "name": "stdout",
     "output_type": "stream",
     "text": [
      "         *\n",
      "        ***\n",
      "       *****\n",
      "      *******\n",
      "     *********\n",
      "    ***********\n",
      "   *************\n",
      "  ***************\n",
      " *****************\n",
      "*******************\n"
     ]
    }
   ],
   "source": [
    "# Preguntamos el número de filas del triángulo y lo convertimos en un entero\n",
    "n = int(input('Introduce el número de filas del triángulo: '))\n",
    "# Recorremos con un bucle cada fila del triángulo\n",
    "for i in range(n):\n",
    "    # Añadimos el número de espacios de cada línea para que los asteriscos aparezcan centrados\n",
    "    print(' '*(n-i-1), end='')\n",
    "    # Añadimos el número de asteriscos de cada línea.\n",
    "    print('*'*(2*i+1))"
   ]
  },
  {
   "cell_type": "code",
   "execution_count": null,
   "metadata": {},
   "outputs": [],
   "source": []
  }
 ],
 "metadata": {
  "kernelspec": {
   "display_name": "Python 3",
   "language": "python",
   "name": "python3"
  },
  "language_info": {
   "codemirror_mode": {
    "name": "ipython",
    "version": 3
   },
   "file_extension": ".py",
   "mimetype": "text/x-python",
   "name": "python",
   "nbconvert_exporter": "python",
   "pygments_lexer": "ipython3",
   "version": "3.6.8"
  }
 },
 "nbformat": 4,
 "nbformat_minor": 2
}
