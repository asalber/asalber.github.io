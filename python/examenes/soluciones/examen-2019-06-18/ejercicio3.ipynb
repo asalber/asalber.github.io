{
 "cells": [
  {
   "cell_type": "markdown",
   "metadata": {},
   "source": [
    "# Ejercicio 3\n",
    "Un n-grama es una secuencia de $n$ caracteres consecutivos de una cadena. Por ejemplo, los 3-gramas de la cadena `'Python'` son `'Pyt'`, `'yth'`, `'tho'` y `'hon'`. Escribir un programa que pregunte por una cadena y un número entero positivo $n$ y muestre por pantalla todos los n-gramas de la cadena.\n",
    "\n"
   ]
  },
  {
   "cell_type": "markdown",
   "metadata": {},
   "source": [
    "# Solución"
   ]
  },
  {
   "cell_type": "code",
   "execution_count": 4,
   "metadata": {},
   "outputs": [
    {
     "name": "stdin",
     "output_type": "stream",
     "text": [
      "Introduce una palabra:  Python\n",
      "Introduce un número entero positivo:  3\n"
     ]
    },
    {
     "name": "stdout",
     "output_type": "stream",
     "text": [
      "Pyt\n",
      "yth\n",
      "tho\n",
      "hon\n"
     ]
    }
   ],
   "source": [
    "# Pedimos al usuario que introduzca una palabra y un número entero positivo\n",
    "palabra = input('Introduce una palabra: ')\n",
    "n = int(input('Introduce un número entero positivo: '))\n",
    "# Recorremos las posiciones de la palabra desde el inicio hasta la longitud de la palabra menos n + 1. \n",
    "# No tiene sentido seguir ya que las subcadenas después de esa posición tendrían longitud menor que n.\n",
    "for i in (range(len(palabra) - n + 1)):\n",
    "    # Mostramos el n-grama que empieza en la posición i\n",
    "    print(palabra[i:i+n])"
   ]
  },
  {
   "cell_type": "code",
   "execution_count": null,
   "metadata": {},
   "outputs": [],
   "source": []
  }
 ],
 "metadata": {
  "kernelspec": {
   "display_name": "Python 3",
   "language": "python",
   "name": "python3"
  },
  "language_info": {
   "codemirror_mode": {
    "name": "ipython",
    "version": 3
   },
   "file_extension": ".py",
   "mimetype": "text/x-python",
   "name": "python",
   "nbconvert_exporter": "python",
   "pygments_lexer": "ipython3",
   "version": "3.6.8"
  }
 },
 "nbformat": 4,
 "nbformat_minor": 2
}
