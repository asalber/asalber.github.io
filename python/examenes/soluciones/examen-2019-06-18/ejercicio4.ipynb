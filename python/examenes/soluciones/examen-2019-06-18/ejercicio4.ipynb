{
 "cells": [
  {
   "cell_type": "markdown",
   "metadata": {},
   "source": [
    "# Ejercicio 4\n",
    "Escribir un programa que elimine de una lista dada todos los elementos repetidos y muestre por pantalla los elementos de la lista sin repeticiones."
   ]
  },
  {
   "cell_type": "markdown",
   "metadata": {},
   "source": [
    "# Solución"
   ]
  },
  {
   "cell_type": "code",
   "execution_count": 2,
   "metadata": {},
   "outputs": [
    {
     "name": "stdout",
     "output_type": "stream",
     "text": [
      "2\n",
      "4\n",
      "8\n",
      "1\n",
      "3\n",
      "9\n",
      "7\n",
      "5\n"
     ]
    }
   ],
   "source": [
    "# Definimos una lista con repeticiones de prueba\n",
    "lista = [2, 4, 8, 4, 1, 1, 1, 3, 8, 9, 8, 7, 8, 4, 2, 5, 1]\n",
    "# Creamos otra lista vacía para ir añadiendo los elementos de la lista anterior sin repeticiones\n",
    "lista_sin_repeticiones = []\n",
    "# Recorremos los elementos de la lista inicial\n",
    "for i in lista:\n",
    "    # Comprobamos si el elemento no está en la lista sin repeticiones\n",
    "    if i not in lista_sin_repeticiones: # El elemento no está en la lista sin repeticiones\n",
    "        # Añadimos el elemento en la lista sin repeticiones\n",
    "        lista_sin_repeticiones.append(i)\n",
    "# Recorremos la lista sin repeticiones y mostramos sus elementos por pantalla.\n",
    "for i in lista_sin_repeticiones:\n",
    "    print(i)"
   ]
  },
  {
   "cell_type": "code",
   "execution_count": null,
   "metadata": {},
   "outputs": [],
   "source": []
  }
 ],
 "metadata": {
  "kernelspec": {
   "display_name": "Python 3",
   "language": "python",
   "name": "python3"
  },
  "language_info": {
   "codemirror_mode": {
    "name": "ipython",
    "version": 3
   },
   "file_extension": ".py",
   "mimetype": "text/x-python",
   "name": "python",
   "nbconvert_exporter": "python",
   "pygments_lexer": "ipython3",
   "version": "3.6.8"
  }
 },
 "nbformat": 4,
 "nbformat_minor": 2
}
