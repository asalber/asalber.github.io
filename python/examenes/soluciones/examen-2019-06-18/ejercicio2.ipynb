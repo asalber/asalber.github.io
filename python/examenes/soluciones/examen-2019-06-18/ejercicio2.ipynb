{
 "cells": [
  {
   "cell_type": "markdown",
   "metadata": {},
   "source": [
    "# Ejercicio 2\n",
    "A lo largo de un curso se realizan dos exámenes parciales. Para aprobar el curso la nota media debe ser mayor o igual que 5 siempre y cuando en ambos parciales se tenga al menos un 4. Escribir un programa que pregunte al usuario la nota de los dos parciales y muestre por pantalla si el alumno ha aprobado el curso o si no, y en caso de no haber aprobado, qué parcial tiene que repetir por tener menos de 4 en él.\n"
   ]
  },
  {
   "cell_type": "markdown",
   "metadata": {},
   "source": [
    "# Solución"
   ]
  },
  {
   "cell_type": "code",
   "execution_count": 3,
   "metadata": {},
   "outputs": [
    {
     "name": "stdin",
     "output_type": "stream",
     "text": [
      "Introduce la nota de la primera parte:  3\n",
      "Introduce la nota de la segunda parte:  8\n"
     ]
    },
    {
     "name": "stdout",
     "output_type": "stream",
     "text": [
      "Has suspendido\n",
      "Tienes que repetir el primer parcial\n"
     ]
    }
   ],
   "source": [
    "# Pedimos al usuario que introduzca las notas de las asignaturas y las convertimos en números reales\n",
    "nota1 = float(input('Introduce la nota de la primera parte: '))\n",
    "nota2 = float(input('Introduce la nota de la segunda parte: '))\n",
    "# Comprobamos si ambas notas son mayores o iguales que 4 y si la media es mayor o igual que 5\n",
    "if nota1 >= 4 and nota2 >= 4 and ((nota1 + nota2) / 2) >= 5:  # Las dos notas son mayores que 4 y la media mayor o igual que 5\n",
    "    print('Has aprobado')\n",
    "else: # La nota media es menor que 5 o alguna nota es menor que 4 (suspenso)\n",
    "    print('Has suspendido')\n",
    "    # Comprobamos si la primera nota es menor que 4\n",
    "    if nota1 < 4:\n",
    "        print('Tienes que repetir el primer parcial')\n",
    "    # Comprobamos si la segunda nota es menor que 4\n",
    "    if nota2 < 4:\n",
    "        print('Tienes que repetir el segundo parcial')"
   ]
  },
  {
   "cell_type": "code",
   "execution_count": null,
   "metadata": {},
   "outputs": [],
   "source": []
  }
 ],
 "metadata": {
  "kernelspec": {
   "display_name": "Python 3",
   "language": "python",
   "name": "python3"
  },
  "language_info": {
   "codemirror_mode": {
    "name": "ipython",
    "version": 3
   },
   "file_extension": ".py",
   "mimetype": "text/x-python",
   "name": "python",
   "nbconvert_exporter": "python",
   "pygments_lexer": "ipython3",
   "version": "3.6.8"
  }
 },
 "nbformat": 4,
 "nbformat_minor": 2
}
