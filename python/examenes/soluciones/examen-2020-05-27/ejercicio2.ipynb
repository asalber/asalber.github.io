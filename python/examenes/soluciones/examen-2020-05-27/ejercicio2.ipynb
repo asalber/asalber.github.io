{
 "cells": [
  {
   "cell_type": "markdown",
   "metadata": {},
   "source": [
    "# Ejercicio 2\n",
    "Escribir una función que cuente las palabras que hay en una frase y las devuelva dentro de un diccionario. También tiene que devolver una lista con las palabras que aparecen más de una vez. Por ejemplo si se le pasa la frase: 'La caracola está enterrada al lado de otra caracola de color' la función debe devolver el diccionario y la lista siguientes:\n",
    "\n",
    "```python\n",
    "{'La': 1, 'caracola': 2, 'está': 1, 'enterrada': 1, 'al': 1, 'lado': 1, 'de': 2, 'otra': 1, 'color': 1}\n",
    "['caracola', 'de']\n",
    "```\n"
   ]
  },
  {
   "cell_type": "markdown",
   "metadata": {},
   "source": [
    "# Solución"
   ]
  },
  {
   "cell_type": "code",
   "execution_count": 2,
   "metadata": {},
   "outputs": [
    {
     "output_type": "stream",
     "name": "stdout",
     "text": "Frecuencia de palabras: {'La': 1, 'caracola': 2, 'está': 1, 'enterrada': 1, 'al': 1, 'lado': 1, 'de': 2, 'otra': 1, 'color': 1}\nPalabras repetidas:  ['caracola', 'de']\n"
    }
   ],
   "source": [
    "def contar_palabras(frase):\n",
    "    ''' Función que recibe una frase y devuelve la frecuencia de las palabras en la frase y las palabras que se repiten.\n",
    "\n",
    "    Parámetros:\n",
    "        - frase: Es una cadena de caracteres.\n",
    "    Devuelve: Una tupla con un diccionario con las palabras y su frecuencia, y una lista con las palabras que se repiten.\n",
    "    '''\n",
    "    # Dividimos la frase por el espacio en blanco y guardamos las palabras en una lista.\n",
    "    palabras = frase.strip().split()\n",
    "    # Creamos un diccionario vacío para guardar las frecuencias de las palabras.\n",
    "    frecuencias = {}\n",
    "    # Recorremos la lista de palabras y vamos contando sus frecuencias.\n",
    "    for palabra in palabras:\n",
    "        # Si la palabra no está todavía en le diccionario, la añadimos con frecuencia 0.\n",
    "        if palabra not in frecuencias:\n",
    "            frecuencias[palabra] = 0\n",
    "        # Incrementamos la frecuencia de la palabra en el diccionario.\n",
    "        frecuencias[palabra] += 1\n",
    "    # Creamos una lista vacía para guardar las palabras repetidas.\n",
    "    repetidas=[]\n",
    "    # Recorremos el diccionario de frecuencias\n",
    "    for clave, valor in frecuencias.items():\n",
    "        # Si la frecuencia de una palabra es mayor que 1 la añadimos a la lista.\n",
    "        if valor > 1: repetidas.append(clave)\n",
    "    # Devolvemos el diccionario de frecuencias y la lista de palabras repetidas.\n",
    "    return frecuencias, repetidas\n",
    "\n",
    "# Ejemplo\n",
    "freq, rep = contar_palabras('La caracola está enterrada al lado de otra caracola de color')\n",
    "print('Frecuencia de palabras:', freq)\n",
    "print('Palabras repetidas: ', rep)\n",
    "\n"
   ]
  },
  {
   "cell_type": "markdown",
   "metadata": {},
   "source": [
    "# Solución 2"
   ]
  },
  {
   "cell_type": "code",
   "execution_count": 5,
   "metadata": {},
   "outputs": [
    {
     "output_type": "stream",
     "name": "stdout",
     "text": "Frecuencia de palabras: {'La': 1, 'caracola': 2, 'está': 1, 'enterrada': 1, 'al': 1, 'lado': 1, 'de': 2, 'otra': 1, 'color': 1}\nPalabras repetidas:  ['caracola', 'de']\n"
    }
   ],
   "source": [
    "def contar_palabras(frase):\n",
    "    ''' Función que recibe una frase y devuelve la frecuencia de las palabras en la frase y las palabras que se repiten.\n",
    "\n",
    "    Parámetros:\n",
    "        - frase: Es una cadena de caracteres.\n",
    "    Devuelve: Una tupla con un diccionario con las palabras y su frecuencia, y una lista con las palabras que se repiten.\n",
    "    '''\n",
    "    # Dividimos la frase por el espacio en blanco y guardamos las palabras en una lista.\n",
    "    palabras = frase.strip().split()\n",
    "    # Recorremos la lista de palabras, contamos sus frecuencias y las añadimos a un diccionario.\n",
    "    frecuencias = {palabra:palabras.count(palabra) for palabra in palabras}\n",
    "    # Recorremos el diccionario de frecuencias y generamos la lista con las palabras con frecuencia mayor que 1.\n",
    "    repetidas = [palabra for palabra, frecuencia in frecuencias.items() if frecuencia > 1]\n",
    "    # Devolvemos el diccionario de frecuencias y la lista de palabras repetidas.\n",
    "    return frecuencias, repetidas\n",
    "\n",
    "# Ejemplo\n",
    "freq, rep = contar_palabras('La caracola está enterrada al lado de otra caracola de color')\n",
    "print('Frecuencia de palabras:', freq)\n",
    "print('Palabras repetidas: ', rep)"
   ]
  },
  {
   "cell_type": "code",
   "execution_count": null,
   "metadata": {},
   "outputs": [],
   "source": []
  }
 ],
 "metadata": {
  "kernelspec": {
   "display_name": "Python 3",
   "language": "python",
   "name": "python3"
  },
  "language_info": {
   "codemirror_mode": {
    "name": "ipython",
    "version": 3
   },
   "file_extension": ".py",
   "mimetype": "text/x-python",
   "name": "python",
   "nbconvert_exporter": "python",
   "pygments_lexer": "ipython3",
   "version": "3.7.6-final"
  }
 },
 "nbformat": 4,
 "nbformat_minor": 2
}