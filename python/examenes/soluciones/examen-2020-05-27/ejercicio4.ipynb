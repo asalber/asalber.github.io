{
 "cells": [
  {
   "cell_type": "markdown",
   "metadata": {},
   "source": [
    "# Ejercicio 4\n",
    "\n",
    "El fichero [horas-trabajo.csv] contiene el número de horas mensuales trabajadas por los empleados de una empresa durante el primer cuatrimestre. Crear un programa que realice las siguientes operaciones utilizando la librería Pandas:\n",
    "\n",
    "1. Crear un DataFrame leyendo el fichero desde internet con la url http://aprendeconalf.es/python/examenes/soluciones/examen-2020-05-27/horas-trabajo.csv. Obsérvese que el separador de campos es el punto y coma.\n",
    "2. Mostrar por pantalla una serie con el número total de horas trabajadas para cada mes.\n",
    "3. Mostrar por pantalla una serie con el número de operarios de cada departamento.\n",
    "4. Mostrar por pantalla el número de empleados que han trabajado todos los meses, es decir, que tienen un número de horas todos los meses del cuatrimestre.\n",
    "5. Convertir el DataFrame a formato largo, de manera que todas las horas aparezcan en la misma columna.\n",
    "6. Mostrar por pantalla una serie con el número medio de horas trabajadas en cada departamento.\n",
    "7. Mostrar por pantalla una serie con el total de horas trabajadas de cada operario.\n",
    "8. Mostrar por pantalla una serie con los salarios de todos los operarios ordenados de mayor a menor."
   ]
  },
  {
   "cell_type": "markdown",
   "metadata": {},
   "source": [
    "# Solución 1"
   ]
  },
  {
   "cell_type": "code",
   "execution_count": 1,
   "metadata": {},
   "outputs": [
    {
     "output_type": "execute_result",
     "data": {
      "text/plain": "     Id Departamento  Enero  Febrero  Marzo  Abril\n0   OP1  Proveedores    180    160.0  140.0  180.0\n1   OP2       Ventas    120    140.0    NaN  100.0\n2   OP3       Ventas     80     90.0   80.0   80.0\n3   OP5           IT    180    170.0  180.0  180.0\n4   OP6    Marketing    100      NaN  100.0    NaN\n5   OP7       Ventas    160    160.0  160.0  160.0\n6   OP8  Proveedores    100     80.0  110.0   80.0\n7   OP9           IT     80     80.0   80.0   80.0\n8  OP10       Ventas    180    160.0  180.0  180.0",
      "text/html": "<div>\n<style scoped>\n    .dataframe tbody tr th:only-of-type {\n        vertical-align: middle;\n    }\n\n    .dataframe tbody tr th {\n        vertical-align: top;\n    }\n\n    .dataframe thead th {\n        text-align: right;\n    }\n</style>\n<table border=\"1\" class=\"dataframe\">\n  <thead>\n    <tr style=\"text-align: right;\">\n      <th></th>\n      <th>Id</th>\n      <th>Departamento</th>\n      <th>Enero</th>\n      <th>Febrero</th>\n      <th>Marzo</th>\n      <th>Abril</th>\n    </tr>\n  </thead>\n  <tbody>\n    <tr>\n      <th>0</th>\n      <td>OP1</td>\n      <td>Proveedores</td>\n      <td>180</td>\n      <td>160.0</td>\n      <td>140.0</td>\n      <td>180.0</td>\n    </tr>\n    <tr>\n      <th>1</th>\n      <td>OP2</td>\n      <td>Ventas</td>\n      <td>120</td>\n      <td>140.0</td>\n      <td>NaN</td>\n      <td>100.0</td>\n    </tr>\n    <tr>\n      <th>2</th>\n      <td>OP3</td>\n      <td>Ventas</td>\n      <td>80</td>\n      <td>90.0</td>\n      <td>80.0</td>\n      <td>80.0</td>\n    </tr>\n    <tr>\n      <th>3</th>\n      <td>OP5</td>\n      <td>IT</td>\n      <td>180</td>\n      <td>170.0</td>\n      <td>180.0</td>\n      <td>180.0</td>\n    </tr>\n    <tr>\n      <th>4</th>\n      <td>OP6</td>\n      <td>Marketing</td>\n      <td>100</td>\n      <td>NaN</td>\n      <td>100.0</td>\n      <td>NaN</td>\n    </tr>\n    <tr>\n      <th>5</th>\n      <td>OP7</td>\n      <td>Ventas</td>\n      <td>160</td>\n      <td>160.0</td>\n      <td>160.0</td>\n      <td>160.0</td>\n    </tr>\n    <tr>\n      <th>6</th>\n      <td>OP8</td>\n      <td>Proveedores</td>\n      <td>100</td>\n      <td>80.0</td>\n      <td>110.0</td>\n      <td>80.0</td>\n    </tr>\n    <tr>\n      <th>7</th>\n      <td>OP9</td>\n      <td>IT</td>\n      <td>80</td>\n      <td>80.0</td>\n      <td>80.0</td>\n      <td>80.0</td>\n    </tr>\n    <tr>\n      <th>8</th>\n      <td>OP10</td>\n      <td>Ventas</td>\n      <td>180</td>\n      <td>160.0</td>\n      <td>180.0</td>\n      <td>180.0</td>\n    </tr>\n  </tbody>\n</table>\n</div>"
     },
     "metadata": {},
     "execution_count": 1
    }
   ],
   "source": [
    "import pandas as pd \n",
    "\n",
    "# Apartado 1\n",
    "# Crear un DataFrame leyendo el fichero desde internet.\n",
    "operarios = pd.read_csv('http://aprendeconalf.es/python/examenes/soluciones/examen-2020-05-27/horas-trabajo.csv', sep = ';')\n",
    "operarios"
   ]
  },
  {
   "cell_type": "code",
   "execution_count": 2,
   "metadata": {},
   "outputs": [
    {
     "output_type": "stream",
     "name": "stdout",
     "text": "Número de horas trabajadas por meses\nEnero      1180.0\nFebrero    1040.0\nMarzo      1030.0\ndtype: float64\n"
    }
   ],
   "source": [
    "# Apartado 2\n",
    "# Mostrar por pantalla una serie con el número total de horas trabajadas para cada mes.\n",
    "print('Número de horas trabajadas por meses')\n",
    "print(operarios[['Enero', 'Febrero', 'Marzo']].sum())"
   ]
  },
  {
   "cell_type": "code",
   "execution_count": 8,
   "metadata": {},
   "outputs": [
    {
     "output_type": "stream",
     "name": "stdout",
     "text": "Número de operarios por departamentos\nVentas         4\nIT             2\nProveedores    2\nMarketing      1\nName: Departamento, dtype: int64\n"
    }
   ],
   "source": [
    "# Apartado 3\n",
    "# Mostrar por pantalla una serie con el número de operarios de cada departamento.\n",
    "print('Número de operarios por departamentos')\n",
    "print(operarios.Departamento.value_counts())"
   ]
  },
  {
   "cell_type": "code",
   "execution_count": 4,
   "metadata": {},
   "outputs": [
    {
     "output_type": "stream",
     "name": "stdout",
     "text": "Número operarios que han trabajado todos los meses:  7\n"
    }
   ],
   "source": [
    "# Apartado 4\n",
    "# Mostrar por pantalla el número de empleados que han trabajado todos los meses, es decir, que tienen un número de horas todos los meses del cuatrimestre.\n",
    "print('Número operarios que han trabajado todos los meses: ', operarios.dropna().shape[0])\n"
   ]
  },
  {
   "cell_type": "code",
   "execution_count": 6,
   "metadata": {},
   "outputs": [
    {
     "output_type": "stream",
     "name": "stdout",
     "text": "DataFrame en formato largo\n"
    },
    {
     "output_type": "execute_result",
     "data": {
      "text/plain": "      Id Departamento      Mes  Horas\n0    OP1  Proveedores    Enero  180.0\n1    OP2       Ventas    Enero  120.0\n2    OP3       Ventas    Enero   80.0\n3    OP5           IT    Enero  180.0\n4    OP6    Marketing    Enero  100.0\n5    OP7       Ventas    Enero  160.0\n6    OP8  Proveedores    Enero  100.0\n7    OP9           IT    Enero   80.0\n8   OP10       Ventas    Enero  180.0\n9    OP1  Proveedores  Febrero  160.0\n10   OP2       Ventas  Febrero  140.0\n11   OP3       Ventas  Febrero   90.0\n12   OP5           IT  Febrero  170.0\n13   OP6    Marketing  Febrero    NaN\n14   OP7       Ventas  Febrero  160.0\n15   OP8  Proveedores  Febrero   80.0\n16   OP9           IT  Febrero   80.0\n17  OP10       Ventas  Febrero  160.0\n18   OP1  Proveedores    Marzo  140.0\n19   OP2       Ventas    Marzo    NaN\n20   OP3       Ventas    Marzo   80.0\n21   OP5           IT    Marzo  180.0\n22   OP6    Marketing    Marzo  100.0\n23   OP7       Ventas    Marzo  160.0\n24   OP8  Proveedores    Marzo  110.0\n25   OP9           IT    Marzo   80.0\n26  OP10       Ventas    Marzo  180.0\n27   OP1  Proveedores    Abril  180.0\n28   OP2       Ventas    Abril  100.0\n29   OP3       Ventas    Abril   80.0\n30   OP5           IT    Abril  180.0\n31   OP6    Marketing    Abril    NaN\n32   OP7       Ventas    Abril  160.0\n33   OP8  Proveedores    Abril   80.0\n34   OP9           IT    Abril   80.0\n35  OP10       Ventas    Abril  180.0",
      "text/html": "<div>\n<style scoped>\n    .dataframe tbody tr th:only-of-type {\n        vertical-align: middle;\n    }\n\n    .dataframe tbody tr th {\n        vertical-align: top;\n    }\n\n    .dataframe thead th {\n        text-align: right;\n    }\n</style>\n<table border=\"1\" class=\"dataframe\">\n  <thead>\n    <tr style=\"text-align: right;\">\n      <th></th>\n      <th>Id</th>\n      <th>Departamento</th>\n      <th>Mes</th>\n      <th>Horas</th>\n    </tr>\n  </thead>\n  <tbody>\n    <tr>\n      <th>0</th>\n      <td>OP1</td>\n      <td>Proveedores</td>\n      <td>Enero</td>\n      <td>180.0</td>\n    </tr>\n    <tr>\n      <th>1</th>\n      <td>OP2</td>\n      <td>Ventas</td>\n      <td>Enero</td>\n      <td>120.0</td>\n    </tr>\n    <tr>\n      <th>2</th>\n      <td>OP3</td>\n      <td>Ventas</td>\n      <td>Enero</td>\n      <td>80.0</td>\n    </tr>\n    <tr>\n      <th>3</th>\n      <td>OP5</td>\n      <td>IT</td>\n      <td>Enero</td>\n      <td>180.0</td>\n    </tr>\n    <tr>\n      <th>4</th>\n      <td>OP6</td>\n      <td>Marketing</td>\n      <td>Enero</td>\n      <td>100.0</td>\n    </tr>\n    <tr>\n      <th>5</th>\n      <td>OP7</td>\n      <td>Ventas</td>\n      <td>Enero</td>\n      <td>160.0</td>\n    </tr>\n    <tr>\n      <th>6</th>\n      <td>OP8</td>\n      <td>Proveedores</td>\n      <td>Enero</td>\n      <td>100.0</td>\n    </tr>\n    <tr>\n      <th>7</th>\n      <td>OP9</td>\n      <td>IT</td>\n      <td>Enero</td>\n      <td>80.0</td>\n    </tr>\n    <tr>\n      <th>8</th>\n      <td>OP10</td>\n      <td>Ventas</td>\n      <td>Enero</td>\n      <td>180.0</td>\n    </tr>\n    <tr>\n      <th>9</th>\n      <td>OP1</td>\n      <td>Proveedores</td>\n      <td>Febrero</td>\n      <td>160.0</td>\n    </tr>\n    <tr>\n      <th>10</th>\n      <td>OP2</td>\n      <td>Ventas</td>\n      <td>Febrero</td>\n      <td>140.0</td>\n    </tr>\n    <tr>\n      <th>11</th>\n      <td>OP3</td>\n      <td>Ventas</td>\n      <td>Febrero</td>\n      <td>90.0</td>\n    </tr>\n    <tr>\n      <th>12</th>\n      <td>OP5</td>\n      <td>IT</td>\n      <td>Febrero</td>\n      <td>170.0</td>\n    </tr>\n    <tr>\n      <th>13</th>\n      <td>OP6</td>\n      <td>Marketing</td>\n      <td>Febrero</td>\n      <td>NaN</td>\n    </tr>\n    <tr>\n      <th>14</th>\n      <td>OP7</td>\n      <td>Ventas</td>\n      <td>Febrero</td>\n      <td>160.0</td>\n    </tr>\n    <tr>\n      <th>15</th>\n      <td>OP8</td>\n      <td>Proveedores</td>\n      <td>Febrero</td>\n      <td>80.0</td>\n    </tr>\n    <tr>\n      <th>16</th>\n      <td>OP9</td>\n      <td>IT</td>\n      <td>Febrero</td>\n      <td>80.0</td>\n    </tr>\n    <tr>\n      <th>17</th>\n      <td>OP10</td>\n      <td>Ventas</td>\n      <td>Febrero</td>\n      <td>160.0</td>\n    </tr>\n    <tr>\n      <th>18</th>\n      <td>OP1</td>\n      <td>Proveedores</td>\n      <td>Marzo</td>\n      <td>140.0</td>\n    </tr>\n    <tr>\n      <th>19</th>\n      <td>OP2</td>\n      <td>Ventas</td>\n      <td>Marzo</td>\n      <td>NaN</td>\n    </tr>\n    <tr>\n      <th>20</th>\n      <td>OP3</td>\n      <td>Ventas</td>\n      <td>Marzo</td>\n      <td>80.0</td>\n    </tr>\n    <tr>\n      <th>21</th>\n      <td>OP5</td>\n      <td>IT</td>\n      <td>Marzo</td>\n      <td>180.0</td>\n    </tr>\n    <tr>\n      <th>22</th>\n      <td>OP6</td>\n      <td>Marketing</td>\n      <td>Marzo</td>\n      <td>100.0</td>\n    </tr>\n    <tr>\n      <th>23</th>\n      <td>OP7</td>\n      <td>Ventas</td>\n      <td>Marzo</td>\n      <td>160.0</td>\n    </tr>\n    <tr>\n      <th>24</th>\n      <td>OP8</td>\n      <td>Proveedores</td>\n      <td>Marzo</td>\n      <td>110.0</td>\n    </tr>\n    <tr>\n      <th>25</th>\n      <td>OP9</td>\n      <td>IT</td>\n      <td>Marzo</td>\n      <td>80.0</td>\n    </tr>\n    <tr>\n      <th>26</th>\n      <td>OP10</td>\n      <td>Ventas</td>\n      <td>Marzo</td>\n      <td>180.0</td>\n    </tr>\n    <tr>\n      <th>27</th>\n      <td>OP1</td>\n      <td>Proveedores</td>\n      <td>Abril</td>\n      <td>180.0</td>\n    </tr>\n    <tr>\n      <th>28</th>\n      <td>OP2</td>\n      <td>Ventas</td>\n      <td>Abril</td>\n      <td>100.0</td>\n    </tr>\n    <tr>\n      <th>29</th>\n      <td>OP3</td>\n      <td>Ventas</td>\n      <td>Abril</td>\n      <td>80.0</td>\n    </tr>\n    <tr>\n      <th>30</th>\n      <td>OP5</td>\n      <td>IT</td>\n      <td>Abril</td>\n      <td>180.0</td>\n    </tr>\n    <tr>\n      <th>31</th>\n      <td>OP6</td>\n      <td>Marketing</td>\n      <td>Abril</td>\n      <td>NaN</td>\n    </tr>\n    <tr>\n      <th>32</th>\n      <td>OP7</td>\n      <td>Ventas</td>\n      <td>Abril</td>\n      <td>160.0</td>\n    </tr>\n    <tr>\n      <th>33</th>\n      <td>OP8</td>\n      <td>Proveedores</td>\n      <td>Abril</td>\n      <td>80.0</td>\n    </tr>\n    <tr>\n      <th>34</th>\n      <td>OP9</td>\n      <td>IT</td>\n      <td>Abril</td>\n      <td>80.0</td>\n    </tr>\n    <tr>\n      <th>35</th>\n      <td>OP10</td>\n      <td>Ventas</td>\n      <td>Abril</td>\n      <td>180.0</td>\n    </tr>\n  </tbody>\n</table>\n</div>"
     },
     "metadata": {},
     "execution_count": 6
    }
   ],
   "source": [
    "# Apartado 5\n",
    "# Convertir el DataFrame a formato largo, de manera que todas las horas aparezcan en la misma columna.\n",
    "operarios_largo = operarios.melt(id_vars=['Id', 'Departamento'], var_name='Mes', value_name='Horas')\n",
    "print(\"DataFrame en formato largo\")\n",
    "operarios_largo\n"
   ]
  },
  {
   "cell_type": "code",
   "execution_count": 9,
   "metadata": {},
   "outputs": [
    {
     "output_type": "stream",
     "name": "stdout",
     "text": "Media de horas mensuales trabajadas por departamentos\nDepartamento\nIT             128.750000\nMarketing      100.000000\nProveedores    128.750000\nVentas         135.333333\nName: Horas, dtype: float64\n"
    }
   ],
   "source": [
    "# Apartado 6\n",
    "# Mostrar por pantalla una serie con el número medio de horas trabajadas en cada departamento.\n",
    "print(\"Media de horas mensuales trabajadas por departamentos\")\n",
    "print(operarios_largo.groupby('Departamento').Horas.mean())"
   ]
  },
  {
   "cell_type": "code",
   "execution_count": 10,
   "metadata": {},
   "outputs": [
    {
     "output_type": "stream",
     "name": "stdout",
     "text": "Total de horas trabajadas de cada operario\nId\nOP1     660.0\nOP10    700.0\nOP2     360.0\nOP3     330.0\nOP5     710.0\nOP6     200.0\nOP7     640.0\nOP8     370.0\nOP9     320.0\nName: Horas, dtype: float64\n"
    }
   ],
   "source": [
    "# Apartado 7\n",
    "# Mostrar por pantalla una serie con el total de horas trabajadas de cada operario.\n",
    "print(\"Total de horas trabajadas de cada operario\")\n",
    "print(operarios_largo.groupby('Id').Horas.sum())\n"
   ]
  },
  {
   "cell_type": "code",
   "execution_count": 11,
   "metadata": {},
   "outputs": [
    {
     "output_type": "stream",
     "name": "stdout",
     "text": "Salarios de los operarios\nId\nOP5     7100.0\nOP10    7000.0\nOP1     6600.0\nOP7     6400.0\nOP8     3700.0\nOP2     3600.0\nOP3     3300.0\nOP9     3200.0\nOP6     2000.0\nName: Horas, dtype: float64\n"
    }
   ],
   "source": [
    "# Apartado 8\n",
    "# Mostrar por pantalla una serie con los salarios de todos los operarios ordenados de mayor a menor.\n",
    "print(\"Salarios de los operarios\")\n",
    "print((operarios_largo.groupby('Id').Horas.sum()*10).sort_values(ascending = False))"
   ]
  },
  {
   "cell_type": "code",
   "execution_count": null,
   "metadata": {},
   "outputs": [],
   "source": []
  }
 ],
 "metadata": {
  "kernelspec": {
   "display_name": "Python 3",
   "language": "python",
   "name": "python3"
  },
  "language_info": {
   "codemirror_mode": {
    "name": "ipython",
    "version": 3
   },
   "file_extension": ".py",
   "mimetype": "text/x-python",
   "name": "python",
   "nbconvert_exporter": "python",
   "pygments_lexer": "ipython3",
   "version": "3.7.6-final"
  }
 },
 "nbformat": 4,
 "nbformat_minor": 2
}