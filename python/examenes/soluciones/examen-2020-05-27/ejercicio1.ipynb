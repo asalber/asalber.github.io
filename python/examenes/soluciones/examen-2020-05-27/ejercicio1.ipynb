{
 "cells": [
  {
   "cell_type": "markdown",
   "metadata": {},
   "source": [
    "# Ejercicio 1\n",
    "\n",
    "Escribir un programa al que al introducirle la altura de una línea sea capaz de dibujarla en diagonal con asteriscos. Por ejemplo, si introducimos `altura = 5` dibujaría lo siguiente: \n",
    "\n",
    "```python\n",
    "    *\n",
    "   *\n",
    "  *\n",
    " *\n",
    "*\n",
    "```"
   ]
  },
  {
   "cell_type": "markdown",
   "metadata": {},
   "source": [
    "# Solución 1"
   ]
  },
  {
   "cell_type": "code",
   "execution_count": 2,
   "metadata": {},
   "outputs": [
    {
     "output_type": "stream",
     "name": "stdout",
     "text": "*\n   *\n  *\n *\n*\n"
    }
   ],
   "source": [
    "altura = int(input('Altura de la línea: '))\n",
    "for i in range(altura, 0, -1):\n",
    "    print(' ' * (i-1) + '*')"
   ]
  },
  {
   "cell_type": "markdown",
   "metadata": {},
   "source": [
    "# Solución 2"
   ]
  },
  {
   "cell_type": "code",
   "execution_count": 3,
   "metadata": {},
   "outputs": [
    {
     "output_type": "stream",
     "name": "stdout",
     "text": "*\n   *\n  *\n *\n*\n"
    }
   ],
   "source": [
    "altura = int(input(\"Altura de la línea: \"))\n",
    "for i in range(altura, 0, -1):\n",
    "    for j in range(i - 1):\n",
    "        print(\" \", end=\"\")\n",
    "    print(\"*\")"
   ]
  }
 ],
 "metadata": {
  "kernelspec": {
   "display_name": "Python 3",
   "language": "python",
   "name": "python3"
  },
  "language_info": {
   "codemirror_mode": {
    "name": "ipython",
    "version": 3
   },
   "file_extension": ".py",
   "mimetype": "text/x-python",
   "name": "python",
   "nbconvert_exporter": "python",
   "pygments_lexer": "ipython3",
   "version": "3.7.6-final"
  }
 },
 "nbformat": 4,
 "nbformat_minor": 2
}