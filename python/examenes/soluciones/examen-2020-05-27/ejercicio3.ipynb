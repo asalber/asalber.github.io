{
 "cells": [
  {
   "cell_type": "markdown",
   "metadata": {},
   "source": [
    "# Ejercicio 3\n",
    "\n",
    "El fichero [horas-trabajo.csv](horas-trabajo.csv) contiene el número de horas mensuales trabajadas por los empleados de una empresa durante el primer cuatrimestre. Crear un programa que realice las siguientes operaciones sin utilizar la librería Pandas:\n",
    "\n",
    "1. Leer el fichero de internet http://aprendeconalf.es/python/examenes/soluciones/examen-2020-05-27/horas-trabajo.csv y crear una lista con las líneas del fichero.\n",
    "2. Mostrar por pantalla las horas totales del primer operario.\n",
    "3. Crear un diccionario de diccionarios tal que las claves del diccionario principal serán los identificadores de los operarios y sus valores serán, a su vez, otros diccionarios cuyas claves serán los meses y sus valores las horas trabajadas en esos meses para cada operario. Es decir, un diccionario como el siguiente:\n",
    "{'OP1': {'Enero': '180', 'Febrero': '160', 'Marzo': '140', 'Abril': '180'},\n",
    "'OP2': {'Enero': '120', 'Febrero': '140', 'Marzo': '', 'Abril': '100'}, ... }\n",
    "4. Crear una función que reciba la base de datos de las horas trabajadas (puede utilizarse el diccionario del apartado anterior u otra estructura de datos), el identificador de un operario y el precio de la hora, y devuelva una tupla con el número totales de horas trabajadas y el salario de ese operario.\n"
   ]
  },
  {
   "cell_type": "markdown",
   "metadata": {},
   "source": [
    "# Solución 1"
   ]
  },
  {
   "cell_type": "code",
   "execution_count": 2,
   "metadata": {},
   "outputs": [
    {
     "output_type": "stream",
     "name": "stdout",
     "text": "Lista de líneas del fichero\n['Id;Departamento;Enero;Febrero;Marzo;Abril', 'OP1;Proveedores;180;160;140;180', 'OP2;Ventas;120;140;;100', 'OP3;Ventas;80;90;80;80', 'OP5;IT;180;170;180;180', 'OP6;Marketing;100;;100;', 'OP7;Ventas;160;160;160;160', 'OP8;Proveedores;100;80;110;80', 'OP9;IT;80;80;80;80', 'OP10;Ventas;180;160;180;180']\n"
    }
   ],
   "source": [
    "# Apartado 1\n",
    "from urllib import request\n",
    "from urllib.error import URLError\n",
    "# Leemos el fichero desde la url.\n",
    "try:\n",
    "    f = request.urlopen('http://aprendeconalf.es/python/examenes/soluciones/examen-2020-05-27/horas-trabajo.csv')\n",
    "    # El fichero no existe\n",
    "except URLError:\n",
    "    print('¡La url no existe!')\n",
    "else:\n",
    "    # Guardamos cada línea en una lista\n",
    "    lineas = f.read().decode('utf-8').splitlines()\n",
    "    print(\"Lista de líneas del fichero\")\n",
    "    print(lineas)"
   ]
  },
  {
   "cell_type": "code",
   "execution_count": 3,
   "metadata": {},
   "outputs": [
    {
     "output_type": "stream",
     "name": "stdout",
     "text": "Horas totales del primer operario: 660\n"
    }
   ],
   "source": [
    "# Apartado 2\n",
    "# Mostrar por pantalla las horas totales del primer operario.\n",
    "# Dividimo la segunda línea de la lista por el separador ; y guardamos cada campo en una lista.\n",
    "op1 = lineas[1].split(';')\n",
    "# Recorremos la lista desde la posición 2 hasta el final, convertimos las horas en enteros y creamos una lista con las horas.\n",
    "horas_op1 = [int(i) for i in op1[2:]]\n",
    "# Sumamos las horas de la lista.\n",
    "print('Horas totales del primer operario:', sum(horas_op1))"
   ]
  },
  {
   "cell_type": "code",
   "execution_count": 4,
   "metadata": {},
   "outputs": [
    {
     "output_type": "stream",
     "name": "stdout",
     "text": "Diccionario de diccionaros con las horas mensuales de cada operario\n{'OP1': {'Enero': '180', 'Febrero': '160', 'Marzo': '140', 'Abril': '180'}, 'OP2': {'Enero': '120', 'Febrero': '140', 'Marzo': '', 'Abril': '100'}, 'OP3': {'Enero': '80', 'Febrero': '90', 'Marzo': '80', 'Abril': '80'}, 'OP5': {'Enero': '180', 'Febrero': '170', 'Marzo': '180', 'Abril': '180'}, 'OP6': {'Enero': '100', 'Febrero': '', 'Marzo': '100', 'Abril': ''}, 'OP7': {'Enero': '160', 'Febrero': '160', 'Marzo': '160', 'Abril': '160'}, 'OP8': {'Enero': '100', 'Febrero': '80', 'Marzo': '110', 'Abril': '80'}, 'OP9': {'Enero': '80', 'Febrero': '80', 'Marzo': '80', 'Abril': '80'}, 'OP10': {'Enero': '180', 'Febrero': '160', 'Marzo': '180', 'Abril': '180'}}\n"
    }
   ],
   "source": [
    "# Apartado 3\n",
    "# Crear un diccionario de diccionarios tal que las claves del diccionario principal serán los identificadores de los operarios y sus valores serán, a su vez, otros diccionarios cuyas claves serán los meses y sus valores las horas trabajadas en esos meses para cada operario.\n",
    "# Extraemos los nombres de columnas de la primera fila\n",
    "columnas = lineas[0].split(';')\n",
    "# Creamos el diccionario para guardar las horas de cada operario\n",
    "operarios = {}\n",
    "# Recorremos las líneas del fichero desde la primera hasta el final\n",
    "for linea in lineas[1:]:\n",
    "  # Creamos un diccionario para guardar las horas mensuales de cada operario\n",
    "  operario = {}\n",
    "  # Dividimos las línea en campos utilizando la coma como separador\n",
    "  campos = linea.split(';')\n",
    "  # Recorremos la lista de campos desde el tercer campo hasta el final (los dos primeros campos no contienen horas)\n",
    "  for i in range(2, len(campos)):\n",
    "    # Añadimos al diccionario las horas de cada mes\n",
    "    operario[columnas[i]] = campos[i]\n",
    "  # Añadimos el diccionario con las horas de un operario al diccionario de operarios\n",
    "  operarios[campos[0]] = operario\n",
    "print('Diccionario de diccionaros con las horas mensuales de cada operario')\n",
    "print(operarios)"
   ]
  },
  {
   "cell_type": "code",
   "execution_count": 5,
   "metadata": {},
   "outputs": [
    {
     "output_type": "stream",
     "name": "stdout",
     "text": "Horas trabajadas del segundo operario: 360\nSalario del segundo operario: 3600\n"
    }
   ],
   "source": [
    "# Apartado 4\n",
    "# Crear una función que reciba la base de datos de las horas trabajadas (puede utilizarse el diccionario del apartado anterior u otra estructura de datos), el identificador de un operario y el precio de la hora, y devuelva una tupla con el número totales de horas trabajadas y el salario de ese operario. \n",
    "def salario(horas, operario, precio):\n",
    "    ''' Función que recibe un diccionario de diccionarios con las horas mensuales trabajadas por los operarios de la empresa y devuelve el salario de un operario dado.\n",
    "\n",
    "    Parámetrso:\n",
    "        - horas: Es un diccionari de diccionarios con las horas mensuales de cada operario.\n",
    "        - operario: Es una cadena con el identificador del operario.\n",
    "        - precio: Es un número real con el precio de la hora.\n",
    "    Devuelve: El salario del opeario dado.\n",
    "    '''        \n",
    "    # Creamos una lista con las horas correspondientes al operario. Las horas se convierten a enteros salvo si no hay horas. \n",
    "    horas = [int(i) for i in horas[operario].values() if i != '']\n",
    "    # Sumamos el total de horas\n",
    "    total_horas = sum(horas)\n",
    "    # Calculamos el salario multiplicando el total de horas por el precio.\n",
    "    salario = total_horas * precio\n",
    "    return total_horas, salario\n",
    "\n",
    "# Ejemplo operario 2\n",
    "horas, salario = salario(operarios, 'OP2', 10)\n",
    "print('Horas trabajadas del segundo operario:', horas)\n",
    "print('Salario del segundo operario:', salario)"
   ]
  },
  {
   "cell_type": "code",
   "execution_count": null,
   "metadata": {},
   "outputs": [],
   "source": []
  }
 ],
 "metadata": {
  "kernelspec": {
   "display_name": "Python 3",
   "language": "python",
   "name": "python3"
  },
  "language_info": {
   "codemirror_mode": {
    "name": "ipython",
    "version": 3
   },
   "file_extension": ".py",
   "mimetype": "text/x-python",
   "name": "python",
   "nbconvert_exporter": "python",
   "pygments_lexer": "ipython3",
   "version": "3.7.6-final"
  }
 },
 "nbformat": 4,
 "nbformat_minor": 2
}